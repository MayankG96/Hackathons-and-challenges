{
 "cells": [
  {
   "cell_type": "markdown",
   "execution_count": null,
   "metadata": {
    "id": "rMGbJsX_Xhyf"
   },
   "source": [
    "**Hackathon 5:E-commerce Price Prediction**\n",
    "\n",
    "**Platform**: Analytics India Magazine\n",
    "\n",
    "**Link**:[E-commerce Price Prediction](https://www.machinehack.com/course/e-commerce-price-prediction-weekend-hackathon-8/)\n",
    "\n",
    "**Pulic Leaderboard Rank**:7\n",
    "\n",
    "**Private Leaderboard Rank**:9"
   ]
  },
  {
   "cell_type": "markdown",
   "execution_count": null,
   "metadata": {
    "id": "FsZf8XdJiTGB"
   },
   "source": [
    "## Description : \n",
    "\n",
    "E-commerce platforms have been in existence for more than 2 decades now. The popularity and its preference as a common choice for buying and selling essential products have grown rapidly and exponentially over the past few years. E-commerce has impacted the lifestyle of common people to a huge extent. Many such platforms are competing over each other for dominance by providing consumer goods at a competitive price. In this hackathon, we challenge data science enthusiasts to predict the price of commodities on an e-commerce platform.\n",
    "\n",
    "## AIM:\n",
    "\n",
    "**Given are 7 distinguishing factors that can influence the price of a product on an e-commerce platform. Your objective as a data scientist is to build a machine learning model that can accurately predict the price of a product based on the given factors.**"
   ]
  },
  {
   "cell_type": "markdown",
   "execution_count": null,
   "metadata": {
    "id": "Fm0_4byoiw7q"
   },
   "source": [
    "# Data Analysis"
   ]
  },
  {
   "cell_type": "code",
   "execution_count": 1,
   "metadata": {
    "id": "6ak1c68zh5J2"
   },
   "outputs": [],
   "source": [
    "#import necessary libraries\n",
    "\n",
    "import pandas as pd\n",
    "pd.set_option('display.max_rows', 500)\n",
    "import numpy as np\n",
    "import matplotlib.pyplot as plt\n",
    "import seaborn as sns\n",
    "\n",
    "from sklearn.model_selection import KFold, StratifiedKFold, train_test_split\n",
    "from sklearn.preprocessing import StandardScaler"
   ]
  },
  {
   "cell_type": "code",
   "execution_count": 2,
   "metadata": {
    "id": "Bbv6ZExLDU2s",
    "outputId": "847f694d-f044-42ae-9738-947766e7ff47"
   },
   "outputs": [
    {
     "name": "stdout",
     "output_type": "stream",
     "text": [
      "Requirement already satisfied: eli5 in /opt/conda/lib/python3.7/site-packages (0.10.1)\r\n",
      "Requirement already satisfied: scipy in /opt/conda/lib/python3.7/site-packages (from eli5) (1.4.1)\r\n",
      "Requirement already satisfied: graphviz in /opt/conda/lib/python3.7/site-packages (from eli5) (0.8.4)\r\n",
      "Requirement already satisfied: jinja2 in /opt/conda/lib/python3.7/site-packages (from eli5) (2.11.2)\r\n",
      "Requirement already satisfied: numpy>=1.9.0 in /opt/conda/lib/python3.7/site-packages (from eli5) (1.18.1)\r\n",
      "Requirement already satisfied: tabulate>=0.7.7 in /opt/conda/lib/python3.7/site-packages (from eli5) (0.8.7)\r\n",
      "Requirement already satisfied: scikit-learn>=0.18 in /opt/conda/lib/python3.7/site-packages (from eli5) (0.23.1)\r\n",
      "Requirement already satisfied: six in /opt/conda/lib/python3.7/site-packages (from eli5) (1.14.0)\r\n",
      "Requirement already satisfied: attrs>16.0.0 in /opt/conda/lib/python3.7/site-packages (from eli5) (19.3.0)\r\n",
      "Requirement already satisfied: MarkupSafe>=0.23 in /opt/conda/lib/python3.7/site-packages (from jinja2->eli5) (1.1.1)\r\n",
      "Requirement already satisfied: threadpoolctl>=2.0.0 in /opt/conda/lib/python3.7/site-packages (from scikit-learn>=0.18->eli5) (2.1.0)\r\n",
      "Requirement already satisfied: joblib>=0.11 in /opt/conda/lib/python3.7/site-packages (from scikit-learn>=0.18->eli5) (0.14.1)\r\n",
      "Note: you may need to restart the kernel to use updated packages.\n"
     ]
    }
   ],
   "source": [
    "pip install eli5"
   ]
  },
  {
   "cell_type": "code",
   "execution_count": 3,
   "metadata": {
    "id": "5WaBDwJ8gA36"
   },
   "outputs": [
    {
     "name": "stderr",
     "output_type": "stream",
     "text": [
      "/opt/conda/lib/python3.7/site-packages/sklearn/utils/deprecation.py:143: FutureWarning: The sklearn.metrics.scorer module is  deprecated in version 0.22 and will be removed in version 0.24. The corresponding classes / functions should instead be imported from sklearn.metrics. Anything that cannot be imported from sklearn.metrics is now part of the private API.\n",
      "  warnings.warn(message, FutureWarning)\n",
      "/opt/conda/lib/python3.7/site-packages/sklearn/utils/deprecation.py:143: FutureWarning: The sklearn.feature_selection.base module is  deprecated in version 0.22 and will be removed in version 0.24. The corresponding classes / functions should instead be imported from sklearn.feature_selection. Anything that cannot be imported from sklearn.feature_selection is now part of the private API.\n",
      "  warnings.warn(message, FutureWarning)\n",
      "Using TensorFlow backend.\n"
     ]
    }
   ],
   "source": [
    "#ELI5 is a Python package which helps to debug machine learning classifiers and explain their predictions.\n",
    "from eli5.sklearn import PermutationImportance"
   ]
  },
  {
   "cell_type": "code",
   "execution_count": 4,
   "metadata": {
    "id": "atxBkxTOjRCu"
   },
   "outputs": [],
   "source": [
    "#import datasets\n",
    "\n",
    "train = pd.read_csv('../input/Train.csv')\n",
    "test = pd.read_csv('../input/Test.csv')\n",
    "\n"
   ]
  },
  {
   "cell_type": "code",
   "execution_count": 5,
   "metadata": {
    "id": "MK6-OqyNcURC",
    "outputId": "d6bbf559-d419-4c0b-bef1-902d5c505eda"
   },
   "outputs": [
    {
     "name": "stdout",
     "output_type": "stream",
     "text": [
      "  Product Product_Brand             Item_Category     Subcategory_1  \\\n",
      "0  P-2610         B-659        bags wallets belts              bags   \n",
      "1  P-2453        B-3078                  clothing  women s clothing   \n",
      "2  P-6802        B-1810  home decor festive needs        showpieces   \n",
      "3  P-4452        B-3078  beauty and personal care          eye care   \n",
      "4  P-8454        B-3078                  clothing    men s clothing   \n",
      "\n",
      "       Subcategory_2  Item_Rating      Date  Selling_Price  \n",
      "0          hand bags          4.3  02-03-17            291  \n",
      "1       western wear          3.1  07-01-15            897  \n",
      "2             ethnic          3.5  01-12-19            792  \n",
      "3  h2o plus eye care          4.0  12-12-14            837  \n",
      "4           t shirts          4.3  12-12-13            470      Product Product_Brand Item_Category              Subcategory_1  \\\n",
      "0  P-11284        B-2984     computers         network components   \n",
      "1   P-6580        B-1732     jewellery  bangles bracelets armlets   \n",
      "2   P-5843        B-3078      clothing           women s clothing   \n",
      "3   P-5334        B-1421     jewellery           necklaces chains   \n",
      "4   P-5586        B-3078      clothing           women s clothing   \n",
      "\n",
      "  Subcategory_2  Item_Rating        Date  \n",
      "0       routers          4.3   1/12/2018  \n",
      "1     bracelets          3.0  20/12/2012  \n",
      "2  western wear          1.5   1/12/2014  \n",
      "3     necklaces          3.9   1/12/2019  \n",
      "4  western wear          1.4   1/12/2017  \n"
     ]
    }
   ],
   "source": [
    "#Lets look at the train and test datasets\n",
    "print(train.head(),test.head())"
   ]
  },
  {
   "cell_type": "code",
   "execution_count": 6,
   "metadata": {
    "id": "4DQfP1AmkFLu",
    "outputId": "c521481f-ef78-4288-b40e-c4d4fca8ba79"
   },
   "outputs": [
    {
     "name": "stdout",
     "output_type": "stream",
     "text": [
      "<class 'pandas.core.frame.DataFrame'>\n",
      "RangeIndex: 2451 entries, 0 to 2450\n",
      "Data columns (total 8 columns):\n",
      " #   Column         Non-Null Count  Dtype  \n",
      "---  ------         --------------  -----  \n",
      " 0   Product        2451 non-null   object \n",
      " 1   Product_Brand  2451 non-null   object \n",
      " 2   Item_Category  2451 non-null   object \n",
      " 3   Subcategory_1  2451 non-null   object \n",
      " 4   Subcategory_2  2451 non-null   object \n",
      " 5   Item_Rating    2451 non-null   float64\n",
      " 6   Date           2451 non-null   object \n",
      " 7   Selling_Price  2451 non-null   int64  \n",
      "dtypes: float64(1), int64(1), object(6)\n",
      "memory usage: 153.3+ KB\n",
      "<class 'pandas.core.frame.DataFrame'>\n",
      "RangeIndex: 1051 entries, 0 to 1050\n",
      "Data columns (total 7 columns):\n",
      " #   Column         Non-Null Count  Dtype  \n",
      "---  ------         --------------  -----  \n",
      " 0   Product        1051 non-null   object \n",
      " 1   Product_Brand  1051 non-null   object \n",
      " 2   Item_Category  1051 non-null   object \n",
      " 3   Subcategory_1  1051 non-null   object \n",
      " 4   Subcategory_2  1051 non-null   object \n",
      " 5   Item_Rating    1051 non-null   float64\n",
      " 6   Date           1051 non-null   object \n",
      "dtypes: float64(1), object(6)\n",
      "memory usage: 57.6+ KB\n",
      "None None\n"
     ]
    }
   ],
   "source": [
    "print(train.info(),test.info())"
   ]
  },
  {
   "cell_type": "markdown",
   "execution_count": null,
   "metadata": {
    "id": "32jPE3tohC32"
   },
   "source": [
    "**Some Observations**:\n",
    "\n",
    "\n",
    "*   We have 6 features(1 float nd 5 object type)\n",
    "*   There are no null values in the dataset\n",
    "*   Date feature maybe used to create some additional features of interest\n",
    "\n",
    "\n",
    "\n",
    "\n"
   ]
  },
  {
   "cell_type": "markdown",
   "execution_count": null,
   "metadata": {
    "id": "QRpEF7pHc-bz"
   },
   "source": [
    "**Target Variable Distribution**"
   ]
  },
  {
   "cell_type": "code",
   "execution_count": 7,
   "metadata": {
    "id": "yGao-5lBdF3o",
    "outputId": "adbad147-d614-4d04-b6f8-11d4ffd5f90c"
   },
   "outputs": [
    {
     "data": {
      "image/png": "[encoded data removed]",
      "text/plain": [
       "<Figure size 864x360 with 1 Axes>"
      ]
     },
     "metadata": {
      "needs_background": "light"
     },
     "output_type": "display_data"
    }
   ],
   "source": [
    "plt.figure(figsize=(12,5))\n",
    "plt.title(\"Distribution of Selling_Price\")\n",
    "ax = sns.distplot(train[\"Selling_Price\"])"
   ]
  },
  {
   "cell_type": "markdown",
   "execution_count": null,
   "metadata": {
    "id": "IZBAXyjegclM"
   },
   "source": [
    "\n",
    "\n",
    "> The Distribution of our target variable is highly left skewed, hence we will be performing log-transformation to make it more normal.\n",
    "\n",
    "\n"
   ]
  },
  {
   "cell_type": "code",
   "execution_count": 8,
   "metadata": {
    "id": "MEnJIIcqSNcg"
   },
   "outputs": [],
   "source": [
    "train['Selling_Price'] = np.log(train['Selling_Price'])"
   ]
  },
  {
   "cell_type": "code",
   "execution_count": 9,
   "metadata": {
    "id": "DMnruckcgqVb",
    "outputId": "c493f887-5bd7-4084-a0ee-cb970a9317de"
   },
   "outputs": [
    {
     "data": {
      "image/png": "[encoded data removed]",
      "text/plain": [
       "<Figure size 864x360 with 1 Axes>"
      ]
     },
     "metadata": {
      "needs_background": "light"
     },
     "output_type": "display_data"
    }
   ],
   "source": [
    "plt.figure(figsize=(12,5))\n",
    "plt.title(\"Distribution of Selling_Price after transformation\")\n",
    "ax = sns.distplot(train[\"Selling_Price\"])"
   ]
  },
  {
   "cell_type": "markdown",
   "execution_count": null,
   "metadata": {
    "id": "AXsx1ozx5Oyq"
   },
   "source": [
    "**Item Rating vs Selling Price**"
   ]
  },
  {
   "cell_type": "code",
   "execution_count": 10,
   "metadata": {
    "id": "sHIOdpwp5UcU",
    "outputId": "5c3ceb52-ff9b-4281-ec29-709799243f6a"
   },
   "outputs": [
    {
     "data": {
      "text/plain": [
       "<matplotlib.axes._subplots.AxesSubplot at 0x7fa41f96e390>"
      ]
     },
     "execution_count": 10,
     "metadata": {},
     "output_type": "execute_result"
    },
    {
     "data": {
      "image/png": "[encoded data removed]",
      "text/plain": [
       "<Figure size 432x288 with 1 Axes>"
      ]
     },
     "metadata": {
      "needs_background": "light"
     },
     "output_type": "display_data"
    }
   ],
   "source": [
    "sns.scatterplot('Item_Rating','Selling_Price',data=train)"
   ]
  },
  {
   "cell_type": "markdown",
   "execution_count": null,
   "metadata": {
    "id": "e3G1Uh_U6kb0"
   },
   "source": [
    "\n",
    "\n",
    "> No linear relationship can be seen whatsoever bw the two variables,hence 'Iten Rating' is not much of a use for us.\n",
    "\n"
   ]
  },
  {
   "cell_type": "markdown",
   "execution_count": null,
   "metadata": {
    "id": "cVTMUndBgz4_"
   },
   "source": [
    "*Let us now combine our dataset and perform some analysis/feature engineering*"
   ]
  },
  {
   "cell_type": "code",
   "execution_count": 11,
   "metadata": {
    "id": "wHfoFL5pSWBp"
   },
   "outputs": [],
   "source": [
    "combine = train.append(test)"
   ]
  },
  {
   "cell_type": "code",
   "execution_count": 12,
   "metadata": {
    "id": "fKeku0_7miz5",
    "outputId": "ce2e4288-b915-4d53-9078-d28db131d0df"
   },
   "outputs": [
    {
     "data": {
      "text/html": [
       "<div>\n",
       "<style scoped>\n",
       "    .dataframe tbody tr th:only-of-type {\n",
       "        vertical-align: middle;\n",
       "    }\n",
       "\n",
       "    .dataframe tbody tr th {\n",
       "        vertical-align: top;\n",
       "    }\n",
       "\n",
       "    .dataframe thead th {\n",
       "        text-align: right;\n",
       "    }\n",
       "</style>\n",
       "<table border=\"1\" class=\"dataframe\">\n",
       "  <thead>\n",
       "    <tr style=\"text-align: right;\">\n",
       "      <th></th>\n",
       "      <th>Product</th>\n",
       "      <th>Product_Brand</th>\n",
       "      <th>Item_Category</th>\n",
       "      <th>Subcategory_1</th>\n",
       "      <th>Subcategory_2</th>\n",
       "      <th>Item_Rating</th>\n",
       "      <th>Date</th>\n",
       "      <th>Selling_Price</th>\n",
       "    </tr>\n",
       "  </thead>\n",
       "  <tbody>\n",
       "    <tr>\n",
       "      <th>0</th>\n",
       "      <td>P-2610</td>\n",
       "      <td>B-659</td>\n",
       "      <td>bags wallets belts</td>\n",
       "      <td>bags</td>\n",
       "      <td>hand bags</td>\n",
       "      <td>4.3</td>\n",
       "      <td>02-03-17</td>\n",
       "      <td>5.673323</td>\n",
       "    </tr>\n",
       "    <tr>\n",
       "      <th>1</th>\n",
       "      <td>P-2453</td>\n",
       "      <td>B-3078</td>\n",
       "      <td>clothing</td>\n",
       "      <td>women s clothing</td>\n",
       "      <td>western wear</td>\n",
       "      <td>3.1</td>\n",
       "      <td>07-01-15</td>\n",
       "      <td>6.799056</td>\n",
       "    </tr>\n",
       "    <tr>\n",
       "      <th>2</th>\n",
       "      <td>P-6802</td>\n",
       "      <td>B-1810</td>\n",
       "      <td>home decor festive needs</td>\n",
       "      <td>showpieces</td>\n",
       "      <td>ethnic</td>\n",
       "      <td>3.5</td>\n",
       "      <td>01-12-19</td>\n",
       "      <td>6.674561</td>\n",
       "    </tr>\n",
       "    <tr>\n",
       "      <th>3</th>\n",
       "      <td>P-4452</td>\n",
       "      <td>B-3078</td>\n",
       "      <td>beauty and personal care</td>\n",
       "      <td>eye care</td>\n",
       "      <td>h2o plus eye care</td>\n",
       "      <td>4.0</td>\n",
       "      <td>12-12-14</td>\n",
       "      <td>6.729824</td>\n",
       "    </tr>\n",
       "    <tr>\n",
       "      <th>4</th>\n",
       "      <td>P-8454</td>\n",
       "      <td>B-3078</td>\n",
       "      <td>clothing</td>\n",
       "      <td>men s clothing</td>\n",
       "      <td>t shirts</td>\n",
       "      <td>4.3</td>\n",
       "      <td>12-12-13</td>\n",
       "      <td>6.152733</td>\n",
       "    </tr>\n",
       "  </tbody>\n",
       "</table>\n",
       "</div>"
      ],
      "text/plain": [
       "  Product Product_Brand             Item_Category     Subcategory_1  \\\n",
       "0  P-2610         B-659        bags wallets belts              bags   \n",
       "1  P-2453        B-3078                  clothing  women s clothing   \n",
       "2  P-6802        B-1810  home decor festive needs        showpieces   \n",
       "3  P-4452        B-3078  beauty and personal care          eye care   \n",
       "4  P-8454        B-3078                  clothing    men s clothing   \n",
       "\n",
       "       Subcategory_2  Item_Rating      Date  Selling_Price  \n",
       "0          hand bags          4.3  02-03-17       5.673323  \n",
       "1       western wear          3.1  07-01-15       6.799056  \n",
       "2             ethnic          3.5  01-12-19       6.674561  \n",
       "3  h2o plus eye care          4.0  12-12-14       6.729824  \n",
       "4           t shirts          4.3  12-12-13       6.152733  "
      ]
     },
     "execution_count": 12,
     "metadata": {},
     "output_type": "execute_result"
    }
   ],
   "source": [
    "combine.head()"
   ]
  },
  {
   "cell_type": "code",
   "execution_count": 13,
   "metadata": {
    "id": "yT_JXqsyhqLe",
    "outputId": "15c85c4d-2c67-482c-fea9-fa8a0fc2f601"
   },
   "outputs": [
    {
     "name": "stdout",
     "output_type": "stream",
     "text": [
      "<class 'pandas.core.frame.DataFrame'>\n",
      "Int64Index: 3502 entries, 0 to 1050\n",
      "Data columns (total 8 columns):\n",
      " #   Column         Non-Null Count  Dtype  \n",
      "---  ------         --------------  -----  \n",
      " 0   Product        3502 non-null   object \n",
      " 1   Product_Brand  3502 non-null   object \n",
      " 2   Item_Category  3502 non-null   object \n",
      " 3   Subcategory_1  3502 non-null   object \n",
      " 4   Subcategory_2  3502 non-null   object \n",
      " 5   Item_Rating    3502 non-null   float64\n",
      " 6   Date           3502 non-null   object \n",
      " 7   Selling_Price  2451 non-null   float64\n",
      "dtypes: float64(2), object(6)\n",
      "memory usage: 246.2+ KB\n",
      "None\n"
     ]
    }
   ],
   "source": [
    "print(combine.info())"
   ]
  },
  {
   "cell_type": "markdown",
   "execution_count": null,
   "metadata": {
    "id": "yJETm-hix4ze"
   },
   "source": [
    "**General Observations**\n",
    "\n",
    "-The features 'Product' and 'Product_Brand' though object type , can easily be converted into numeric by removing the char and separator to avoid encoding the data\n",
    "\n",
    "-Item Category and Sucategory 1 & 2 features seem to have a lot of unique categorical values."
   ]
  },
  {
   "cell_type": "markdown",
   "execution_count": null,
   "metadata": {
    "id": "Xp4a7Naxy_ef"
   },
   "source": [
    "\n",
    "\n",
    "> Converting 'Product' and 'Product_Brand' to numeric type.\n",
    "\n"
   ]
  },
  {
   "cell_type": "code",
   "execution_count": 14,
   "metadata": {
    "id": "IOZS7jcb6VoA"
   },
   "outputs": [],
   "source": [
    "combine['Product']=combine['Product'].str.split('-', n=1, expand=True)[1]\n",
    "combine['Product'] = combine['Product'].astype(int)\n",
    "combine['Product'] = np.log(combine['Product'])\n"
   ]
  },
  {
   "cell_type": "code",
   "execution_count": 15,
   "metadata": {
    "id": "PslTEJluNYk8"
   },
   "outputs": [],
   "source": [
    "combine['Product_Brand']=combine['Product_Brand'].str.split('-', n=1, expand=True)[1]\n",
    "combine['Product_Brand'] = combine['Product_Brand'].astype(int)\n",
    "combine['Product_Brand'] = np.log(combine['Product_Brand'])"
   ]
  },
  {
   "cell_type": "code",
   "execution_count": 16,
   "metadata": {
    "id": "Un1oLzPxziXd",
    "outputId": "d5bde76f-a5e1-44a4-b63d-fb2f2838395b"
   },
   "outputs": [
    {
     "data": {
      "text/plain": [
       "Product          float64\n",
       "Product_Brand    float64\n",
       "Item_Category     object\n",
       "Subcategory_1     object\n",
       "Subcategory_2     object\n",
       "Item_Rating      float64\n",
       "Date              object\n",
       "Selling_Price    float64\n",
       "dtype: object"
      ]
     },
     "execution_count": 16,
     "metadata": {},
     "output_type": "execute_result"
    }
   ],
   "source": [
    "combine.dtypes"
   ]
  },
  {
   "cell_type": "markdown",
   "execution_count": null,
   "metadata": {
    "id": "gnD0QuLCzpUY"
   },
   "source": [
    "**Now let us look at probably the 3 most important and interesting features (Item_category,subcategory1 and subcategory2) in detail**"
   ]
  },
  {
   "cell_type": "code",
   "execution_count": 17,
   "metadata": {
    "id": "HCAFFel7z6Jh",
    "outputId": "aa05521c-068c-482d-ff3e-7b1b1166183b"
   },
   "outputs": [
    {
     "name": "stdout",
     "output_type": "stream",
     "text": [
      "============================\n",
      "Categories in Item_Category : \n",
      "clothing                                            1037\n",
      "jewellery                                            601\n",
      "automotive                                           268\n",
      "footwear                                             247\n",
      "computers                                            148\n",
      "home decor festive needs                             138\n",
      "kitchen dining                                       134\n",
      "home furnishing                                      119\n",
      "mobiles accessories                                  116\n",
      "beauty and personal care                             111\n",
      "watches                                               95\n",
      "baby care                                             64\n",
      "toys school supplies                                  57\n",
      "bags wallets belts                                    54\n",
      "tools hardware                                        52\n",
      "pens stationery                                       49\n",
      "furniture                                             40\n",
      "sports fitness                                        35\n",
      "cameras accessories                                   15\n",
      "home improvement                                      10\n",
      "home entertainment                                     9\n",
      "sunglasses                                             8\n",
      "home kitchen                                           6\n",
      "ebooks                                                 5\n",
      "gaming                                                 5\n",
      "eyewear                                                4\n",
      "pet supplies                                           4\n",
      "health personal care appliances                        4\n",
      "vishudh printed women s anarkali kurta                 1\n",
      "speedwav 216456 manual rear view mirror right          1\n",
      "yo baby girl s trousers                                1\n",
      "olvin rectangular sunglasses                           1\n",
      "camey men s quarter length socks                       1\n",
      "fabpoppy printed women s jumpsuit                      1\n",
      "ufo full sleeve solid girl s jacket                    1\n",
      "adidas ind pro thi gua thigh guard white blue          1\n",
      "newgen tech eo hs3303 218 wired headset white          1\n",
      "kalpaveda copper bowl gold pack of 1                   1\n",
      "tadd men s women s ankle length socks                  1\n",
      "easies solid single breasted casual men s blazer       1\n",
      "mast harbour black synthetic clutch                    1\n",
      "clickforsign avoid contanimation wash your hands       1\n",
      "lilliput top baby girl s combo                         1\n",
      "anuradha art stylish hair clip black                   1\n",
      "dassler slim fit women s multicolor jeans              1\n",
      "balaji exports bottled wine cooler 9 bottles           1\n",
      "masara solid women s straight kurta                    1\n",
      "ruhi s creations polyester silk blend cartoon ki       1\n",
      "d d women flats                                        1\n",
      "amita home furnishing cotton printed single beds       1\n",
      "srpc baoer starwalker executive rollerball pen g       1\n",
      "vishudh printed women s straight kurta                 1\n",
      "prime printed 8 seater table cover multicolor          1\n",
      "autoplus m ap15 arm sleeve black                       1\n",
      "favourite bikerz 3514 rad air filter ionic air f       1\n",
      "bootwale bellies                                       1\n",
      "the cotton company solid women s polo neck pink        1\n",
      "clovia women s t shirt bra                             1\n",
      "v g professional hd 37 hair dryer red                  1\n",
      "kombee girl s printed red pink top capri set           1\n",
      "olvin wayfarer sunglasses                              1\n",
      "miss wow slim fit women s blue jeans                   1\n",
      "frabjous german silver rings for women alloy zir       1\n",
      "sj bushnell 122 1000m binoculars 36 mm black           1\n",
      "libas printed women s anarkali kurta                   1\n",
      "automation robotics                                    1\n",
      "dressberry black synthetic clutch                      1\n",
      "laser x checkered men s boxer pack of 4                1\n",
      "sonaxo men running shoes                               1\n",
      "say uv sterilizer solid filter cartridge 0 pac         1\n",
      "remson india women flats                               1\n",
      "fly u slim fit fit women s brown jeans                 1\n",
      "soie fashion women s sports bra                        1\n",
      "be 13 printed boy s round neck t shirt pack of 2       1\n",
      "pu good women flats                                    1\n",
      "zikrak exim women wedges                               1\n",
      "arial morris women flats                               1\n",
      "asics gel kayano 22 running shoes                      1\n",
      "sj barstel 56m 1000m binoculars 30 mm black            1\n",
      "coirfit single coir mattress                           1\n",
      "shopoj white paper sky lantern 80 cm x 34 cm p         1\n",
      "food nutrition                                         1\n",
      "e hiose girl s leggings pack of 6                      1\n",
      "speedwav 216552 manual rear view mirror right          1\n",
      "naaz 2 in 1 paper quilling board game                  1\n",
      "royal seal creations 40 st color silver zircon n       1\n",
      "zevrr sterling silver swarovski zirconia platinu       1\n",
      "feet flow women flats                                  1\n",
      "kittens boys flats                                     1\n",
      "threads pals full sleeve self design men s swe         1\n",
      "shonaya printed bhagalpuri art silk sari               1\n",
      "indistar self design viscose women s stole             1\n",
      "killys men s solid no show socks                       1\n",
      "pout brass bangle                                      1\n",
      "olvin aviator sunglasses                               1\n",
      "Name: Item_Category, dtype: int64\n",
      "============================\n",
      "Categories in Subcategory_1 : \n",
      "women s clothing                 695\n",
      "accessories spare parts          245\n",
      "men s clothing                   243\n",
      "necklaces chains                 221\n",
      "rings                            189\n",
      "women s footwear                 157\n",
      "bangles bracelets armlets        114\n",
      "kids clothing                     99\n",
      "wrist watches                     94\n",
      "laptop accessories                80\n",
      "men s footwear                    74\n",
      "coffee mugs                       73\n",
      "unknown                           66\n",
      "tablet accessories                61\n",
      "fragrances                        60\n",
      "mobile accessories                58\n",
      "network components                55\n",
      "tools                             53\n",
      "bed linen                         52\n",
      "school supplies                   46\n",
      "showpieces                        45\n",
      "bags                              40\n",
      "wall decor clocks                 33\n",
      "infant wear                       31\n",
      "table decor handicrafts           31\n",
      "office supplies                   24\n",
      "jewellery sets                    22\n",
      "accessories                       22\n",
      "car bike accessories              21\n",
      "pet furniture                     21\n",
      "earrings                          19\n",
      "bath linen                        18\n",
      "cookware                          18\n",
      "makeup                            16\n",
      "kids infant footwear              16\n",
      "camera accessories                15\n",
      "curtains accessories              15\n",
      "kitchen tools                     14\n",
      "cushions pillows covers           13\n",
      "combos and kits                   12\n",
      "baby kids gifts                   11\n",
      "body and skin care                11\n",
      "decorative lighting lamps         10\n",
      "kitchen dining linen              10\n",
      "team sports                       10\n",
      "living room                        9\n",
      "action figures                     9\n",
      "pendants lockets                   9\n",
      "other sports                       8\n",
      "lighting                           8\n",
      "outdoor adventure                  8\n",
      "luggage travel                     8\n",
      "baby bath skin                     7\n",
      "pens                               6\n",
      "hair care                          6\n",
      "baby bedding                       6\n",
      "lawn gardening                     5\n",
      "wallets clutches                   5\n",
      "festive decor                      5\n",
      "containers bottles                 5\n",
      "gaming accessories                 5\n",
      "bar glassware                      5\n",
      "computer peripherals               4\n",
      "racquet sports                     4\n",
      "floor coverings                    4\n",
      "remote control toys                4\n",
      "kitchen appliances                 4\n",
      "living room furnishing             4\n",
      "academic texts                     4\n",
      "college supplies                   4\n",
      "fitness accessories                4\n",
      "health care                        4\n",
      "showpiece                          4\n",
      "video players accessories          4\n",
      "audio players                      4\n",
      "candles fragrances                 4\n",
      "housekeeping laundry               4\n",
      "frames                             4\n",
      "living                             3\n",
      "furniture furnishings              3\n",
      "computer components                3\n",
      "feeding nursing                    3\n",
      "personal care appliances           3\n",
      "nose rings studs                   3\n",
      "study home office furniture        2\n",
      "kids room furniture                2\n",
      "pressure cookers pans              2\n",
      "office equipments                  2\n",
      "grooming                           2\n",
      "musical instruments toys           2\n",
      "home appliances                    2\n",
      "flowers plants vases               2\n",
      "tableware cutlery                  2\n",
      "garden leisure                     2\n",
      "electricals                        2\n",
      "car accessories                    2\n",
      "soft toys                          2\n",
      "eye care                           2\n",
      "living room furniture              2\n",
      "hh aviator sunglasses              1\n",
      "strollers activity gear            1\n",
      "dinnerware crockery                1\n",
      "bath and spa                       1\n",
      "role play toys                     1\n",
      "seating furniture                  1\n",
      "learning educational toys          1\n",
      "suspenders                         1\n",
      "true home decor festive needs      1\n",
      "indoor sports games                1\n",
      "watch accessories                  1\n",
      "party supplies                     1\n",
      "home storage organization          1\n",
      "storage feeding utensils           1\n",
      "redex cat eye sunglasses           1\n",
      "mikado aviator sunglasses          1\n",
      "mp3 players ipods accessories      1\n",
      "consumables disposables            1\n",
      "bedroom furniture                  1\n",
      "general utility furniture          1\n",
      "health nutrition                   1\n",
      "eye glass wayfarer sunglasses      1\n",
      "smart door locks                   1\n",
      "palakz kitchen dining              1\n",
      "hardware                           1\n",
      "aligatorr aviator sunglasses       1\n",
      "religion devotion                  1\n",
      "precious jewellery                 1\n",
      "pet apparel                        1\n",
      "baby grooming                      1\n",
      "laptops                            1\n",
      "toy guns weapons                   1\n",
      "art supplies                       1\n",
      "educational toys                   1\n",
      "mangalsutras tanmaniyas            1\n",
      "kitchen dining furniture           1\n",
      "diapering potty training           1\n",
      "storage                            1\n",
      "science                            1\n",
      "damemoda wayfarer sunglasses       1\n",
      "naaz toys school supplies          1\n",
      "hh wayfarer sunglasses             1\n",
      "home audio                         1\n",
      "Name: Subcategory_1, dtype: int64\n",
      "============================\n",
      "Categories in Subcategory_2 : \n",
      "western wear                                        384\n",
      "unknown                                             324\n",
      "necklaces                                           219\n",
      "car interior exterior                               186\n",
      "lingerie sleep swimwear                             166\n",
      "ethnic wear                                         104\n",
      "casual shoes                                        101\n",
      "t shirts                                             87\n",
      "bangles                                              69\n",
      "girls wear                                           63\n",
      "cases covers                                         61\n",
      "deodorants                                           60\n",
      "routers                                              54\n",
      "shirts                                               51\n",
      "winter seasonal wear                                 50\n",
      "blankets quilts dohars                               47\n",
      "bracelets                                            45\n",
      "wedges                                               43\n",
      "gardening tools                                      43\n",
      "geometry pencil boxes                                32\n",
      "boys wear                                            29\n",
      "heels                                                27\n",
      "spares performance parts                             26\n",
      "usb gadgets                                          26\n",
      "batteries                                            24\n",
      "prithish coffee mugs                                 22\n",
      "baby girls clothes                                   22\n",
      "brooches                                             22\n",
      "showpieces                                           21\n",
      "rockmantra coffee mugs                               21\n",
      "ethnic                                               19\n",
      "printland coffee mugs                                18\n",
      "formal shoes                                         18\n",
      "towels                                               17\n",
      "hand bags                                            17\n",
      "fusion wear                                          17\n",
      "pots pans                                            17\n",
      "backpacks                                            16\n",
      "maxima wrist watches                                 16\n",
      "flats                                                15\n",
      "curtains                                             15\n",
      "for boys                                             14\n",
      "accessories combo sets                               14\n",
      "cushion covers                                       14\n",
      "car bike lighting                                    13\n",
      "car electronics accessories                          13\n",
      "adapters                                             13\n",
      "wall decals stickers                                 13\n",
      "lens hoods                                           12\n",
      "kitchen implements                                   12\n",
      "ballerinas                                           12\n",
      "jeans                                                12\n",
      "computer accessories combos                          11\n",
      "stickers                                             10\n",
      "paintings                                            10\n",
      "sofas sectionals                                     10\n",
      "inner wear sleep wear                                10\n",
      "geometry pen pencil boxes                            10\n",
      "baby boys clothes                                     9\n",
      "car bike care                                         9\n",
      "mobile pouches                                        8\n",
      "sports gym wear                                       8\n",
      "headphones                                            8\n",
      "cables                                                8\n",
      "cricket                                               8\n",
      "bulbs                                                 8\n",
      "accessories                                           7\n",
      "helmets riding gear                                   7\n",
      "infants wear                                          7\n",
      "sports shoes                                          7\n",
      "camping hiking                                        7\n",
      "vanity boxes                                          7\n",
      "bike essentials                                       6\n",
      "screen protectors                                     6\n",
      "series lights                                         6\n",
      "perucci wrist watches                                 6\n",
      "suitcases                                             6\n",
      "trousers                                              6\n",
      "clocks                                                5\n",
      "fastrack wrist watches                                5\n",
      "earphone cable organizers                             5\n",
      "bar glasses                                           5\n",
      "bedsheets                                             5\n",
      "oxyglow combos and kits                               5\n",
      "timewel wrist watches                                 5\n",
      "cargos shorts 3 4ths                                  5\n",
      "sonata wrist watches                                  5\n",
      "akup coffee mugs                                      5\n",
      "bottles sippers                                       5\n",
      "face care                                             5\n",
      "chargers                                              5\n",
      "slippers flip flops                                   5\n",
      "plants                                                5\n",
      "decorative platters                                   5\n",
      "tool accessories                                      5\n",
      "files and folders                                     4\n",
      "car accessories                                       4\n",
      "skating                                               4\n",
      "mobile body panels                                    4\n",
      "mobile chargers                                       4\n",
      "baby bath towels                                      4\n",
      "hardware electricals                                  4\n",
      "rythmx combos and kits                                4\n",
      "car bike styling                                      4\n",
      "hand care                                             4\n",
      "sling bags                                            4\n",
      "laptop adapters                                       4\n",
      "headphones with mic                                   4\n",
      "speakers                                              4\n",
      "sports wear                                           4\n",
      "gift island wrist watches                             4\n",
      "home fragrances                                       4\n",
      "utensils                                              3\n",
      "travel document holders card holders                  3\n",
      "table covers                                          3\n",
      "inflatable products                                   3\n",
      "mats                                                  3\n",
      "s c handicrafts showpieces                            3\n",
      "school bags                                           3\n",
      "face                                                  3\n",
      "mouse pads                                            3\n",
      "exotic india showpieces                               3\n",
      "tucasa office supplies                                3\n",
      "maternity wear                                        3\n",
      "formal wear                                           3\n",
      "sports sandals                                        3\n",
      "baby bedsheets                                        3\n",
      "amy office supplies                                   3\n",
      "disney action figures                                 3\n",
      "ball pens                                             3\n",
      "luba wrist watches                                    3\n",
      "hair colors                                           3\n",
      "kitchen linen sets                                    3\n",
      "rakhi                                                 3\n",
      "hair care accessories                                 2\n",
      "badminton                                             2\n",
      "mxofere combos and kits                               2\n",
      "bathroom accessories                                  2\n",
      "pouches and potlis                                    2\n",
      "baby blankets                                         2\n",
      "table decor                                           2\n",
      "clutches                                              2\n",
      "lips                                                  2\n",
      "automotive combo                                      2\n",
      "disney wrist watches                                  2\n",
      "health care devices                                   2\n",
      "basketball                                            2\n",
      "car interior                                          2\n",
      "desk organizers                                       2\n",
      "sketch paint markers                                  2\n",
      "mixer juicer grinders                                 2\n",
      "stylestuffs coffee mugs                               2\n",
      "diwan sets                                            2\n",
      "kids tables seating                                   2\n",
      "table runners                                         2\n",
      "processors                                            2\n",
      "photo frames                                          2\n",
      "leggings jeggings                                     2\n",
      "contemporary                                          2\n",
      "esidon wrist watches                                  2\n",
      "for girls                                             2\n",
      "switches accessories                                  2\n",
      "portable laptop tables                                2\n",
      "printers inks                                         2\n",
      "franck bella wrist watches                            2\n",
      "skin coat care                                        2\n",
      "flippd wrist watches                                  2\n",
      "shoppingtara showpieces                               2\n",
      "adaa showpieces                                       2\n",
      "tennis                                                2\n",
      "video accessories                                     2\n",
      "carpets rugs                                          2\n",
      "sitaram wrist watches                                 2\n",
      "swimming                                              2\n",
      "battery chargers                                      2\n",
      "lamex timewear wrist watches                          2\n",
      "baby body wash                                        2\n",
      "golf                                                  2\n",
      "chains                                                2\n",
      "cb fashion wrist watches                              2\n",
      "home theaters                                         2\n",
      "noise wrist watches                                   2\n",
      "wall shelves                                          2\n",
      "home audio                                            2\n",
      "home cleaning                                         2\n",
      "tableware                                             2\n",
      "diaries                                               2\n",
      "clairefontaine office supplies                        2\n",
      "medical equipment accessories                         2\n",
      "punches punching machines                             2\n",
      "suits blazers                                         2\n",
      "scheffer s wrist watches                              2\n",
      "fountain pens                                         2\n",
      "holi essentials                                       2\n",
      "palito wrist watches                                  2\n",
      "rosesnribbons rhodium garnet amethyst citrine         1\n",
      "escort wrist watches                                  1\n",
      "artificial plants                                     1\n",
      "malabar gold and diamonds hbdaaaablzld gold emer      1\n",
      "rajesh digital coffee mugs                            1\n",
      "kitchen knives                                        1\n",
      "combo sets                                            1\n",
      "camera lenses                                         1\n",
      "umbrellas                                             1\n",
      "swag wrist watches                                    1\n",
      "table linen sets                                      1\n",
      "skmei wrist watches                                   1\n",
      "urban diseno suspenders                               1\n",
      "office supplies accessories                           1\n",
      "fighter wrist watches                                 1\n",
      "language learning                                     1\n",
      "trimmers                                              1\n",
      "elite neckties men s clothing                         1\n",
      "pillows                                               1\n",
      "lavish blink full rim rectangle frame 54 mm           1\n",
      "piedpaper office supplies                             1\n",
      "felix wrist watches                                   1\n",
      "aimedu toy learning educational toys                  1\n",
      "changing tables                                       1\n",
      "hair dryers                                           1\n",
      "lightings                                             1\n",
      "medical                                               1\n",
      "cosmetic bags                                         1\n",
      "fengshui                                              1\n",
      "key chains                                            1\n",
      "biometric devices                                     1\n",
      "mattresses                                            1\n",
      "sentinel action figures                               1\n",
      "lunch boxes                                           1\n",
      "shavers                                               1\n",
      "humanities                                            1\n",
      "mobile cables                                         1\n",
      "balloons decoration                                   1\n",
      "wall photo frames                                     1\n",
      "decon alloy mangalsutra                               1\n",
      "wishkey action figures                                1\n",
      "power banks                                           1\n",
      "baby grooming combos                                  1\n",
      "aria rhodium sterling silver pendant                  1\n",
      "silvesto india stone pendant                          1\n",
      "table placemats                                       1\n",
      "garden stakes                                         1\n",
      "fluid wrist watches                                   1\n",
      "lenco wrist watches                                   1\n",
      "calibro wrist watches                                 1\n",
      "malhar showpieces                                     1\n",
      "yellow chimes butterfly fairy alloy                   1\n",
      "eyes                                                  1\n",
      "eshoppee showpieces                                   1\n",
      "swayambhu showpieces                                  1\n",
      "puja mandir temple                                    1\n",
      "elantra wrist watches                                 1\n",
      "cups saucers                                          1\n",
      "lotus toy guns weapons                                1\n",
      "palakz printed foldable storage stool multicolor      1\n",
      "doctor who action figures                             1\n",
      "radhesh creation crystal yellow gold plated bras      1\n",
      "mousepads                                             1\n",
      "x plus action figures                                 1\n",
      "pool                                                  1\n",
      "italian fashion wrist watches                         1\n",
      "mp4 video mp3 players                                 1\n",
      "petto raincoat for dog cat grey green                 1\n",
      "table lamps                                           1\n",
      "nikko remote control toys                             1\n",
      "wall lamps                                            1\n",
      "adraxx remote control toys                            1\n",
      "baby shower caps                                      1\n",
      "bath mats                                             1\n",
      "sofa covers                                           1\n",
      "gifts arts remote control toys                        1\n",
      "brass gift center religion devotion                   1\n",
      "figo fashion wrist watches                            1\n",
      "timex wrist watches                                   1\n",
      "ceiling lamps                                         1\n",
      "happiness is coffee mugs                              1\n",
      "nails                                                 1\n",
      "pen drives                                            1\n",
      "body                                                  1\n",
      "r s jewels showpieces                                 1\n",
      "you2deal showpieces                                   1\n",
      "otg adapters                                          1\n",
      "united pressure cookers pans                          1\n",
      "sofa beds futons                                      1\n",
      "amantran jewels om shaped silver zircon sterling      1\n",
      "hand tools                                            1\n",
      "riddhi siddhi role play toys                          1\n",
      "zoop wrist watches                                    1\n",
      "outdoor cafeteria chairs                              1\n",
      "manirathnum ruby gemstone silver ring sterling s      1\n",
      "chappin nellson wrist watches                         1\n",
      "blocks building sets                                  1\n",
      "dinoimpex musical instruments toys                    1\n",
      "firangi floor coverings                               1\n",
      "purpledip showpieces                                  1\n",
      "syma remote control toys                              1\n",
      "motherboards                                          1\n",
      "bharatcraft showpiece                                 1\n",
      "dining tables chairs sets                             1\n",
      "water bottles                                         1\n",
      "inaya yellow gold nak brass pendant set               1\n",
      "water fountains                                       1\n",
      "dolz women s clothing                                 1\n",
      "contact lenses                                        1\n",
      "ted smith full rim wayfarer frame 53 mm               1\n",
      "g g coffee mugs                                       1\n",
      "lowe alpine luggage travel                            1\n",
      "svm wrist watches                                     1\n",
      "wrist bands                                           1\n",
      "wallpapers                                            1\n",
      "rorlig wrist watches                                  1\n",
      "gehna yellow gold zircon silver pendant               1\n",
      "vk jewels reticular heart rhodium cubic zirconia      1\n",
      "navaksha men s clothing                               1\n",
      "rrenterprizes musical instruments toys                1\n",
      "ridas wrist watches                                   1\n",
      "food makers                                           1\n",
      "jazma wrist watches                                   1\n",
      "conditioners                                          1\n",
      "value bay coffee mugs                                 1\n",
      "home security cameras                                 1\n",
      "posters                                               1\n",
      "diwine jewels silver zircon rhodium na k ring         1\n",
      "rucksacks                                             1\n",
      "paras showpieces                                      1\n",
      "hookah hookah flavors                                 1\n",
      "h2o plus eye care                                     1\n",
      "animal figurines                                      1\n",
      "ultravision full rim round frame 51 mm                1\n",
      "manirathnum manirathnum black star gemstone silv      1\n",
      "cycling                                               1\n",
      "flower vase                                           1\n",
      "bathroom kitchen fixtures                             1\n",
      "shoperite office supplies                             1\n",
      "portable projectors                                   1\n",
      "vacuum cleaners                                       1\n",
      "vinson london full rim oval frame 53 mm               1\n",
      "cpu                                                   1\n",
      "a avon wrist watches                                  1\n",
      "protein supplements                                   1\n",
      "showpiece                                             1\n",
      "body and skin accessories                             1\n",
      "gramophones                                           1\n",
      "lanterns                                              1\n",
      "tiedribbons showpieces                                1\n",
      "krown audio players                                   1\n",
      "manirathnum manirathnum garnet gemstone silver r      1\n",
      "choppers peelers                                      1\n",
      "marwar showpieces                                     1\n",
      "physics                                               1\n",
      "the crystal jewel showpieces                          1\n",
      "returnfavors coffee mugs                              1\n",
      "d signer wrist watches                                1\n",
      "indigocart showpieces                                 1\n",
      "relish wrist watches                                  1\n",
      "baby mosquito nets                                    1\n",
      "avon combos and kits                                  1\n",
      "discovery toys action figures                         1\n",
      "bowls                                                 1\n",
      "lamex wrist watches                                   1\n",
      "parv collections showpieces                           1\n",
      "naaz the young scientist for kids board game          1\n",
      "hpd wrist watches                                     1\n",
      "steamers idli makers                                  1\n",
      "ona s showpieces                                      1\n",
      "disney soft toys                                      1\n",
      "twisha soft toys                                      1\n",
      "makeup accessories                                    1\n",
      "laundry                                               1\n",
      "omax wrist watches                                    1\n",
      "strollers prams                                       1\n",
      "boards dusters                                        1\n",
      "pittsburgh polo club wrist watches                    1\n",
      "bowls bottles                                         1\n",
      "eleganzza wrist watches                               1\n",
      "jewlook men s clothing                                1\n",
      "abhushan showpieces                                   1\n",
      "pens notebooks                                        1\n",
      "lip care                                              1\n",
      "nendoroid action figures                              1\n",
      "bath and spa accessories                              1\n",
      "law                                                   1\n",
      "jack klein wrist watches                              1\n",
      "hp laptops                                            1\n",
      "r s wrist watches                                     1\n",
      "classyworld brass cufflink silver 01                  1\n",
      "induction cooktops                                    1\n",
      "hmt wrist watches                                     1\n",
      "prestige pressure cookers pans                        1\n",
      "manirathnum manirathnum garnet peridot gemston        1\n",
      "frabjous sterling silver toe ring set                 1\n",
      "pencils pen pencil boxes                              1\n",
      "texus wrist watches                                   1\n",
      "roller ball pens                                      1\n",
      "anti dust plugs                                       1\n",
      "Name: Subcategory_2, dtype: int64\n"
     ]
    }
   ],
   "source": [
    "cols = ['Item_Category','Subcategory_1','Subcategory_2']\n",
    "for i in cols:\n",
    "  print(\"============================\")\n",
    "  print(\"Categories in\",i,\": \")\n",
    "  print(combine[i].value_counts())\n"
   ]
  },
  {
   "cell_type": "code",
   "execution_count": 18,
   "metadata": {
    "id": "tEs3NTIo2Bx6",
    "outputId": "15fcaf08-3052-4a4f-fcd0-e7b0bee40918"
   },
   "outputs": [
    {
     "name": "stdout",
     "output_type": "stream",
     "text": [
      "Total distinct categories in Item_Category : 95\n",
      "Total distinct categories in Subcategory_1 : 142\n",
      "Total distinct categories in Subcategory_2 : 395\n"
     ]
    }
   ],
   "source": [
    "  for i in cols:\n",
    "    print(\"Total distinct categories in\",i, \":\",len(combine[i].unique()))"
   ]
  },
  {
   "cell_type": "markdown",
   "execution_count": null,
   "metadata": {
    "id": "lJNpzeTU2Taj"
   },
   "source": [
    "-As observed, there are a lot of distinct categories in all the three features above hence OHE will not make sense here.\n",
    "\n",
    "-We will be using frequency encoding for converting these features into numeric type\n",
    "\n",
    "**One major issue to Adress**\n",
    "\n",
    "\n",
    "\n",
    "> How to handle 'Unknown' category in subcategory1 and subcategory2?\n",
    "\n",
    "**SOL**: Here is a simple and elegant solution provided by a friend...\n",
    "\n",
    "And I quote......\n",
    "\n",
    "*'Unkown is subcategory1/subcategory2 means that there is no hierarchial relationship bw Item_Category-Subcategory1-Subcategory2 which affects the selling price and hence if we find an unknown we can simply replace it by the category one level above'*\n",
    "\n",
    "\n"
   ]
  },
  {
   "cell_type": "markdown",
   "execution_count": null,
   "metadata": {
    "id": "pjrqW5OY4gt_"
   },
   "source": [
    "**Performing the above operations**"
   ]
  },
  {
   "cell_type": "code",
   "execution_count": 19,
   "metadata": {
    "id": "qIhEV6EQ4jJc"
   },
   "outputs": [],
   "source": [
    "combine['Subcategory_1'] = np.where((combine['Subcategory_1']=='unknown'),combine['Item_Category'],combine['Subcategory_1'])\n",
    "combine['Subcategory_2'] = np.where((combine['Subcategory_2']=='unknown'),combine['Subcategory_1'],combine['Subcategory_2'])"
   ]
  },
  {
   "cell_type": "code",
   "execution_count": 20,
   "metadata": {
    "id": "E71geGWVy_fv"
   },
   "outputs": [],
   "source": [
    "enc_nom = (combine.groupby('Item_Category').size()) / len(combine)\n",
    "enc_nom\n",
    "combine['Item_Category_encode'] = combine['Item_Category'].apply(lambda x : enc_nom[x])"
   ]
  },
  {
   "cell_type": "code",
   "execution_count": 21,
   "metadata": {
    "id": "TXu_zlH1JhJM"
   },
   "outputs": [],
   "source": [
    "enc_nom_1 = (combine.groupby('Subcategory_1').size()) / len(combine)\n",
    "enc_nom_1\n",
    "combine['Subcategory_1_encode'] = combine['Subcategory_1'].apply(lambda x : enc_nom_1[x])"
   ]
  },
  {
   "cell_type": "code",
   "execution_count": 22,
   "metadata": {
    "id": "lYUOos0t0MbQ"
   },
   "outputs": [],
   "source": [
    "enc_nom_2 = (combine.groupby('Subcategory_2').size()) / len(combine)\n",
    "enc_nom_2\n",
    "combine['Subcategory_2_encode'] = combine['Subcategory_2'].apply(lambda x : enc_nom_2[x])"
   ]
  },
  {
   "cell_type": "markdown",
   "execution_count": null,
   "metadata": {
    "id": "eysmGpS44mah"
   },
   "source": [
    "**Extracting the additional Month feature from Date as it may be useful**"
   ]
  },
  {
   "cell_type": "code",
   "execution_count": 23,
   "metadata": {
    "id": "qpKwVEy9H8f7"
   },
   "outputs": [],
   "source": [
    "from datetime import datetime\n",
    "combine['Date'] = pd.to_datetime(combine['Date'])\n",
    "combine['Month'] = [date.month for date in combine.Date]"
   ]
  },
  {
   "cell_type": "markdown",
   "execution_count": null,
   "metadata": {
    "id": "whkSA9LU5JeG"
   },
   "source": [
    "**Let us have a look at the final dataset after dropping unnecessary columns**"
   ]
  },
  {
   "cell_type": "code",
   "execution_count": 24,
   "metadata": {
    "id": "ysETmLIvxuE6"
   },
   "outputs": [],
   "source": [
    "combine.drop(['Item_Category','Subcategory_1','Subcategory_2','Date','Item_Rating'],axis=1,inplace = True)"
   ]
  },
  {
   "cell_type": "code",
   "execution_count": 25,
   "metadata": {
    "id": "DVil5FBAMUnq",
    "outputId": "f62b33bf-e971-403c-f3d5-b5e909dee067"
   },
   "outputs": [
    {
     "data": {
      "text/html": [
       "<div>\n",
       "<style scoped>\n",
       "    .dataframe tbody tr th:only-of-type {\n",
       "        vertical-align: middle;\n",
       "    }\n",
       "\n",
       "    .dataframe tbody tr th {\n",
       "        vertical-align: top;\n",
       "    }\n",
       "\n",
       "    .dataframe thead th {\n",
       "        text-align: right;\n",
       "    }\n",
       "</style>\n",
       "<table border=\"1\" class=\"dataframe\">\n",
       "  <thead>\n",
       "    <tr style=\"text-align: right;\">\n",
       "      <th></th>\n",
       "      <th>Product</th>\n",
       "      <th>Product_Brand</th>\n",
       "      <th>Selling_Price</th>\n",
       "      <th>Item_Category_encode</th>\n",
       "      <th>Subcategory_1_encode</th>\n",
       "      <th>Subcategory_2_encode</th>\n",
       "      <th>Month</th>\n",
       "    </tr>\n",
       "  </thead>\n",
       "  <tbody>\n",
       "    <tr>\n",
       "      <th>0</th>\n",
       "      <td>7.867106</td>\n",
       "      <td>6.490724</td>\n",
       "      <td>5.673323</td>\n",
       "      <td>0.015420</td>\n",
       "      <td>0.011422</td>\n",
       "      <td>0.004854</td>\n",
       "      <td>2</td>\n",
       "    </tr>\n",
       "    <tr>\n",
       "      <th>1</th>\n",
       "      <td>7.805067</td>\n",
       "      <td>8.032035</td>\n",
       "      <td>6.799056</td>\n",
       "      <td>0.296117</td>\n",
       "      <td>0.198458</td>\n",
       "      <td>0.109652</td>\n",
       "      <td>7</td>\n",
       "    </tr>\n",
       "    <tr>\n",
       "      <th>2</th>\n",
       "      <td>8.824972</td>\n",
       "      <td>7.501082</td>\n",
       "      <td>6.674561</td>\n",
       "      <td>0.039406</td>\n",
       "      <td>0.012850</td>\n",
       "      <td>0.005425</td>\n",
       "      <td>1</td>\n",
       "    </tr>\n",
       "    <tr>\n",
       "      <th>3</th>\n",
       "      <td>8.401109</td>\n",
       "      <td>8.032035</td>\n",
       "      <td>6.729824</td>\n",
       "      <td>0.031696</td>\n",
       "      <td>0.000571</td>\n",
       "      <td>0.000286</td>\n",
       "      <td>12</td>\n",
       "    </tr>\n",
       "    <tr>\n",
       "      <th>4</th>\n",
       "      <td>9.042395</td>\n",
       "      <td>8.032035</td>\n",
       "      <td>6.152733</td>\n",
       "      <td>0.296117</td>\n",
       "      <td>0.069389</td>\n",
       "      <td>0.024843</td>\n",
       "      <td>12</td>\n",
       "    </tr>\n",
       "  </tbody>\n",
       "</table>\n",
       "</div>"
      ],
      "text/plain": [
       "    Product  Product_Brand  Selling_Price  Item_Category_encode  \\\n",
       "0  7.867106       6.490724       5.673323              0.015420   \n",
       "1  7.805067       8.032035       6.799056              0.296117   \n",
       "2  8.824972       7.501082       6.674561              0.039406   \n",
       "3  8.401109       8.032035       6.729824              0.031696   \n",
       "4  9.042395       8.032035       6.152733              0.296117   \n",
       "\n",
       "   Subcategory_1_encode  Subcategory_2_encode  Month  \n",
       "0              0.011422              0.004854      2  \n",
       "1              0.198458              0.109652      7  \n",
       "2              0.012850              0.005425      1  \n",
       "3              0.000571              0.000286     12  \n",
       "4              0.069389              0.024843     12  "
      ]
     },
     "execution_count": 25,
     "metadata": {},
     "output_type": "execute_result"
    }
   ],
   "source": [
    "combine.head()"
   ]
  },
  {
   "cell_type": "markdown",
   "execution_count": null,
   "metadata": {
    "id": "kHsB8ib-QDca"
   },
   "source": [
    "# Model Building"
   ]
  },
  {
   "cell_type": "code",
   "execution_count": 26,
   "metadata": {
    "id": "5OJpwZamQHbM"
   },
   "outputs": [],
   "source": [
    "#Separating train and test datasets\n",
    "train=combine[combine['Selling_Price'].isnull()!=True]\n",
    "test=combine[combine['Selling_Price'].isnull()==True]\n",
    "\n",
    "test=test.drop(['Selling_Price'], axis=1)"
   ]
  },
  {
   "cell_type": "code",
   "execution_count": 27,
   "metadata": {
    "id": "AShfvs1CQ75R",
    "outputId": "557a38eb-189b-47ef-95a5-38742042a264"
   },
   "outputs": [
    {
     "name": "stdout",
     "output_type": "stream",
     "text": [
      "(2451, 7) (1051, 6)\n"
     ]
    }
   ],
   "source": [
    "print(train.shape,test.shape)"
   ]
  },
  {
   "cell_type": "code",
   "execution_count": 28,
   "metadata": {
    "id": "AlnbPxxmRSbz"
   },
   "outputs": [],
   "source": [
    "#train-test split\n",
    "Y = train['Selling_Price']\n",
    "X = train.drop('Selling_Price',axis=1)\n",
    "\n",
    "\n",
    "X_train,X_val,Y_train,Y_val=train_test_split(X,Y,test_size=0.1,random_state=0)"
   ]
  },
  {
   "cell_type": "code",
   "execution_count": 29,
   "metadata": {
    "id": "kDpNlUOVVdrr",
    "outputId": "e4d1d697-e5fa-4c8c-f240-5710962e1e5f"
   },
   "outputs": [
    {
     "name": "stdout",
     "output_type": "stream",
     "text": [
      "(2205, 6) (2205,)\n"
     ]
    }
   ],
   "source": [
    "print(X_train.shape,Y_train.shape)"
   ]
  },
  {
   "cell_type": "markdown",
   "execution_count": null,
   "metadata": {
    "id": "lfqLXMns7Vt2"
   },
   "source": [
    "**I used 4 of the following tree based/boosting algorithms for training purpose:**\n",
    "\n",
    "\n",
    "\n",
    "1.   CatBoost\n",
    "2.   RandomForestRegressor\n",
    "3.   XGBoost\n",
    "4.   LightGBM\n",
    "\n",
    "\n",
    "\n",
    "> Random Forest performed the best as a standalone model based on 10 fold CV score and public dataset results and hence hyper-parameter tuning was done only for it.\n",
    "\n",
    "Score summary is provided at the end for each model\n",
    "\n",
    "\n",
    "\n",
    "\n",
    "\n"
   ]
  },
  {
   "cell_type": "markdown",
   "execution_count": null,
   "metadata": {
    "id": "zTmAJWuc1hgj"
   },
   "source": [
    "## CatBoost"
   ]
  },
  {
   "cell_type": "code",
   "execution_count": 30,
   "metadata": {
    "id": "1L7cuwpe3W1N",
    "outputId": "b6d019c0-d0bd-47cc-87da-f44059a297b9"
   },
   "outputs": [
    {
     "name": "stdout",
     "output_type": "stream",
     "text": [
      "Requirement already satisfied: catboost in /opt/conda/lib/python3.7/site-packages (0.23.2)\r\n",
      "Requirement already satisfied: graphviz in /opt/conda/lib/python3.7/site-packages (from catboost) (0.8.4)\r\n",
      "Requirement already satisfied: numpy>=1.16.0 in /opt/conda/lib/python3.7/site-packages (from catboost) (1.18.1)\r\n",
      "Requirement already satisfied: plotly in /opt/conda/lib/python3.7/site-packages (from catboost) (4.8.1)\r\n",
      "Requirement already satisfied: matplotlib in /opt/conda/lib/python3.7/site-packages (from catboost) (3.2.1)\r\n",
      "Requirement already satisfied: scipy in /opt/conda/lib/python3.7/site-packages (from catboost) (1.4.1)\r\n",
      "Requirement already satisfied: pandas>=0.24.0 in /opt/conda/lib/python3.7/site-packages (from catboost) (1.0.3)\r\n",
      "Requirement already satisfied: six in /opt/conda/lib/python3.7/site-packages (from catboost) (1.14.0)\r\n",
      "Requirement already satisfied: retrying>=1.3.3 in /opt/conda/lib/python3.7/site-packages (from plotly->catboost) (1.3.3)\r\n",
      "Requirement already satisfied: python-dateutil>=2.1 in /opt/conda/lib/python3.7/site-packages (from matplotlib->catboost) (2.8.1)\r\n",
      "Requirement already satisfied: kiwisolver>=1.0.1 in /opt/conda/lib/python3.7/site-packages (from matplotlib->catboost) (1.2.0)\r\n",
      "Requirement already satisfied: cycler>=0.10 in /opt/conda/lib/python3.7/site-packages (from matplotlib->catboost) (0.10.0)\r\n",
      "Requirement already satisfied: pyparsing!=2.0.4,!=2.1.2,!=2.1.6,>=2.0.1 in /opt/conda/lib/python3.7/site-packages (from matplotlib->catboost) (2.4.7)\r\n",
      "Requirement already satisfied: pytz>=2017.2 in /opt/conda/lib/python3.7/site-packages (from pandas>=0.24.0->catboost) (2019.3)\r\n",
      "Note: you may need to restart the kernel to use updated packages.\n"
     ]
    }
   ],
   "source": [
    "pip install catboost\n"
   ]
  },
  {
   "cell_type": "code",
   "execution_count": 31,
   "metadata": {
    "id": "bCCGFx-EeNMJ",
    "outputId": "d8e58cb1-1448-4572-b2cb-4e1c4434c999"
   },
   "outputs": [
    {
     "name": "stdout",
     "output_type": "stream",
     "text": [
      "0:\tlearn: 1.1301934\ttotal: 55.3ms\tremaining: 27.6s\n",
      "1:\tlearn: 1.0748083\ttotal: 57.3ms\tremaining: 14.3s\n",
      "2:\tlearn: 1.0267575\ttotal: 59ms\tremaining: 9.78s\n",
      "3:\tlearn: 0.9841578\ttotal: 60.8ms\tremaining: 7.54s\n",
      "4:\tlearn: 0.9520076\ttotal: 62.6ms\tremaining: 6.2s\n",
      "5:\tlearn: 0.9300172\ttotal: 64.4ms\tremaining: 5.3s\n",
      "6:\tlearn: 0.9085860\ttotal: 66ms\tremaining: 4.65s\n",
      "7:\tlearn: 0.8927597\ttotal: 67.8ms\tremaining: 4.17s\n",
      "8:\tlearn: 0.8728633\ttotal: 69.5ms\tremaining: 3.79s\n",
      "9:\tlearn: 0.8598712\ttotal: 71.2ms\tremaining: 3.49s\n",
      "10:\tlearn: 0.8427194\ttotal: 72.9ms\tremaining: 3.24s\n",
      "11:\tlearn: 0.8312328\ttotal: 74.7ms\tremaining: 3.04s\n",
      "12:\tlearn: 0.8188238\ttotal: 76.5ms\tremaining: 2.87s\n",
      "13:\tlearn: 0.8100752\ttotal: 78.3ms\tremaining: 2.72s\n",
      "14:\tlearn: 0.8034640\ttotal: 79.9ms\tremaining: 2.58s\n",
      "15:\tlearn: 0.7961084\ttotal: 81.7ms\tremaining: 2.47s\n",
      "16:\tlearn: 0.7899737\ttotal: 83.5ms\tremaining: 2.37s\n",
      "17:\tlearn: 0.7842445\ttotal: 85.2ms\tremaining: 2.28s\n",
      "18:\tlearn: 0.7790760\ttotal: 86.9ms\tremaining: 2.2s\n",
      "19:\tlearn: 0.7733010\ttotal: 88.6ms\tremaining: 2.13s\n",
      "20:\tlearn: 0.7658445\ttotal: 90.3ms\tremaining: 2.06s\n",
      "21:\tlearn: 0.7635263\ttotal: 92.1ms\tremaining: 2s\n",
      "22:\tlearn: 0.7591494\ttotal: 93.9ms\tremaining: 1.95s\n",
      "23:\tlearn: 0.7551536\ttotal: 95.6ms\tremaining: 1.9s\n",
      "24:\tlearn: 0.7503592\ttotal: 97.3ms\tremaining: 1.85s\n",
      "25:\tlearn: 0.7468403\ttotal: 99.1ms\tremaining: 1.81s\n",
      "26:\tlearn: 0.7432827\ttotal: 101ms\tremaining: 1.77s\n",
      "27:\tlearn: 0.7408577\ttotal: 103ms\tremaining: 1.73s\n",
      "28:\tlearn: 0.7384024\ttotal: 105ms\tremaining: 1.7s\n",
      "29:\tlearn: 0.7366333\ttotal: 106ms\tremaining: 1.66s\n",
      "30:\tlearn: 0.7339311\ttotal: 108ms\tremaining: 1.63s\n",
      "31:\tlearn: 0.7314303\ttotal: 110ms\tremaining: 1.6s\n",
      "32:\tlearn: 0.7303769\ttotal: 111ms\tremaining: 1.57s\n",
      "33:\tlearn: 0.7286348\ttotal: 113ms\tremaining: 1.55s\n",
      "34:\tlearn: 0.7271229\ttotal: 115ms\tremaining: 1.52s\n",
      "35:\tlearn: 0.7256552\ttotal: 116ms\tremaining: 1.5s\n",
      "36:\tlearn: 0.7216278\ttotal: 118ms\tremaining: 1.48s\n",
      "37:\tlearn: 0.7185415\ttotal: 120ms\tremaining: 1.46s\n",
      "38:\tlearn: 0.7166970\ttotal: 122ms\tremaining: 1.44s\n",
      "39:\tlearn: 0.7146256\ttotal: 123ms\tremaining: 1.42s\n",
      "40:\tlearn: 0.7118441\ttotal: 125ms\tremaining: 1.4s\n",
      "41:\tlearn: 0.7105746\ttotal: 127ms\tremaining: 1.38s\n",
      "42:\tlearn: 0.7087062\ttotal: 128ms\tremaining: 1.36s\n",
      "43:\tlearn: 0.7073122\ttotal: 130ms\tremaining: 1.35s\n",
      "44:\tlearn: 0.6993069\ttotal: 132ms\tremaining: 1.33s\n",
      "45:\tlearn: 0.6985597\ttotal: 134ms\tremaining: 1.32s\n",
      "46:\tlearn: 0.6976875\ttotal: 135ms\tremaining: 1.3s\n",
      "47:\tlearn: 0.6950324\ttotal: 137ms\tremaining: 1.29s\n",
      "48:\tlearn: 0.6928191\ttotal: 139ms\tremaining: 1.27s\n",
      "49:\tlearn: 0.6903686\ttotal: 140ms\tremaining: 1.26s\n",
      "50:\tlearn: 0.6880998\ttotal: 143ms\tremaining: 1.26s\n",
      "51:\tlearn: 0.6876573\ttotal: 145ms\tremaining: 1.25s\n",
      "52:\tlearn: 0.6872435\ttotal: 147ms\tremaining: 1.24s\n",
      "53:\tlearn: 0.6859833\ttotal: 148ms\tremaining: 1.23s\n",
      "54:\tlearn: 0.6845484\ttotal: 150ms\tremaining: 1.21s\n",
      "55:\tlearn: 0.6838511\ttotal: 152ms\tremaining: 1.2s\n",
      "56:\tlearn: 0.6828930\ttotal: 153ms\tremaining: 1.19s\n",
      "57:\tlearn: 0.6818034\ttotal: 155ms\tremaining: 1.18s\n",
      "58:\tlearn: 0.6810221\ttotal: 157ms\tremaining: 1.17s\n",
      "59:\tlearn: 0.6759693\ttotal: 159ms\tremaining: 1.16s\n",
      "60:\tlearn: 0.6754403\ttotal: 160ms\tremaining: 1.15s\n",
      "61:\tlearn: 0.6734146\ttotal: 162ms\tremaining: 1.14s\n",
      "62:\tlearn: 0.6725761\ttotal: 164ms\tremaining: 1.14s\n",
      "63:\tlearn: 0.6673860\ttotal: 165ms\tremaining: 1.13s\n",
      "64:\tlearn: 0.6628094\ttotal: 167ms\tremaining: 1.12s\n",
      "65:\tlearn: 0.6615966\ttotal: 169ms\tremaining: 1.11s\n",
      "66:\tlearn: 0.6593796\ttotal: 170ms\tremaining: 1.1s\n",
      "67:\tlearn: 0.6591281\ttotal: 172ms\tremaining: 1.09s\n",
      "68:\tlearn: 0.6586511\ttotal: 174ms\tremaining: 1.08s\n",
      "69:\tlearn: 0.6556160\ttotal: 175ms\tremaining: 1.08s\n",
      "70:\tlearn: 0.6541396\ttotal: 177ms\tremaining: 1.07s\n",
      "71:\tlearn: 0.6538926\ttotal: 179ms\tremaining: 1.06s\n",
      "72:\tlearn: 0.6524556\ttotal: 180ms\tremaining: 1.05s\n",
      "73:\tlearn: 0.6506740\ttotal: 182ms\tremaining: 1.05s\n",
      "74:\tlearn: 0.6500502\ttotal: 184ms\tremaining: 1.04s\n",
      "75:\tlearn: 0.6459200\ttotal: 185ms\tremaining: 1.03s\n",
      "76:\tlearn: 0.6447942\ttotal: 187ms\tremaining: 1.03s\n",
      "77:\tlearn: 0.6437906\ttotal: 189ms\tremaining: 1.02s\n",
      "78:\tlearn: 0.6401750\ttotal: 190ms\tremaining: 1.01s\n",
      "79:\tlearn: 0.6392566\ttotal: 192ms\tremaining: 1.01s\n",
      "80:\tlearn: 0.6383859\ttotal: 194ms\tremaining: 1s\n",
      "81:\tlearn: 0.6377538\ttotal: 196ms\tremaining: 997ms\n",
      "82:\tlearn: 0.6373579\ttotal: 197ms\tremaining: 991ms\n",
      "83:\tlearn: 0.6371351\ttotal: 199ms\tremaining: 986ms\n",
      "84:\tlearn: 0.6368723\ttotal: 201ms\tremaining: 980ms\n",
      "85:\tlearn: 0.6362272\ttotal: 202ms\tremaining: 974ms\n",
      "86:\tlearn: 0.6355778\ttotal: 204ms\tremaining: 969ms\n",
      "87:\tlearn: 0.6346854\ttotal: 206ms\tremaining: 963ms\n",
      "88:\tlearn: 0.6343579\ttotal: 207ms\tremaining: 958ms\n",
      "89:\tlearn: 0.6337937\ttotal: 209ms\tremaining: 952ms\n",
      "90:\tlearn: 0.6335794\ttotal: 211ms\tremaining: 947ms\n",
      "91:\tlearn: 0.6307979\ttotal: 213ms\tremaining: 943ms\n",
      "92:\tlearn: 0.6267078\ttotal: 214ms\tremaining: 938ms\n",
      "93:\tlearn: 0.6224893\ttotal: 216ms\tremaining: 933ms\n",
      "94:\tlearn: 0.6200675\ttotal: 218ms\tremaining: 928ms\n",
      "95:\tlearn: 0.6180205\ttotal: 219ms\tremaining: 923ms\n",
      "96:\tlearn: 0.6174529\ttotal: 221ms\tremaining: 918ms\n",
      "97:\tlearn: 0.6167504\ttotal: 223ms\tremaining: 913ms\n",
      "98:\tlearn: 0.6148943\ttotal: 224ms\tremaining: 908ms\n",
      "99:\tlearn: 0.6140712\ttotal: 226ms\tremaining: 903ms\n",
      "100:\tlearn: 0.6134860\ttotal: 227ms\tremaining: 898ms\n",
      "101:\tlearn: 0.6127404\ttotal: 229ms\tremaining: 894ms\n",
      "102:\tlearn: 0.6123087\ttotal: 231ms\tremaining: 890ms\n",
      "103:\tlearn: 0.6112589\ttotal: 233ms\tremaining: 886ms\n",
      "104:\tlearn: 0.6085851\ttotal: 234ms\tremaining: 882ms\n",
      "105:\tlearn: 0.6080067\ttotal: 236ms\tremaining: 878ms\n",
      "106:\tlearn: 0.6069527\ttotal: 238ms\tremaining: 874ms\n",
      "107:\tlearn: 0.6030321\ttotal: 240ms\tremaining: 870ms\n",
      "108:\tlearn: 0.6025851\ttotal: 241ms\tremaining: 866ms\n",
      "109:\tlearn: 0.6016457\ttotal: 243ms\tremaining: 861ms\n",
      "110:\tlearn: 0.6015556\ttotal: 245ms\tremaining: 860ms\n",
      "111:\tlearn: 0.6009639\ttotal: 247ms\tremaining: 856ms\n",
      "112:\tlearn: 0.6007093\ttotal: 249ms\tremaining: 852ms\n",
      "113:\tlearn: 0.5996537\ttotal: 251ms\tremaining: 848ms\n",
      "114:\tlearn: 0.5994280\ttotal: 252ms\tremaining: 845ms\n",
      "115:\tlearn: 0.5968499\ttotal: 254ms\tremaining: 841ms\n",
      "116:\tlearn: 0.5959506\ttotal: 256ms\tremaining: 838ms\n",
      "117:\tlearn: 0.5957078\ttotal: 258ms\tremaining: 834ms\n",
      "118:\tlearn: 0.5946640\ttotal: 259ms\tremaining: 830ms\n",
      "119:\tlearn: 0.5945045\ttotal: 261ms\tremaining: 827ms\n",
      "120:\tlearn: 0.5943592\ttotal: 263ms\tremaining: 823ms\n",
      "121:\tlearn: 0.5940245\ttotal: 264ms\tremaining: 819ms\n",
      "122:\tlearn: 0.5934898\ttotal: 266ms\tremaining: 815ms\n",
      "123:\tlearn: 0.5915093\ttotal: 268ms\tremaining: 812ms\n",
      "124:\tlearn: 0.5910266\ttotal: 269ms\tremaining: 808ms\n",
      "125:\tlearn: 0.5887360\ttotal: 271ms\tremaining: 804ms\n",
      "126:\tlearn: 0.5881904\ttotal: 273ms\tremaining: 801ms\n",
      "127:\tlearn: 0.5879512\ttotal: 274ms\tremaining: 797ms\n",
      "128:\tlearn: 0.5875071\ttotal: 276ms\tremaining: 794ms\n",
      "129:\tlearn: 0.5859133\ttotal: 278ms\tremaining: 791ms\n",
      "130:\tlearn: 0.5857797\ttotal: 279ms\tremaining: 787ms\n",
      "131:\tlearn: 0.5851023\ttotal: 281ms\tremaining: 784ms\n",
      "132:\tlearn: 0.5843353\ttotal: 283ms\tremaining: 780ms\n",
      "133:\tlearn: 0.5830936\ttotal: 284ms\tremaining: 777ms\n",
      "134:\tlearn: 0.5827211\ttotal: 286ms\tremaining: 774ms\n",
      "135:\tlearn: 0.5821602\ttotal: 288ms\tremaining: 770ms\n",
      "136:\tlearn: 0.5803262\ttotal: 289ms\tremaining: 767ms\n",
      "137:\tlearn: 0.5791168\ttotal: 291ms\tremaining: 764ms\n",
      "138:\tlearn: 0.5787895\ttotal: 293ms\tremaining: 761ms\n",
      "139:\tlearn: 0.5771383\ttotal: 295ms\tremaining: 758ms\n",
      "140:\tlearn: 0.5768826\ttotal: 297ms\tremaining: 755ms\n",
      "141:\tlearn: 0.5758814\ttotal: 298ms\tremaining: 752ms\n",
      "142:\tlearn: 0.5752636\ttotal: 300ms\tremaining: 749ms\n",
      "143:\tlearn: 0.5736999\ttotal: 302ms\tremaining: 746ms\n",
      "144:\tlearn: 0.5732263\ttotal: 304ms\tremaining: 743ms\n",
      "145:\tlearn: 0.5726471\ttotal: 305ms\tremaining: 740ms\n",
      "146:\tlearn: 0.5722646\ttotal: 307ms\tremaining: 737ms\n",
      "147:\tlearn: 0.5717918\ttotal: 309ms\tremaining: 735ms\n",
      "148:\tlearn: 0.5702104\ttotal: 311ms\tremaining: 732ms\n",
      "149:\tlearn: 0.5700043\ttotal: 312ms\tremaining: 729ms\n",
      "150:\tlearn: 0.5693376\ttotal: 314ms\tremaining: 726ms\n",
      "151:\tlearn: 0.5688930\ttotal: 316ms\tremaining: 723ms\n",
      "152:\tlearn: 0.5684433\ttotal: 317ms\tremaining: 720ms\n",
      "153:\tlearn: 0.5680425\ttotal: 319ms\tremaining: 717ms\n",
      "154:\tlearn: 0.5674530\ttotal: 321ms\tremaining: 714ms\n",
      "155:\tlearn: 0.5668952\ttotal: 323ms\tremaining: 712ms\n",
      "156:\tlearn: 0.5660581\ttotal: 325ms\tremaining: 709ms\n",
      "157:\tlearn: 0.5655942\ttotal: 326ms\tremaining: 706ms\n",
      "158:\tlearn: 0.5652260\ttotal: 328ms\tremaining: 703ms\n",
      "159:\tlearn: 0.5645297\ttotal: 330ms\tremaining: 700ms\n",
      "160:\tlearn: 0.5642914\ttotal: 331ms\tremaining: 698ms\n",
      "161:\tlearn: 0.5635568\ttotal: 334ms\tremaining: 697ms\n",
      "162:\tlearn: 0.5627569\ttotal: 336ms\tremaining: 694ms\n",
      "163:\tlearn: 0.5624087\ttotal: 337ms\tremaining: 691ms\n",
      "164:\tlearn: 0.5615866\ttotal: 339ms\tremaining: 688ms\n",
      "165:\tlearn: 0.5611535\ttotal: 341ms\tremaining: 686ms\n",
      "166:\tlearn: 0.5607949\ttotal: 342ms\tremaining: 683ms\n",
      "167:\tlearn: 0.5602509\ttotal: 344ms\tremaining: 680ms\n",
      "168:\tlearn: 0.5589131\ttotal: 346ms\tremaining: 677ms\n",
      "169:\tlearn: 0.5586270\ttotal: 347ms\tremaining: 675ms\n",
      "170:\tlearn: 0.5584852\ttotal: 349ms\tremaining: 672ms\n",
      "171:\tlearn: 0.5581431\ttotal: 351ms\tremaining: 669ms\n",
      "172:\tlearn: 0.5562148\ttotal: 353ms\tremaining: 666ms\n",
      "173:\tlearn: 0.5555886\ttotal: 354ms\tremaining: 664ms\n",
      "174:\tlearn: 0.5539740\ttotal: 356ms\tremaining: 661ms\n",
      "175:\tlearn: 0.5537454\ttotal: 358ms\tremaining: 658ms\n",
      "176:\tlearn: 0.5532681\ttotal: 359ms\tremaining: 656ms\n",
      "177:\tlearn: 0.5516313\ttotal: 361ms\tremaining: 653ms\n",
      "178:\tlearn: 0.5515538\ttotal: 363ms\tremaining: 651ms\n",
      "179:\tlearn: 0.5505042\ttotal: 365ms\tremaining: 648ms\n",
      "180:\tlearn: 0.5496015\ttotal: 366ms\tremaining: 645ms\n",
      "181:\tlearn: 0.5483779\ttotal: 368ms\tremaining: 643ms\n",
      "182:\tlearn: 0.5481213\ttotal: 370ms\tremaining: 641ms\n",
      "183:\tlearn: 0.5478308\ttotal: 371ms\tremaining: 638ms\n",
      "184:\tlearn: 0.5471748\ttotal: 373ms\tremaining: 635ms\n",
      "185:\tlearn: 0.5462787\ttotal: 375ms\tremaining: 633ms\n",
      "186:\tlearn: 0.5462717\ttotal: 376ms\tremaining: 630ms\n",
      "187:\tlearn: 0.5460722\ttotal: 378ms\tremaining: 627ms\n",
      "188:\tlearn: 0.5458504\ttotal: 380ms\tremaining: 625ms\n",
      "189:\tlearn: 0.5455899\ttotal: 381ms\tremaining: 622ms\n",
      "190:\tlearn: 0.5453462\ttotal: 383ms\tremaining: 620ms\n",
      "191:\tlearn: 0.5449084\ttotal: 385ms\tremaining: 617ms\n",
      "192:\tlearn: 0.5448345\ttotal: 387ms\tremaining: 615ms\n",
      "193:\tlearn: 0.5441481\ttotal: 388ms\tremaining: 613ms\n",
      "194:\tlearn: 0.5440634\ttotal: 390ms\tremaining: 610ms\n",
      "195:\tlearn: 0.5438609\ttotal: 392ms\tremaining: 607ms\n",
      "196:\tlearn: 0.5436937\ttotal: 393ms\tremaining: 605ms\n",
      "197:\tlearn: 0.5436145\ttotal: 395ms\tremaining: 602ms\n",
      "198:\tlearn: 0.5436181\ttotal: 397ms\tremaining: 600ms\n",
      "199:\tlearn: 0.5435891\ttotal: 398ms\tremaining: 597ms\n",
      "200:\tlearn: 0.5433222\ttotal: 400ms\tremaining: 595ms\n",
      "201:\tlearn: 0.5433052\ttotal: 401ms\tremaining: 592ms\n",
      "202:\tlearn: 0.5425941\ttotal: 403ms\tremaining: 590ms\n",
      "203:\tlearn: 0.5420630\ttotal: 405ms\tremaining: 587ms\n",
      "204:\tlearn: 0.5415012\ttotal: 407ms\tremaining: 585ms\n",
      "205:\tlearn: 0.5409748\ttotal: 408ms\tremaining: 583ms\n",
      "206:\tlearn: 0.5407381\ttotal: 410ms\tremaining: 580ms\n",
      "207:\tlearn: 0.5403455\ttotal: 412ms\tremaining: 578ms\n",
      "208:\tlearn: 0.5397157\ttotal: 413ms\tremaining: 576ms\n",
      "209:\tlearn: 0.5392202\ttotal: 415ms\tremaining: 573ms\n",
      "210:\tlearn: 0.5386852\ttotal: 417ms\tremaining: 571ms\n",
      "211:\tlearn: 0.5386332\ttotal: 419ms\tremaining: 569ms\n",
      "212:\tlearn: 0.5385898\ttotal: 420ms\tremaining: 566ms\n",
      "213:\tlearn: 0.5385179\ttotal: 422ms\tremaining: 564ms\n",
      "214:\tlearn: 0.5383870\ttotal: 424ms\tremaining: 562ms\n",
      "215:\tlearn: 0.5376717\ttotal: 425ms\tremaining: 559ms\n",
      "216:\tlearn: 0.5372213\ttotal: 427ms\tremaining: 557ms\n",
      "217:\tlearn: 0.5368866\ttotal: 429ms\tremaining: 555ms\n",
      "218:\tlearn: 0.5368630\ttotal: 431ms\tremaining: 553ms\n",
      "219:\tlearn: 0.5362259\ttotal: 433ms\tremaining: 551ms\n",
      "220:\tlearn: 0.5360838\ttotal: 435ms\tremaining: 549ms\n",
      "221:\tlearn: 0.5359665\ttotal: 437ms\tremaining: 547ms\n",
      "222:\tlearn: 0.5356268\ttotal: 438ms\tremaining: 545ms\n",
      "223:\tlearn: 0.5348883\ttotal: 440ms\tremaining: 543ms\n",
      "224:\tlearn: 0.5344999\ttotal: 442ms\tremaining: 540ms\n",
      "225:\tlearn: 0.5344188\ttotal: 444ms\tremaining: 538ms\n",
      "226:\tlearn: 0.5339214\ttotal: 445ms\tremaining: 536ms\n",
      "227:\tlearn: 0.5337054\ttotal: 447ms\tremaining: 534ms\n",
      "228:\tlearn: 0.5336181\ttotal: 449ms\tremaining: 531ms\n",
      "229:\tlearn: 0.5327044\ttotal: 451ms\tremaining: 529ms\n",
      "230:\tlearn: 0.5326789\ttotal: 453ms\tremaining: 527ms\n",
      "231:\tlearn: 0.5321450\ttotal: 454ms\tremaining: 525ms\n",
      "232:\tlearn: 0.5307268\ttotal: 456ms\tremaining: 523ms\n",
      "233:\tlearn: 0.5306643\ttotal: 458ms\tremaining: 521ms\n",
      "234:\tlearn: 0.5304683\ttotal: 460ms\tremaining: 518ms\n",
      "235:\tlearn: 0.5296071\ttotal: 461ms\tremaining: 516ms\n",
      "236:\tlearn: 0.5294577\ttotal: 463ms\tremaining: 514ms\n",
      "237:\tlearn: 0.5290615\ttotal: 465ms\tremaining: 512ms\n",
      "238:\tlearn: 0.5289272\ttotal: 467ms\tremaining: 510ms\n",
      "239:\tlearn: 0.5281318\ttotal: 469ms\tremaining: 508ms\n",
      "240:\tlearn: 0.5280573\ttotal: 470ms\tremaining: 505ms\n",
      "241:\tlearn: 0.5277238\ttotal: 472ms\tremaining: 503ms\n",
      "242:\tlearn: 0.5276008\ttotal: 474ms\tremaining: 501ms\n",
      "243:\tlearn: 0.5275328\ttotal: 476ms\tremaining: 499ms\n",
      "244:\tlearn: 0.5266245\ttotal: 477ms\tremaining: 497ms\n",
      "245:\tlearn: 0.5265627\ttotal: 479ms\tremaining: 495ms\n",
      "246:\tlearn: 0.5265269\ttotal: 480ms\tremaining: 492ms\n",
      "247:\tlearn: 0.5263225\ttotal: 482ms\tremaining: 490ms\n",
      "248:\tlearn: 0.5257815\ttotal: 484ms\tremaining: 488ms\n",
      "249:\tlearn: 0.5251849\ttotal: 486ms\tremaining: 486ms\n",
      "250:\tlearn: 0.5240839\ttotal: 487ms\tremaining: 483ms\n",
      "251:\tlearn: 0.5235366\ttotal: 489ms\tremaining: 481ms\n",
      "252:\tlearn: 0.5232313\ttotal: 491ms\tremaining: 479ms\n",
      "253:\tlearn: 0.5229669\ttotal: 492ms\tremaining: 477ms\n",
      "254:\tlearn: 0.5227831\ttotal: 494ms\tremaining: 475ms\n",
      "255:\tlearn: 0.5224281\ttotal: 496ms\tremaining: 473ms\n",
      "256:\tlearn: 0.5221583\ttotal: 498ms\tremaining: 471ms\n",
      "257:\tlearn: 0.5215525\ttotal: 500ms\tremaining: 469ms\n",
      "258:\tlearn: 0.5211321\ttotal: 501ms\tremaining: 466ms\n",
      "259:\tlearn: 0.5204816\ttotal: 503ms\tremaining: 464ms\n",
      "260:\tlearn: 0.5199985\ttotal: 505ms\tremaining: 462ms\n",
      "261:\tlearn: 0.5196991\ttotal: 506ms\tremaining: 460ms\n",
      "262:\tlearn: 0.5194145\ttotal: 508ms\tremaining: 458ms\n",
      "263:\tlearn: 0.5190386\ttotal: 510ms\tremaining: 456ms\n",
      "264:\tlearn: 0.5184379\ttotal: 512ms\tremaining: 454ms\n",
      "265:\tlearn: 0.5182218\ttotal: 514ms\tremaining: 452ms\n",
      "266:\tlearn: 0.5178972\ttotal: 516ms\tremaining: 450ms\n",
      "267:\tlearn: 0.5178004\ttotal: 517ms\tremaining: 448ms\n",
      "268:\tlearn: 0.5178000\ttotal: 519ms\tremaining: 446ms\n",
      "269:\tlearn: 0.5176757\ttotal: 521ms\tremaining: 443ms\n",
      "270:\tlearn: 0.5173721\ttotal: 522ms\tremaining: 441ms\n",
      "271:\tlearn: 0.5171575\ttotal: 525ms\tremaining: 440ms\n",
      "272:\tlearn: 0.5169174\ttotal: 527ms\tremaining: 438ms\n",
      "273:\tlearn: 0.5166594\ttotal: 529ms\tremaining: 436ms\n",
      "274:\tlearn: 0.5162892\ttotal: 531ms\tremaining: 434ms\n",
      "275:\tlearn: 0.5157492\ttotal: 533ms\tremaining: 432ms\n",
      "276:\tlearn: 0.5156576\ttotal: 535ms\tremaining: 430ms\n",
      "277:\tlearn: 0.5145667\ttotal: 536ms\tremaining: 428ms\n",
      "278:\tlearn: 0.5144221\ttotal: 538ms\tremaining: 426ms\n",
      "279:\tlearn: 0.5142518\ttotal: 540ms\tremaining: 424ms\n",
      "280:\tlearn: 0.5138533\ttotal: 541ms\tremaining: 422ms\n",
      "281:\tlearn: 0.5134223\ttotal: 543ms\tremaining: 420ms\n",
      "282:\tlearn: 0.5132864\ttotal: 545ms\tremaining: 418ms\n",
      "283:\tlearn: 0.5131055\ttotal: 546ms\tremaining: 416ms\n",
      "284:\tlearn: 0.5129373\ttotal: 548ms\tremaining: 413ms\n",
      "285:\tlearn: 0.5124828\ttotal: 550ms\tremaining: 411ms\n",
      "286:\tlearn: 0.5123867\ttotal: 551ms\tremaining: 409ms\n",
      "287:\tlearn: 0.5118155\ttotal: 553ms\tremaining: 407ms\n",
      "288:\tlearn: 0.5115609\ttotal: 555ms\tremaining: 405ms\n",
      "289:\tlearn: 0.5114477\ttotal: 556ms\tremaining: 403ms\n",
      "290:\tlearn: 0.5112143\ttotal: 558ms\tremaining: 401ms\n",
      "291:\tlearn: 0.5104626\ttotal: 560ms\tremaining: 399ms\n",
      "292:\tlearn: 0.5099669\ttotal: 562ms\tremaining: 397ms\n",
      "293:\tlearn: 0.5096659\ttotal: 563ms\tremaining: 395ms\n",
      "294:\tlearn: 0.5095514\ttotal: 565ms\tremaining: 393ms\n",
      "295:\tlearn: 0.5095365\ttotal: 567ms\tremaining: 391ms\n",
      "296:\tlearn: 0.5093631\ttotal: 569ms\tremaining: 389ms\n",
      "297:\tlearn: 0.5091637\ttotal: 570ms\tremaining: 387ms\n",
      "298:\tlearn: 0.5088918\ttotal: 572ms\tremaining: 385ms\n",
      "299:\tlearn: 0.5087367\ttotal: 574ms\tremaining: 383ms\n",
      "300:\tlearn: 0.5087435\ttotal: 576ms\tremaining: 381ms\n",
      "301:\tlearn: 0.5084313\ttotal: 578ms\tremaining: 379ms\n",
      "302:\tlearn: 0.5083631\ttotal: 579ms\tremaining: 377ms\n",
      "303:\tlearn: 0.5078713\ttotal: 581ms\tremaining: 375ms\n",
      "304:\tlearn: 0.5075607\ttotal: 583ms\tremaining: 372ms\n",
      "305:\tlearn: 0.5075110\ttotal: 585ms\tremaining: 371ms\n",
      "306:\tlearn: 0.5071876\ttotal: 587ms\tremaining: 369ms\n",
      "307:\tlearn: 0.5069021\ttotal: 588ms\tremaining: 367ms\n",
      "308:\tlearn: 0.5064373\ttotal: 590ms\tremaining: 365ms\n",
      "309:\tlearn: 0.5064209\ttotal: 592ms\tremaining: 363ms\n",
      "310:\tlearn: 0.5063283\ttotal: 593ms\tremaining: 361ms\n",
      "311:\tlearn: 0.5058716\ttotal: 595ms\tremaining: 359ms\n",
      "312:\tlearn: 0.5056275\ttotal: 597ms\tremaining: 357ms\n",
      "313:\tlearn: 0.5055348\ttotal: 599ms\tremaining: 355ms\n",
      "314:\tlearn: 0.5053694\ttotal: 600ms\tremaining: 353ms\n",
      "315:\tlearn: 0.5043351\ttotal: 602ms\tremaining: 351ms\n",
      "316:\tlearn: 0.5042544\ttotal: 604ms\tremaining: 349ms\n",
      "317:\tlearn: 0.5041935\ttotal: 606ms\tremaining: 347ms\n",
      "318:\tlearn: 0.5041551\ttotal: 607ms\tremaining: 345ms\n",
      "319:\tlearn: 0.5041304\ttotal: 609ms\tremaining: 343ms\n",
      "320:\tlearn: 0.5040084\ttotal: 611ms\tremaining: 341ms\n",
      "321:\tlearn: 0.5036477\ttotal: 613ms\tremaining: 339ms\n",
      "322:\tlearn: 0.5035802\ttotal: 615ms\tremaining: 337ms\n",
      "323:\tlearn: 0.5034412\ttotal: 616ms\tremaining: 335ms\n",
      "324:\tlearn: 0.5016855\ttotal: 618ms\tremaining: 333ms\n",
      "325:\tlearn: 0.5015814\ttotal: 620ms\tremaining: 331ms\n",
      "326:\tlearn: 0.5014634\ttotal: 622ms\tremaining: 329ms\n",
      "327:\tlearn: 0.5013048\ttotal: 625ms\tremaining: 328ms\n",
      "328:\tlearn: 0.5011757\ttotal: 626ms\tremaining: 326ms\n",
      "329:\tlearn: 0.5010822\ttotal: 628ms\tremaining: 324ms\n",
      "330:\tlearn: 0.5009018\ttotal: 630ms\tremaining: 322ms\n",
      "331:\tlearn: 0.5008957\ttotal: 633ms\tremaining: 320ms\n",
      "332:\tlearn: 0.5007814\ttotal: 635ms\tremaining: 319ms\n",
      "333:\tlearn: 0.5003666\ttotal: 637ms\tremaining: 317ms\n",
      "334:\tlearn: 0.5000993\ttotal: 639ms\tremaining: 315ms\n",
      "335:\tlearn: 0.5000442\ttotal: 641ms\tremaining: 313ms\n",
      "336:\tlearn: 0.5000545\ttotal: 643ms\tremaining: 311ms\n",
      "337:\tlearn: 0.4998642\ttotal: 645ms\tremaining: 309ms\n",
      "338:\tlearn: 0.4995097\ttotal: 647ms\tremaining: 307ms\n",
      "339:\tlearn: 0.4992585\ttotal: 649ms\tremaining: 305ms\n",
      "340:\tlearn: 0.4992447\ttotal: 650ms\tremaining: 303ms\n",
      "341:\tlearn: 0.4989008\ttotal: 652ms\tremaining: 301ms\n",
      "342:\tlearn: 0.4984134\ttotal: 654ms\tremaining: 299ms\n",
      "343:\tlearn: 0.4980720\ttotal: 656ms\tremaining: 297ms\n",
      "344:\tlearn: 0.4974701\ttotal: 657ms\tremaining: 295ms\n",
      "345:\tlearn: 0.4969715\ttotal: 659ms\tremaining: 293ms\n",
      "346:\tlearn: 0.4967914\ttotal: 661ms\tremaining: 291ms\n",
      "347:\tlearn: 0.4967090\ttotal: 663ms\tremaining: 289ms\n",
      "348:\tlearn: 0.4965064\ttotal: 664ms\tremaining: 287ms\n",
      "349:\tlearn: 0.4962831\ttotal: 666ms\tremaining: 286ms\n",
      "350:\tlearn: 0.4961723\ttotal: 668ms\tremaining: 284ms\n",
      "351:\tlearn: 0.4961849\ttotal: 670ms\tremaining: 282ms\n",
      "352:\tlearn: 0.4960890\ttotal: 672ms\tremaining: 280ms\n",
      "353:\tlearn: 0.4953781\ttotal: 673ms\tremaining: 278ms\n",
      "354:\tlearn: 0.4951540\ttotal: 675ms\tremaining: 276ms\n",
      "355:\tlearn: 0.4946837\ttotal: 677ms\tremaining: 274ms\n",
      "356:\tlearn: 0.4946145\ttotal: 679ms\tremaining: 272ms\n",
      "357:\tlearn: 0.4945961\ttotal: 682ms\tremaining: 270ms\n",
      "358:\tlearn: 0.4945729\ttotal: 684ms\tremaining: 269ms\n",
      "359:\tlearn: 0.4945009\ttotal: 686ms\tremaining: 267ms\n",
      "360:\tlearn: 0.4944050\ttotal: 688ms\tremaining: 265ms\n",
      "361:\tlearn: 0.4942948\ttotal: 689ms\tremaining: 263ms\n",
      "362:\tlearn: 0.4942180\ttotal: 691ms\tremaining: 261ms\n",
      "363:\tlearn: 0.4942058\ttotal: 693ms\tremaining: 259ms\n",
      "364:\tlearn: 0.4941702\ttotal: 694ms\tremaining: 257ms\n",
      "365:\tlearn: 0.4941205\ttotal: 696ms\tremaining: 255ms\n",
      "366:\tlearn: 0.4941062\ttotal: 698ms\tremaining: 253ms\n",
      "367:\tlearn: 0.4939051\ttotal: 700ms\tremaining: 251ms\n",
      "368:\tlearn: 0.4930992\ttotal: 701ms\tremaining: 249ms\n",
      "369:\tlearn: 0.4929024\ttotal: 703ms\tremaining: 247ms\n",
      "370:\tlearn: 0.4927660\ttotal: 705ms\tremaining: 245ms\n",
      "371:\tlearn: 0.4926351\ttotal: 707ms\tremaining: 243ms\n",
      "372:\tlearn: 0.4925625\ttotal: 708ms\tremaining: 241ms\n",
      "373:\tlearn: 0.4924704\ttotal: 710ms\tremaining: 239ms\n",
      "374:\tlearn: 0.4922853\ttotal: 712ms\tremaining: 237ms\n",
      "375:\tlearn: 0.4921230\ttotal: 713ms\tremaining: 235ms\n",
      "376:\tlearn: 0.4919211\ttotal: 716ms\tremaining: 234ms\n",
      "377:\tlearn: 0.4918605\ttotal: 718ms\tremaining: 232ms\n",
      "378:\tlearn: 0.4916029\ttotal: 720ms\tremaining: 230ms\n",
      "379:\tlearn: 0.4914844\ttotal: 721ms\tremaining: 228ms\n",
      "380:\tlearn: 0.4913328\ttotal: 723ms\tremaining: 226ms\n",
      "381:\tlearn: 0.4912830\ttotal: 725ms\tremaining: 224ms\n",
      "382:\tlearn: 0.4911678\ttotal: 727ms\tremaining: 222ms\n",
      "383:\tlearn: 0.4910981\ttotal: 728ms\tremaining: 220ms\n",
      "384:\tlearn: 0.4909829\ttotal: 730ms\tremaining: 218ms\n",
      "385:\tlearn: 0.4909697\ttotal: 732ms\tremaining: 216ms\n",
      "386:\tlearn: 0.4907059\ttotal: 734ms\tremaining: 214ms\n",
      "387:\tlearn: 0.4901772\ttotal: 735ms\tremaining: 212ms\n",
      "388:\tlearn: 0.4901403\ttotal: 737ms\tremaining: 210ms\n",
      "389:\tlearn: 0.4901118\ttotal: 739ms\tremaining: 208ms\n",
      "390:\tlearn: 0.4900792\ttotal: 740ms\tremaining: 206ms\n",
      "391:\tlearn: 0.4900649\ttotal: 742ms\tremaining: 204ms\n",
      "392:\tlearn: 0.4899285\ttotal: 744ms\tremaining: 203ms\n",
      "393:\tlearn: 0.4897081\ttotal: 746ms\tremaining: 201ms\n",
      "394:\tlearn: 0.4896749\ttotal: 747ms\tremaining: 199ms\n",
      "395:\tlearn: 0.4893848\ttotal: 749ms\tremaining: 197ms\n",
      "396:\tlearn: 0.4889332\ttotal: 751ms\tremaining: 195ms\n",
      "397:\tlearn: 0.4885302\ttotal: 753ms\tremaining: 193ms\n",
      "398:\tlearn: 0.4879230\ttotal: 754ms\tremaining: 191ms\n",
      "399:\tlearn: 0.4877020\ttotal: 756ms\tremaining: 189ms\n",
      "400:\tlearn: 0.4876129\ttotal: 758ms\tremaining: 187ms\n",
      "401:\tlearn: 0.4871640\ttotal: 760ms\tremaining: 185ms\n",
      "402:\tlearn: 0.4871242\ttotal: 761ms\tremaining: 183ms\n",
      "403:\tlearn: 0.4870985\ttotal: 763ms\tremaining: 181ms\n",
      "404:\tlearn: 0.4870666\ttotal: 765ms\tremaining: 179ms\n",
      "405:\tlearn: 0.4869987\ttotal: 767ms\tremaining: 177ms\n",
      "406:\tlearn: 0.4866070\ttotal: 768ms\tremaining: 176ms\n",
      "407:\tlearn: 0.4863182\ttotal: 770ms\tremaining: 174ms\n",
      "408:\tlearn: 0.4860326\ttotal: 772ms\tremaining: 172ms\n",
      "409:\tlearn: 0.4859883\ttotal: 774ms\tremaining: 170ms\n",
      "410:\tlearn: 0.4856580\ttotal: 776ms\tremaining: 168ms\n",
      "411:\tlearn: 0.4856446\ttotal: 777ms\tremaining: 166ms\n",
      "412:\tlearn: 0.4854467\ttotal: 779ms\tremaining: 164ms\n",
      "413:\tlearn: 0.4853398\ttotal: 781ms\tremaining: 162ms\n",
      "414:\tlearn: 0.4852677\ttotal: 782ms\tremaining: 160ms\n",
      "415:\tlearn: 0.4852779\ttotal: 784ms\tremaining: 158ms\n",
      "416:\tlearn: 0.4848922\ttotal: 786ms\tremaining: 156ms\n",
      "417:\tlearn: 0.4843747\ttotal: 788ms\tremaining: 154ms\n",
      "418:\tlearn: 0.4841074\ttotal: 789ms\tremaining: 153ms\n",
      "419:\tlearn: 0.4834632\ttotal: 791ms\tremaining: 151ms\n",
      "420:\tlearn: 0.4834308\ttotal: 793ms\tremaining: 149ms\n",
      "421:\tlearn: 0.4833913\ttotal: 794ms\tremaining: 147ms\n",
      "422:\tlearn: 0.4830711\ttotal: 796ms\tremaining: 145ms\n",
      "423:\tlearn: 0.4828437\ttotal: 798ms\tremaining: 143ms\n",
      "424:\tlearn: 0.4828073\ttotal: 800ms\tremaining: 141ms\n",
      "425:\tlearn: 0.4827616\ttotal: 801ms\tremaining: 139ms\n",
      "426:\tlearn: 0.4827209\ttotal: 803ms\tremaining: 137ms\n",
      "427:\tlearn: 0.4826806\ttotal: 805ms\tremaining: 135ms\n",
      "428:\tlearn: 0.4825725\ttotal: 807ms\tremaining: 133ms\n",
      "429:\tlearn: 0.4824863\ttotal: 808ms\tremaining: 132ms\n",
      "430:\tlearn: 0.4824290\ttotal: 810ms\tremaining: 130ms\n",
      "431:\tlearn: 0.4821581\ttotal: 812ms\tremaining: 128ms\n",
      "432:\tlearn: 0.4820945\ttotal: 814ms\tremaining: 126ms\n",
      "433:\tlearn: 0.4818203\ttotal: 817ms\tremaining: 124ms\n",
      "434:\tlearn: 0.4817191\ttotal: 818ms\tremaining: 122ms\n",
      "435:\tlearn: 0.4815572\ttotal: 820ms\tremaining: 120ms\n",
      "436:\tlearn: 0.4813977\ttotal: 822ms\tremaining: 118ms\n",
      "437:\tlearn: 0.4811910\ttotal: 824ms\tremaining: 117ms\n",
      "438:\tlearn: 0.4809621\ttotal: 825ms\tremaining: 115ms\n",
      "439:\tlearn: 0.4808808\ttotal: 827ms\tremaining: 113ms\n",
      "440:\tlearn: 0.4808417\ttotal: 829ms\tremaining: 111ms\n",
      "441:\tlearn: 0.4805513\ttotal: 830ms\tremaining: 109ms\n",
      "442:\tlearn: 0.4804451\ttotal: 832ms\tremaining: 107ms\n",
      "443:\tlearn: 0.4804049\ttotal: 834ms\tremaining: 105ms\n",
      "444:\tlearn: 0.4804084\ttotal: 836ms\tremaining: 103ms\n",
      "445:\tlearn: 0.4803353\ttotal: 837ms\tremaining: 101ms\n",
      "446:\tlearn: 0.4802703\ttotal: 839ms\tremaining: 99.5ms\n",
      "447:\tlearn: 0.4801406\ttotal: 841ms\tremaining: 97.6ms\n",
      "448:\tlearn: 0.4798296\ttotal: 842ms\tremaining: 95.7ms\n",
      "449:\tlearn: 0.4797003\ttotal: 844ms\tremaining: 93.8ms\n",
      "450:\tlearn: 0.4792972\ttotal: 846ms\tremaining: 91.9ms\n",
      "451:\tlearn: 0.4789734\ttotal: 848ms\tremaining: 90ms\n",
      "452:\tlearn: 0.4788852\ttotal: 849ms\tremaining: 88.1ms\n",
      "453:\tlearn: 0.4786758\ttotal: 851ms\tremaining: 86.2ms\n",
      "454:\tlearn: 0.4786395\ttotal: 853ms\tremaining: 84.3ms\n",
      "455:\tlearn: 0.4783776\ttotal: 854ms\tremaining: 82.5ms\n",
      "456:\tlearn: 0.4780613\ttotal: 856ms\tremaining: 80.6ms\n",
      "457:\tlearn: 0.4780299\ttotal: 858ms\tremaining: 78.7ms\n",
      "458:\tlearn: 0.4778577\ttotal: 860ms\tremaining: 76.8ms\n",
      "459:\tlearn: 0.4776614\ttotal: 862ms\tremaining: 74.9ms\n",
      "460:\tlearn: 0.4774210\ttotal: 863ms\tremaining: 73ms\n",
      "461:\tlearn: 0.4773607\ttotal: 865ms\tremaining: 71.2ms\n",
      "462:\tlearn: 0.4773136\ttotal: 867ms\tremaining: 69.3ms\n",
      "463:\tlearn: 0.4772845\ttotal: 868ms\tremaining: 67.4ms\n",
      "464:\tlearn: 0.4772678\ttotal: 870ms\tremaining: 65.5ms\n",
      "465:\tlearn: 0.4772216\ttotal: 872ms\tremaining: 63.6ms\n",
      "466:\tlearn: 0.4771163\ttotal: 874ms\tremaining: 61.7ms\n",
      "467:\tlearn: 0.4769689\ttotal: 875ms\tremaining: 59.9ms\n",
      "468:\tlearn: 0.4769332\ttotal: 877ms\tremaining: 58ms\n",
      "469:\tlearn: 0.4766998\ttotal: 879ms\tremaining: 56.1ms\n",
      "470:\tlearn: 0.4766994\ttotal: 880ms\tremaining: 54.2ms\n",
      "471:\tlearn: 0.4765927\ttotal: 882ms\tremaining: 52.3ms\n",
      "472:\tlearn: 0.4763725\ttotal: 884ms\tremaining: 50.5ms\n",
      "473:\tlearn: 0.4763583\ttotal: 885ms\tremaining: 48.6ms\n",
      "474:\tlearn: 0.4762939\ttotal: 887ms\tremaining: 46.7ms\n",
      "475:\tlearn: 0.4759398\ttotal: 889ms\tremaining: 44.8ms\n",
      "476:\tlearn: 0.4757794\ttotal: 891ms\tremaining: 42.9ms\n",
      "477:\tlearn: 0.4757285\ttotal: 892ms\tremaining: 41.1ms\n",
      "478:\tlearn: 0.4754307\ttotal: 894ms\tremaining: 39.2ms\n",
      "479:\tlearn: 0.4754018\ttotal: 896ms\tremaining: 37.3ms\n",
      "480:\tlearn: 0.4752816\ttotal: 897ms\tremaining: 35.4ms\n",
      "481:\tlearn: 0.4750912\ttotal: 899ms\tremaining: 33.6ms\n",
      "482:\tlearn: 0.4749421\ttotal: 901ms\tremaining: 31.7ms\n",
      "483:\tlearn: 0.4748185\ttotal: 903ms\tremaining: 29.8ms\n",
      "484:\tlearn: 0.4747936\ttotal: 904ms\tremaining: 28ms\n",
      "485:\tlearn: 0.4746501\ttotal: 907ms\tremaining: 26.1ms\n",
      "486:\tlearn: 0.4744548\ttotal: 909ms\tremaining: 24.3ms\n",
      "487:\tlearn: 0.4740564\ttotal: 910ms\tremaining: 22.4ms\n",
      "488:\tlearn: 0.4739330\ttotal: 912ms\tremaining: 20.5ms\n",
      "489:\tlearn: 0.4737618\ttotal: 914ms\tremaining: 18.7ms\n",
      "490:\tlearn: 0.4737288\ttotal: 916ms\tremaining: 16.8ms\n",
      "491:\tlearn: 0.4734871\ttotal: 917ms\tremaining: 14.9ms\n",
      "492:\tlearn: 0.4734287\ttotal: 919ms\tremaining: 13.1ms\n",
      "493:\tlearn: 0.4732300\ttotal: 921ms\tremaining: 11.2ms\n",
      "494:\tlearn: 0.4729927\ttotal: 923ms\tremaining: 9.32ms\n",
      "495:\tlearn: 0.4729234\ttotal: 925ms\tremaining: 7.46ms\n",
      "496:\tlearn: 0.4727363\ttotal: 927ms\tremaining: 5.6ms\n",
      "497:\tlearn: 0.4725558\ttotal: 930ms\tremaining: 3.73ms\n",
      "498:\tlearn: 0.4722761\ttotal: 932ms\tremaining: 1.87ms\n",
      "499:\tlearn: 0.4720949\ttotal: 935ms\tremaining: 0us\n"
     ]
    },
    {
     "data": {
      "text/plain": [
       "<catboost.core.CatBoostRegressor at 0x7fa41f906890>"
      ]
     },
     "execution_count": 31,
     "metadata": {},
     "output_type": "execute_result"
    }
   ],
   "source": [
    "from catboost import CatBoostRegressor\n",
    "cb = CatBoostRegressor(\n",
    "    n_estimators = 500,\n",
    "    learning_rate = 0.1,\n",
    "    loss_function = 'MAE',\n",
    "    eval_metric = 'RMSE')\n",
    "\n",
    "cb.fit(X_train,Y_train)"
   ]
  },
  {
   "cell_type": "code",
   "execution_count": 32,
   "metadata": {
    "id": "aEax0WOL2QRa",
    "outputId": "ed355b38-c1bf-4d7b-9a21-0e6e19c8528c"
   },
   "outputs": [
    {
     "data": {
      "text/html": [
       "\n",
       "    <style>\n",
       "    table.eli5-weights tr:hover {\n",
       "        filter: brightness(85%);\n",
       "    }\n",
       "</style>\n",
       "\n",
       "\n",
       "\n",
       "    \n",
       "\n",
       "    \n",
       "\n",
       "    \n",
       "\n",
       "    \n",
       "\n",
       "    \n",
       "\n",
       "    \n",
       "\n",
       "\n",
       "    \n",
       "\n",
       "    \n",
       "\n",
       "    \n",
       "\n",
       "    \n",
       "\n",
       "    \n",
       "\n",
       "    \n",
       "\n",
       "\n",
       "    \n",
       "\n",
       "    \n",
       "\n",
       "    \n",
       "\n",
       "    \n",
       "\n",
       "    \n",
       "        <table class=\"eli5-weights eli5-feature-importances\" style=\"border-collapse: collapse; border: none; margin-top: 0em; table-layout: auto;\">\n",
       "    <thead>\n",
       "    <tr style=\"border: none;\">\n",
       "        <th style=\"padding: 0 1em 0 0.5em; text-align: right; border: none;\">Weight</th>\n",
       "        <th style=\"padding: 0 0.5em 0 0.5em; text-align: left; border: none;\">Feature</th>\n",
       "    </tr>\n",
       "    </thead>\n",
       "    <tbody>\n",
       "    \n",
       "        <tr style=\"background-color: hsl(120, 100.00%, 80.00%); border: none;\">\n",
       "            <td style=\"padding: 0 1em 0 0.5em; text-align: right; border: none;\">\n",
       "                0.6728\n",
       "                \n",
       "                    &plusmn; 0.0564\n",
       "                \n",
       "            </td>\n",
       "            <td style=\"padding: 0 0.5em 0 0.5em; text-align: left; border: none;\">\n",
       "                Subcategory_2_encode\n",
       "            </td>\n",
       "        </tr>\n",
       "    \n",
       "        <tr style=\"background-color: hsl(120, 100.00%, 88.02%); border: none;\">\n",
       "            <td style=\"padding: 0 1em 0 0.5em; text-align: right; border: none;\">\n",
       "                0.3237\n",
       "                \n",
       "                    &plusmn; 0.0770\n",
       "                \n",
       "            </td>\n",
       "            <td style=\"padding: 0 0.5em 0 0.5em; text-align: left; border: none;\">\n",
       "                Subcategory_1_encode\n",
       "            </td>\n",
       "        </tr>\n",
       "    \n",
       "        <tr style=\"background-color: hsl(120, 100.00%, 92.43%); border: none;\">\n",
       "            <td style=\"padding: 0 1em 0 0.5em; text-align: right; border: none;\">\n",
       "                0.1680\n",
       "                \n",
       "                    &plusmn; 0.0466\n",
       "                \n",
       "            </td>\n",
       "            <td style=\"padding: 0 0.5em 0 0.5em; text-align: left; border: none;\">\n",
       "                Month\n",
       "            </td>\n",
       "        </tr>\n",
       "    \n",
       "        <tr style=\"background-color: hsl(120, 100.00%, 93.02%); border: none;\">\n",
       "            <td style=\"padding: 0 1em 0 0.5em; text-align: right; border: none;\">\n",
       "                0.1496\n",
       "                \n",
       "                    &plusmn; 0.0539\n",
       "                \n",
       "            </td>\n",
       "            <td style=\"padding: 0 0.5em 0 0.5em; text-align: left; border: none;\">\n",
       "                Item_Category_encode\n",
       "            </td>\n",
       "        </tr>\n",
       "    \n",
       "        <tr style=\"background-color: hsl(120, 100.00%, 95.71%); border: none;\">\n",
       "            <td style=\"padding: 0 1em 0 0.5em; text-align: right; border: none;\">\n",
       "                0.0746\n",
       "                \n",
       "                    &plusmn; 0.0364\n",
       "                \n",
       "            </td>\n",
       "            <td style=\"padding: 0 0.5em 0 0.5em; text-align: left; border: none;\">\n",
       "                Product_Brand\n",
       "            </td>\n",
       "        </tr>\n",
       "    \n",
       "        <tr style=\"background-color: hsl(120, 100.00%, 97.65%); border: none;\">\n",
       "            <td style=\"padding: 0 1em 0 0.5em; text-align: right; border: none;\">\n",
       "                0.0316\n",
       "                \n",
       "                    &plusmn; 0.0153\n",
       "                \n",
       "            </td>\n",
       "            <td style=\"padding: 0 0.5em 0 0.5em; text-align: left; border: none;\">\n",
       "                Product\n",
       "            </td>\n",
       "        </tr>\n",
       "    \n",
       "    \n",
       "    </tbody>\n",
       "</table>\n",
       "    \n",
       "\n",
       "    \n",
       "\n",
       "\n",
       "    \n",
       "\n",
       "    \n",
       "\n",
       "    \n",
       "\n",
       "    \n",
       "\n",
       "    \n",
       "\n",
       "    \n",
       "\n",
       "\n",
       "\n"
      ],
      "text/plain": [
       "<IPython.core.display.HTML object>"
      ]
     },
     "execution_count": 32,
     "metadata": {},
     "output_type": "execute_result"
    }
   ],
   "source": [
    "import eli5\n",
    "perm = PermutationImportance(cb,random_state=100).fit(X_val, Y_val)\n",
    "eli5.show_weights(perm,feature_names=X_val.columns.tolist())"
   ]
  },
  {
   "cell_type": "code",
   "execution_count": 33,
   "metadata": {
    "id": "bFwytiHKf3Xv",
    "outputId": "5239b09b-83cf-4455-e1af-473ccd91f6cb"
   },
   "outputs": [
    {
     "name": "stdout",
     "output_type": "stream",
     "text": [
      "\n",
      "Fold  1\n",
      "0.7411350342271313\n",
      "\n",
      "Fold  2\n",
      "0.682366771854119\n",
      "\n",
      "Fold  3\n",
      "0.6774146591859156\n",
      "\n",
      "Fold  4\n",
      "0.6860167265019047\n",
      "\n",
      "Fold  5\n",
      "0.6636652445894878\n",
      "\n",
      "Fold  6\n",
      "0.6175774038249462\n",
      "\n",
      "Fold  7\n",
      "0.6681479653720559\n",
      "\n",
      "Fold  8\n",
      "0.5886879966253324\n",
      "\n",
      "Fold  9\n",
      "0.681755587717508\n",
      "\n",
      "Fold  10\n",
      "0.5628555289058577\n",
      "0.6569622918804259\n"
     ]
    }
   ],
   "source": [
    "from sklearn.metrics import mean_squared_error\n",
    "kf=KFold(n_splits=10, random_state=100, shuffle=True)\n",
    "\n",
    "y_test_predict=0\n",
    "mse = 0\n",
    "j=1\n",
    "result={}\n",
    "\n",
    "for i, (train_index, test_index) in enumerate(kf.split(train)):\n",
    "    \n",
    "   Y_train, Y_valid = Y.iloc[train_index], Y.iloc[test_index]\n",
    "   X_train, X_valid = X.iloc[train_index,:], X.iloc[test_index,:]\n",
    "   \n",
    "   print( \"\\nFold \", j)\n",
    "   cb = CatBoostRegressor(\n",
    "    n_estimators = 1000,\n",
    "    learning_rate = 0.05,\n",
    "    max_depth = 6,\n",
    "    boosting_type = 'Ordered',\n",
    "    loss_function = 'RMSE',\n",
    "    eval_metric = 'RMSE',verbose = 0)\n",
    "   \n",
    "  #  xg=XGBRegressor(booster='gbtree', max_depth=5, learning_rate=0.05, reg_alpha=0,\n",
    "  #                 reg_lambda=1, n_jobs=-1, random_state=100, n_estimators=5000)\n",
    "    \n",
    "   model=cb.fit(X_train,Y_train)\n",
    "   pred = model.predict(X_valid)\n",
    "   \n",
    "   print(np.sqrt(mean_squared_error(Y_valid, np.abs(pred))))\n",
    "   mse+=np.sqrt(mean_squared_error(Y_valid,np.abs(pred)))\n",
    "    \n",
    "   #y_test_predict+=model.predict(test)  \n",
    "   #result[j]=model.predict(X_main_test)\n",
    "   j+=1\n",
    "\n",
    "results=y_test_predict/10\n",
    "\n",
    "print(mse/10)"
   ]
  },
  {
   "cell_type": "code",
   "execution_count": 34,
   "metadata": {
    "id": "QSwdYauppy4v",
    "outputId": "047c800d-f60c-4941-e371-678c1ee1629b"
   },
   "outputs": [],
   "source": [
    "# model3=cb.fit(x,y)\n",
    "# pred_cb = model3.predict(test)\n",
    "# pred_cb = np.abs(pred_cb)\n",
    "# pred_cb"
   ]
  },
  {
   "cell_type": "markdown",
   "execution_count": null,
   "metadata": {
    "id": "8rNvSV38SRD7"
   },
   "source": [
    "## RandomForestRegressor"
   ]
  },
  {
   "cell_type": "code",
   "execution_count": 35,
   "metadata": {
    "id": "4pJA5xWASVN8",
    "outputId": "594bcb1c-bf40-42c2-a3f6-06a4258efef5"
   },
   "outputs": [
    {
     "data": {
      "text/plain": [
       "RandomForestRegressor(min_samples_split=5, random_state=100)"
      ]
     },
     "execution_count": 35,
     "metadata": {},
     "output_type": "execute_result"
    }
   ],
   "source": [
    "from sklearn.ensemble import RandomForestRegressor\n",
    "rf = RandomForestRegressor(n_estimators=100,criterion='mse',\n",
    "                           \n",
    "                           min_samples_leaf=1, \n",
    "                           min_samples_split = 5, \n",
    "                           random_state=100)\n",
    "rf.fit(X_train,Y_train)\n"
   ]
  },
  {
   "cell_type": "code",
   "execution_count": 36,
   "metadata": {
    "id": "g90mA2BUE9XA",
    "outputId": "f3680d93-562e-4a0a-d03b-92ddc1706616"
   },
   "outputs": [
    {
     "data": {
      "text/html": [
       "\n",
       "    <style>\n",
       "    table.eli5-weights tr:hover {\n",
       "        filter: brightness(85%);\n",
       "    }\n",
       "</style>\n",
       "\n",
       "\n",
       "\n",
       "    \n",
       "\n",
       "    \n",
       "\n",
       "    \n",
       "\n",
       "    \n",
       "\n",
       "    \n",
       "\n",
       "    \n",
       "\n",
       "\n",
       "    \n",
       "\n",
       "    \n",
       "\n",
       "    \n",
       "\n",
       "    \n",
       "\n",
       "    \n",
       "\n",
       "    \n",
       "\n",
       "\n",
       "    \n",
       "\n",
       "    \n",
       "\n",
       "    \n",
       "\n",
       "    \n",
       "\n",
       "    \n",
       "        <table class=\"eli5-weights eli5-feature-importances\" style=\"border-collapse: collapse; border: none; margin-top: 0em; table-layout: auto;\">\n",
       "    <thead>\n",
       "    <tr style=\"border: none;\">\n",
       "        <th style=\"padding: 0 1em 0 0.5em; text-align: right; border: none;\">Weight</th>\n",
       "        <th style=\"padding: 0 0.5em 0 0.5em; text-align: left; border: none;\">Feature</th>\n",
       "    </tr>\n",
       "    </thead>\n",
       "    <tbody>\n",
       "    \n",
       "        <tr style=\"background-color: hsl(120, 100.00%, 80.00%); border: none;\">\n",
       "            <td style=\"padding: 0 1em 0 0.5em; text-align: right; border: none;\">\n",
       "                0.9637\n",
       "                \n",
       "                    &plusmn; 0.1361\n",
       "                \n",
       "            </td>\n",
       "            <td style=\"padding: 0 0.5em 0 0.5em; text-align: left; border: none;\">\n",
       "                Subcategory_2_encode\n",
       "            </td>\n",
       "        </tr>\n",
       "    \n",
       "        <tr style=\"background-color: hsl(120, 100.00%, 91.63%); border: none;\">\n",
       "            <td style=\"padding: 0 1em 0 0.5em; text-align: right; border: none;\">\n",
       "                0.2777\n",
       "                \n",
       "                    &plusmn; 0.0567\n",
       "                \n",
       "            </td>\n",
       "            <td style=\"padding: 0 0.5em 0 0.5em; text-align: left; border: none;\">\n",
       "                Subcategory_1_encode\n",
       "            </td>\n",
       "        </tr>\n",
       "    \n",
       "        <tr style=\"background-color: hsl(120, 100.00%, 92.13%); border: none;\">\n",
       "            <td style=\"padding: 0 1em 0 0.5em; text-align: right; border: none;\">\n",
       "                0.2543\n",
       "                \n",
       "                    &plusmn; 0.0502\n",
       "                \n",
       "            </td>\n",
       "            <td style=\"padding: 0 0.5em 0 0.5em; text-align: left; border: none;\">\n",
       "                Item_Category_encode\n",
       "            </td>\n",
       "        </tr>\n",
       "    \n",
       "        <tr style=\"background-color: hsl(120, 100.00%, 92.93%); border: none;\">\n",
       "            <td style=\"padding: 0 1em 0 0.5em; text-align: right; border: none;\">\n",
       "                0.2183\n",
       "                \n",
       "                    &plusmn; 0.0253\n",
       "                \n",
       "            </td>\n",
       "            <td style=\"padding: 0 0.5em 0 0.5em; text-align: left; border: none;\">\n",
       "                Product_Brand\n",
       "            </td>\n",
       "        </tr>\n",
       "    \n",
       "        <tr style=\"background-color: hsl(120, 100.00%, 93.07%); border: none;\">\n",
       "            <td style=\"padding: 0 1em 0 0.5em; text-align: right; border: none;\">\n",
       "                0.2120\n",
       "                \n",
       "                    &plusmn; 0.0481\n",
       "                \n",
       "            </td>\n",
       "            <td style=\"padding: 0 0.5em 0 0.5em; text-align: left; border: none;\">\n",
       "                Month\n",
       "            </td>\n",
       "        </tr>\n",
       "    \n",
       "        <tr style=\"background-color: hsl(120, 100.00%, 95.34%); border: none;\">\n",
       "            <td style=\"padding: 0 1em 0 0.5em; text-align: right; border: none;\">\n",
       "                0.1201\n",
       "                \n",
       "                    &plusmn; 0.0104\n",
       "                \n",
       "            </td>\n",
       "            <td style=\"padding: 0 0.5em 0 0.5em; text-align: left; border: none;\">\n",
       "                Product\n",
       "            </td>\n",
       "        </tr>\n",
       "    \n",
       "    \n",
       "    </tbody>\n",
       "</table>\n",
       "    \n",
       "\n",
       "    \n",
       "\n",
       "\n",
       "    \n",
       "\n",
       "    \n",
       "\n",
       "    \n",
       "\n",
       "    \n",
       "\n",
       "    \n",
       "\n",
       "    \n",
       "\n",
       "\n",
       "\n"
      ],
      "text/plain": [
       "<IPython.core.display.HTML object>"
      ]
     },
     "execution_count": 36,
     "metadata": {},
     "output_type": "execute_result"
    }
   ],
   "source": [
    "import eli5\n",
    "perm = PermutationImportance(rf,random_state=100).fit(X_val, Y_val)\n",
    "eli5.show_weights(perm,feature_names=X_val.columns.tolist())"
   ]
  },
  {
   "cell_type": "code",
   "execution_count": 37,
   "metadata": {
    "id": "fVZvKHYrC4e2",
    "outputId": "fddb4798-70e6-47ff-cb86-b2efae9eb344"
   },
   "outputs": [
    {
     "name": "stdout",
     "output_type": "stream",
     "text": [
      "{'n_estimators': [300, 322, 344, 366, 388, 411, 433, 455, 477, 500], 'max_features': ['auto', 'sqrt'], 'min_samples_split': [4, 5, 6, 7], 'min_samples_leaf': [1], 'bootstrap': [True]}\n"
     ]
    }
   ],
   "source": [
    "from sklearn.model_selection import RandomizedSearchCV\n",
    "# Number of trees in random forest\n",
    "n_estimators = [int(x) for x in np.linspace(start = 300, stop = 500, num = 10)]\n",
    "# Number of features to consider at every split\n",
    "max_features = ['auto','sqrt']\n",
    "#max_features = ['sqrt']\n",
    "# Maximum number of levels in tree\n",
    "#max_depth = [int(x) for x in np.linspace(6, 30, num = 5)]\n",
    "#max_depth.append(None)\n",
    "# Minimum number of samples required to split a node\n",
    "#min_samples_split = [2, 4,6]\n",
    "min_samples_split = [4,5,6,7]\n",
    "# Minimum number of samples required at each leaf node\n",
    "#min_samples_leaf = [1, 2, 4]\n",
    "min_samples_leaf = [1]\n",
    "# Method of selecting samples for training each tree\n",
    "#bootstrap = [True, False]\n",
    "bootstrap = [True]\n",
    "# Create the random grid\n",
    "random_grid = {'n_estimators': n_estimators,\n",
    "               'max_features': max_features,\n",
    "               #'max_depth': max_depth,\n",
    "               'min_samples_split': min_samples_split,\n",
    "               'min_samples_leaf': min_samples_leaf,\n",
    "               'bootstrap': bootstrap}\n",
    "print(random_grid)"
   ]
  },
  {
   "cell_type": "code",
   "execution_count": 38,
   "metadata": {
    "id": "D8SJ2ExHDlfV",
    "outputId": "6f54c796-8860-4baa-9892-7fb4e71da125"
   },
   "outputs": [
    {
     "name": "stdout",
     "output_type": "stream",
     "text": [
      "Fitting 3 folds for each of 80 candidates, totalling 240 fits\n"
     ]
    },
    {
     "name": "stderr",
     "output_type": "stream",
     "text": [
      "/opt/conda/lib/python3.7/site-packages/sklearn/model_selection/_search.py:282: UserWarning: The total space of parameters 80 is smaller than n_iter=100. Running 80 iterations. For exhaustive searches, use GridSearchCV.\n",
      "  % (grid_size, self.n_iter, grid_size), UserWarning)\n",
      "[Parallel(n_jobs=-1)]: Using backend LokyBackend with 4 concurrent workers.\n",
      "[Parallel(n_jobs=-1)]: Done  33 tasks      | elapsed:   23.9s\n",
      "[Parallel(n_jobs=-1)]: Done 154 tasks      | elapsed:  1.5min\n",
      "[Parallel(n_jobs=-1)]: Done 240 out of 240 | elapsed:  2.1min finished\n"
     ]
    },
    {
     "data": {
      "text/plain": [
       "RandomizedSearchCV(cv=3, estimator=RandomForestRegressor(), n_iter=100,\n",
       "                   n_jobs=-1,\n",
       "                   param_distributions={'bootstrap': [True],\n",
       "                                        'max_features': ['auto', 'sqrt'],\n",
       "                                        'min_samples_leaf': [1],\n",
       "                                        'min_samples_split': [4, 5, 6, 7],\n",
       "                                        'n_estimators': [300, 322, 344, 366,\n",
       "                                                         388, 411, 433, 455,\n",
       "                                                         477, 500]},\n",
       "                   random_state=42, verbose=2)"
      ]
     },
     "execution_count": 38,
     "metadata": {},
     "output_type": "execute_result"
    }
   ],
   "source": [
    "# Use the random grid to search for best hyperparameters\n",
    "# First create the base model to tune\n",
    "rf = RandomForestRegressor()\n",
    "# Random search of parameters, using 3 fold cross validation, \n",
    "# search across 100 different combinations, and use all available cores\n",
    "rf_random = RandomizedSearchCV(estimator = rf, param_distributions = random_grid, n_iter = 100, cv = 3, verbose=2, random_state=42, n_jobs = -1)\n",
    "# Fit the random search model\n",
    "rf_random.fit(X_train, Y_train)"
   ]
  },
  {
   "cell_type": "code",
   "execution_count": 39,
   "metadata": {
    "id": "LnhMuarRGFWN",
    "outputId": "74488f57-a165-448e-deb3-3e3ee42368be"
   },
   "outputs": [
    {
     "data": {
      "text/plain": [
       "{'n_estimators': 500,\n",
       " 'min_samples_split': 4,\n",
       " 'min_samples_leaf': 1,\n",
       " 'max_features': 'sqrt',\n",
       " 'bootstrap': True}"
      ]
     },
     "execution_count": 39,
     "metadata": {},
     "output_type": "execute_result"
    }
   ],
   "source": [
    "rf_random.best_params_"
   ]
  },
  {
   "cell_type": "code",
   "execution_count": 40,
   "metadata": {
    "id": "lM0n9F28TS7Y"
   },
   "outputs": [],
   "source": [
    "# from sklearn.model_selection import GridSearchCV\n",
    "# # Create the parameter grid based on the results of random search \n",
    "# param_grid = {\n",
    "#     'bootstrap': [True],\n",
    "#     'max_features': [1,2,3],\n",
    "#     'min_samples_leaf': [1],\n",
    "#     'min_samples_split': [4,5],\n",
    "#     'n_estimators': [300,350,400]\n",
    "# }\n",
    "# # Create a based model\n",
    "# rf = RandomForestRegressor()\n",
    "# # Instantiate the grid search model\n",
    "# grid_search = GridSearchCV(estimator = rf, param_grid = param_grid, \n",
    "#                           cv = 3, n_jobs = -1, verbose = 2)"
   ]
  },
  {
   "cell_type": "code",
   "execution_count": 41,
   "metadata": {
    "id": "fgpVe9xkWKtI",
    "outputId": "44e257a2-2f9f-4905-9efb-2b4b7fcd8178"
   },
   "outputs": [],
   "source": [
    "# grid_search.fit(X_train, Y_train)"
   ]
  },
  {
   "cell_type": "code",
   "execution_count": 42,
   "metadata": {
    "id": "n18SOjDMWBQE",
    "outputId": "920b7941-978e-4128-936e-ca756c84bc5d"
   },
   "outputs": [],
   "source": [
    "# grid_search.best_params_"
   ]
  },
  {
   "cell_type": "code",
   "execution_count": 43,
   "metadata": {
    "id": "73yKikcYSS3U",
    "outputId": "37589cb8-6e17-42e5-9cb1-c360061ce14b"
   },
   "outputs": [
    {
     "name": "stdout",
     "output_type": "stream",
     "text": [
      "\n",
      "Fold  1\n",
      "0.7142610754817043\n",
      "\n",
      "Fold  2\n",
      "0.6553409887384034\n",
      "\n",
      "Fold  3\n",
      "0.6348523892976197\n",
      "\n",
      "Fold  4\n",
      "0.6544553370908832\n",
      "\n",
      "Fold  5\n",
      "0.6433879025292333\n",
      "\n",
      "Fold  6\n",
      "0.5867614645835404\n",
      "\n",
      "Fold  7\n",
      "0.6613544024521539\n",
      "\n",
      "Fold  8\n",
      "0.5933015724829959\n",
      "\n",
      "Fold  9\n",
      "0.6602349966695372\n",
      "\n",
      "Fold  10\n",
      "0.548624625060645\n",
      "0.6352574754386715\n"
     ]
    }
   ],
   "source": [
    "#Calsulating cv score using the best parameters\n",
    "kf=KFold(n_splits=10, random_state=100, shuffle=True)\n",
    "\n",
    "y_test_predict=0\n",
    "mse = 0\n",
    "j=1\n",
    "result={}\n",
    "\n",
    "for i, (train_index, test_index) in enumerate(kf.split(train)):\n",
    "    \n",
    "   Y_train, Y_valid = Y.iloc[train_index], Y.iloc[test_index]\n",
    "   X_train, X_valid = X.iloc[train_index,:], X.iloc[test_index,:]\n",
    "   \n",
    "   print( \"\\nFold \", j)\n",
    "   \n",
    "   rf = RandomForestRegressor(n_estimators=455,\n",
    "                           max_features='sqrt',\n",
    "                           bootstrap='True',\n",
    "                           min_samples_leaf=1,\n",
    "                           min_samples_split=4,\n",
    "                           random_state=100)\n",
    "  #  xg=XGBRegressor(booster='gbtree', max_depth=5, learning_rate=0.05, reg_alpha=0,\n",
    "  #                 reg_lambda=1, n_jobs=-1, random_state=100, n_estimators=5000)\n",
    "    \n",
    "   model=rf.fit(X_train,Y_train)\n",
    "   pred = model.predict(X_valid)\n",
    "   \n",
    "   print(np.sqrt(mean_squared_error(Y_valid, np.abs(pred))))\n",
    "   mse+=np.sqrt(mean_squared_error(Y_valid,np.abs(pred)))\n",
    "    \n",
    "   #y_test_predict+=model.predict(test)  \n",
    "   #result[j]=model.predict(X_main_test)\n",
    "   j+=1\n",
    "\n",
    "results=y_test_predict/10\n",
    "\n",
    "print(mse/10)"
   ]
  },
  {
   "cell_type": "code",
   "execution_count": 44,
   "metadata": {
    "id": "P1jFOQOQV6-G",
    "outputId": "ba22bd7d-0f63-4b32-d988-a0ee82c7abf2"
   },
   "outputs": [
    {
     "data": {
      "text/html": [
       "<div>\n",
       "<style scoped>\n",
       "    .dataframe tbody tr th:only-of-type {\n",
       "        vertical-align: middle;\n",
       "    }\n",
       "\n",
       "    .dataframe tbody tr th {\n",
       "        vertical-align: top;\n",
       "    }\n",
       "\n",
       "    .dataframe thead th {\n",
       "        text-align: right;\n",
       "    }\n",
       "</style>\n",
       "<table border=\"1\" class=\"dataframe\">\n",
       "  <thead>\n",
       "    <tr style=\"text-align: right;\">\n",
       "      <th></th>\n",
       "      <th>Product</th>\n",
       "      <th>Product_Brand</th>\n",
       "      <th>Item_Category_encode</th>\n",
       "      <th>Subcategory_1_encode</th>\n",
       "      <th>Subcategory_2_encode</th>\n",
       "      <th>Month</th>\n",
       "    </tr>\n",
       "  </thead>\n",
       "  <tbody>\n",
       "    <tr>\n",
       "      <th>0</th>\n",
       "      <td>7.867106</td>\n",
       "      <td>6.490724</td>\n",
       "      <td>0.015420</td>\n",
       "      <td>0.011422</td>\n",
       "      <td>0.004854</td>\n",
       "      <td>2</td>\n",
       "    </tr>\n",
       "    <tr>\n",
       "      <th>1</th>\n",
       "      <td>7.805067</td>\n",
       "      <td>8.032035</td>\n",
       "      <td>0.296117</td>\n",
       "      <td>0.198458</td>\n",
       "      <td>0.109652</td>\n",
       "      <td>7</td>\n",
       "    </tr>\n",
       "    <tr>\n",
       "      <th>3</th>\n",
       "      <td>8.401109</td>\n",
       "      <td>8.032035</td>\n",
       "      <td>0.031696</td>\n",
       "      <td>0.000571</td>\n",
       "      <td>0.000286</td>\n",
       "      <td>12</td>\n",
       "    </tr>\n",
       "    <tr>\n",
       "      <th>4</th>\n",
       "      <td>9.042395</td>\n",
       "      <td>8.032035</td>\n",
       "      <td>0.296117</td>\n",
       "      <td>0.069389</td>\n",
       "      <td>0.024843</td>\n",
       "      <td>12</td>\n",
       "    </tr>\n",
       "    <tr>\n",
       "      <th>5</th>\n",
       "      <td>8.629986</td>\n",
       "      <td>7.304516</td>\n",
       "      <td>0.039406</td>\n",
       "      <td>0.008852</td>\n",
       "      <td>0.005997</td>\n",
       "      <td>9</td>\n",
       "    </tr>\n",
       "  </tbody>\n",
       "</table>\n",
       "</div>"
      ],
      "text/plain": [
       "    Product  Product_Brand  Item_Category_encode  Subcategory_1_encode  \\\n",
       "0  7.867106       6.490724              0.015420              0.011422   \n",
       "1  7.805067       8.032035              0.296117              0.198458   \n",
       "3  8.401109       8.032035              0.031696              0.000571   \n",
       "4  9.042395       8.032035              0.296117              0.069389   \n",
       "5  8.629986       7.304516              0.039406              0.008852   \n",
       "\n",
       "   Subcategory_2_encode  Month  \n",
       "0              0.004854      2  \n",
       "1              0.109652      7  \n",
       "3              0.000286     12  \n",
       "4              0.024843     12  \n",
       "5              0.005997      9  "
      ]
     },
     "execution_count": 44,
     "metadata": {},
     "output_type": "execute_result"
    }
   ],
   "source": [
    "x = X_train.append(X_valid)\n",
    "y = Y_train.append(Y_valid)\n",
    "x.head()\n"
   ]
  },
  {
   "cell_type": "code",
   "execution_count": 45,
   "metadata": {
    "id": "Y9KLWZ0TXgqL",
    "outputId": "40a5d596-a061-49e8-f97d-031f14baea36"
   },
   "outputs": [
    {
     "data": {
      "text/plain": [
       "array([7.47061157, 6.08016488, 6.57097318, ..., 6.81695717, 6.61643392,\n",
       "       7.36801826])"
      ]
     },
     "execution_count": 45,
     "metadata": {},
     "output_type": "execute_result"
    }
   ],
   "source": [
    "#Training the model on whole dataset\n",
    "model=rf.fit(x,y)\n",
    "pred = model.predict(test)\n",
    "pred = np.abs(pred)\n",
    "pred"
   ]
  },
  {
   "cell_type": "markdown",
   "execution_count": null,
   "metadata": {
    "id": "lbnOYYOaBpc4"
   },
   "source": [
    "## XGBOOST"
   ]
  },
  {
   "cell_type": "code",
   "execution_count": 46,
   "metadata": {
    "id": "1Xz3DHjfWw0d",
    "outputId": "3cc26dd8-7ef5-478e-b798-ceafec9ef84e"
   },
   "outputs": [
    {
     "data": {
      "text/plain": [
       "XGBRegressor(base_score=0.5, booster='gbtree', colsample_bylevel=1,\n",
       "             colsample_bynode=1, colsample_bytree=1, gamma=0, gpu_id=-1,\n",
       "             importance_type='gain', interaction_constraints='',\n",
       "             learning_rate=0.1, max_delta_step=0, max_depth=6,\n",
       "             min_child_weight=1, missing=nan, monotone_constraints='()',\n",
       "             n_estimators=500, n_jobs=-1, num_parallel_tree=1, random_state=100,\n",
       "             reg_alpha=0, reg_lambda=1, scale_pos_weight=1, subsample=1,\n",
       "             tree_method='exact', validate_parameters=1, verbosity=None)"
      ]
     },
     "execution_count": 46,
     "metadata": {},
     "output_type": "execute_result"
    }
   ],
   "source": [
    "from xgboost import XGBRegressor\n",
    "#xgb = xgb.XGBRegressor(objective ='reg:squarederror',  learning_rate = 0.1,\n",
    "#                max_depth = 8, alpha = 10, n_estimators = 400)\n",
    "\n",
    "xgb=XGBRegressor(booster='gbtree', max_depth=6, learning_rate=0.1, reg_alpha=0,\n",
    "                  reg_lambda=1, n_jobs=-1, random_state=100, n_estimators=500)\n",
    "xgb.fit(X_train,Y_train)"
   ]
  },
  {
   "cell_type": "code",
   "execution_count": 47,
   "metadata": {
    "id": "gP-sm6cnCn9A",
    "outputId": "16f24dfc-0ae0-4e4c-a2eb-b3a6c5ab41f8"
   },
   "outputs": [
    {
     "data": {
      "text/html": [
       "\n",
       "    <style>\n",
       "    table.eli5-weights tr:hover {\n",
       "        filter: brightness(85%);\n",
       "    }\n",
       "</style>\n",
       "\n",
       "\n",
       "\n",
       "    \n",
       "\n",
       "    \n",
       "\n",
       "    \n",
       "\n",
       "    \n",
       "\n",
       "    \n",
       "\n",
       "    \n",
       "\n",
       "\n",
       "    \n",
       "\n",
       "    \n",
       "\n",
       "    \n",
       "\n",
       "    \n",
       "\n",
       "    \n",
       "\n",
       "    \n",
       "\n",
       "\n",
       "    \n",
       "\n",
       "    \n",
       "\n",
       "    \n",
       "\n",
       "    \n",
       "\n",
       "    \n",
       "        <table class=\"eli5-weights eli5-feature-importances\" style=\"border-collapse: collapse; border: none; margin-top: 0em; table-layout: auto;\">\n",
       "    <thead>\n",
       "    <tr style=\"border: none;\">\n",
       "        <th style=\"padding: 0 1em 0 0.5em; text-align: right; border: none;\">Weight</th>\n",
       "        <th style=\"padding: 0 0.5em 0 0.5em; text-align: left; border: none;\">Feature</th>\n",
       "    </tr>\n",
       "    </thead>\n",
       "    <tbody>\n",
       "    \n",
       "        <tr style=\"background-color: hsl(120, 100.00%, 80.00%); border: none;\">\n",
       "            <td style=\"padding: 0 1em 0 0.5em; text-align: right; border: none;\">\n",
       "                0.7117\n",
       "                \n",
       "                    &plusmn; 0.0698\n",
       "                \n",
       "            </td>\n",
       "            <td style=\"padding: 0 0.5em 0 0.5em; text-align: left; border: none;\">\n",
       "                Subcategory_2_encode\n",
       "            </td>\n",
       "        </tr>\n",
       "    \n",
       "        <tr style=\"background-color: hsl(120, 100.00%, 89.73%); border: none;\">\n",
       "            <td style=\"padding: 0 1em 0 0.5em; text-align: right; border: none;\">\n",
       "                0.2747\n",
       "                \n",
       "                    &plusmn; 0.0490\n",
       "                \n",
       "            </td>\n",
       "            <td style=\"padding: 0 0.5em 0 0.5em; text-align: left; border: none;\">\n",
       "                Product_Brand\n",
       "            </td>\n",
       "        </tr>\n",
       "    \n",
       "        <tr style=\"background-color: hsl(120, 100.00%, 91.22%); border: none;\">\n",
       "            <td style=\"padding: 0 1em 0 0.5em; text-align: right; border: none;\">\n",
       "                0.2194\n",
       "                \n",
       "                    &plusmn; 0.0379\n",
       "                \n",
       "            </td>\n",
       "            <td style=\"padding: 0 0.5em 0 0.5em; text-align: left; border: none;\">\n",
       "                Product\n",
       "            </td>\n",
       "        </tr>\n",
       "    \n",
       "        <tr style=\"background-color: hsl(120, 100.00%, 91.57%); border: none;\">\n",
       "            <td style=\"padding: 0 1em 0 0.5em; text-align: right; border: none;\">\n",
       "                0.2072\n",
       "                \n",
       "                    &plusmn; 0.0272\n",
       "                \n",
       "            </td>\n",
       "            <td style=\"padding: 0 0.5em 0 0.5em; text-align: left; border: none;\">\n",
       "                Subcategory_1_encode\n",
       "            </td>\n",
       "        </tr>\n",
       "    \n",
       "        <tr style=\"background-color: hsl(120, 100.00%, 91.89%); border: none;\">\n",
       "            <td style=\"padding: 0 1em 0 0.5em; text-align: right; border: none;\">\n",
       "                0.1959\n",
       "                \n",
       "                    &plusmn; 0.0495\n",
       "                \n",
       "            </td>\n",
       "            <td style=\"padding: 0 0.5em 0 0.5em; text-align: left; border: none;\">\n",
       "                Item_Category_encode\n",
       "            </td>\n",
       "        </tr>\n",
       "    \n",
       "        <tr style=\"background-color: hsl(120, 100.00%, 93.18%); border: none;\">\n",
       "            <td style=\"padding: 0 1em 0 0.5em; text-align: right; border: none;\">\n",
       "                0.1532\n",
       "                \n",
       "                    &plusmn; 0.0243\n",
       "                \n",
       "            </td>\n",
       "            <td style=\"padding: 0 0.5em 0 0.5em; text-align: left; border: none;\">\n",
       "                Month\n",
       "            </td>\n",
       "        </tr>\n",
       "    \n",
       "    \n",
       "    </tbody>\n",
       "</table>\n",
       "    \n",
       "\n",
       "    \n",
       "\n",
       "\n",
       "    \n",
       "\n",
       "    \n",
       "\n",
       "    \n",
       "\n",
       "    \n",
       "\n",
       "    \n",
       "\n",
       "    \n",
       "\n",
       "\n",
       "\n"
      ],
      "text/plain": [
       "<IPython.core.display.HTML object>"
      ]
     },
     "execution_count": 47,
     "metadata": {},
     "output_type": "execute_result"
    }
   ],
   "source": [
    "import eli5\n",
    "perm = PermutationImportance(xgb,random_state=100).fit(X_val, Y_val)\n",
    "eli5.show_weights(perm,feature_names=X_val.columns.tolist())"
   ]
  },
  {
   "cell_type": "code",
   "execution_count": 48,
   "metadata": {
    "id": "hEzXX7H9Ux9s",
    "outputId": "a9f39b57-9b7e-4fec-ac91-2e46f58d20ab"
   },
   "outputs": [
    {
     "name": "stdout",
     "output_type": "stream",
     "text": [
      "\n",
      "Fold  1\n",
      "0.7493096155696769\n",
      "\n",
      "Fold  2\n",
      "0.6870521046529318\n",
      "\n",
      "Fold  3\n",
      "0.65307488253869\n",
      "\n",
      "Fold  4\n",
      "0.6912253063087638\n",
      "\n",
      "Fold  5\n",
      "0.6888369612302698\n",
      "\n",
      "Fold  6\n",
      "0.6067211982020364\n",
      "\n",
      "Fold  7\n",
      "0.6408013288474832\n",
      "\n",
      "Fold  8\n",
      "0.6314743025936045\n",
      "\n",
      "Fold  9\n",
      "0.6810184298065237\n",
      "\n",
      "Fold  10\n",
      "0.5703940975738316\n",
      "0.6599908227323812\n"
     ]
    }
   ],
   "source": [
    "import warnings\n",
    "warnings.filterwarnings('ignore')\n",
    "kf=KFold(n_splits=10, random_state=100, shuffle=True)\n",
    "\n",
    "y_test_predict=0\n",
    "mse = 0\n",
    "j=1\n",
    "result={}\n",
    "\n",
    "for i, (train_index, test_index) in enumerate(kf.split(train)):\n",
    "    \n",
    "   Y_train, Y_valid = Y.iloc[train_index], Y.iloc[test_index]\n",
    "   X_train, X_valid = X.iloc[train_index,:], X.iloc[test_index,:]\n",
    "   \n",
    "   print( \"\\nFold \", j)\n",
    "   \n",
    "   xg=XGBRegressor(booster='gbtree', max_depth=6, learning_rate=0.06,\n",
    "                  n_jobs=-1, random_state=100, n_estimators=800)\n",
    "    \n",
    "   model=xg.fit(X_train,Y_train)\n",
    "   pred = model.predict(X_valid)\n",
    "   \n",
    "   print(np.sqrt(mean_squared_error(Y_valid, np.abs(pred))))\n",
    "   mse+=np.sqrt(mean_squared_error(Y_valid,np.abs(pred)))\n",
    "    \n",
    "   #y_test_predict+=model.predict(test)  \n",
    "   #result[j]=model.predict(X_main_test)\n",
    "   j+=1\n",
    "\n",
    "results=y_test_predict/10\n",
    "\n",
    "print(mse/10)"
   ]
  },
  {
   "cell_type": "code",
   "execution_count": 49,
   "metadata": {
    "id": "KFl-Bigwb_GD",
    "outputId": "2b8428d8-0689-4f2b-e995-79ec2ecdbc59"
   },
   "outputs": [
    {
     "data": {
      "text/plain": [
       "array([7.4993863, 5.9725986, 6.5689936, ..., 6.853985 , 6.1330338,\n",
       "       7.3612227], dtype=float32)"
      ]
     },
     "execution_count": 49,
     "metadata": {},
     "output_type": "execute_result"
    }
   ],
   "source": [
    "model2=xg.fit(x,y)\n",
    "pred_xg = model2.predict(test)\n",
    "pred_xg = np.abs(pred_xg)\n",
    "pred_xg"
   ]
  },
  {
   "cell_type": "markdown",
   "execution_count": null,
   "metadata": {
    "id": "0NRhXrs35jrl"
   },
   "source": [
    "## LightGBM"
   ]
  },
  {
   "cell_type": "code",
   "execution_count": 50,
   "metadata": {
    "id": "BMGs8t445m9i",
    "outputId": "b20a1239-85c7-45f4-d242-6573dc9dc4c7"
   },
   "outputs": [
    {
     "data": {
      "text/plain": [
       "LGBMRegressor(max_depth=6, metric='rmsle', n_estimators=500, nthread=-1,\n",
       "              objective='regression')"
      ]
     },
     "execution_count": 50,
     "metadata": {},
     "output_type": "execute_result"
    }
   ],
   "source": [
    "from lightgbm import LGBMRegressor\n",
    "lgb = LGBMRegressor(boosting_type='gbdt', objective='regression',metric = 'rmsle',\n",
    "                      max_depth=6, learning_rate=0.1, \n",
    "                      n_estimators=500, nthread=-1, silent=True)\n",
    "lgb.fit(X_train,Y_train)"
   ]
  },
  {
   "cell_type": "code",
   "execution_count": 51,
   "metadata": {
    "id": "DThtNmzc9_fK",
    "outputId": "eae693af-8d12-4277-bb6b-82a3a965c450"
   },
   "outputs": [
    {
     "data": {
      "text/plain": [
       "0.44704157259300803"
      ]
     },
     "execution_count": 51,
     "metadata": {},
     "output_type": "execute_result"
    }
   ],
   "source": [
    "from sklearn.metrics import mean_squared_error\n",
    "predictions = lgb.predict(X_val)\n",
    "np.sqrt(mean_squared_error(Y_val, predictions))"
   ]
  },
  {
   "cell_type": "code",
   "execution_count": 52,
   "metadata": {
    "id": "XrKnbV9C9ehM",
    "outputId": "69e73a8a-19bb-45d7-8411-1087be1d7cb2"
   },
   "outputs": [
    {
     "data": {
      "text/html": [
       "\n",
       "    <style>\n",
       "    table.eli5-weights tr:hover {\n",
       "        filter: brightness(85%);\n",
       "    }\n",
       "</style>\n",
       "\n",
       "\n",
       "\n",
       "    \n",
       "\n",
       "    \n",
       "\n",
       "    \n",
       "\n",
       "    \n",
       "\n",
       "    \n",
       "\n",
       "    \n",
       "\n",
       "\n",
       "    \n",
       "\n",
       "    \n",
       "\n",
       "    \n",
       "\n",
       "    \n",
       "\n",
       "    \n",
       "\n",
       "    \n",
       "\n",
       "\n",
       "    \n",
       "\n",
       "    \n",
       "\n",
       "    \n",
       "\n",
       "    \n",
       "\n",
       "    \n",
       "        <table class=\"eli5-weights eli5-feature-importances\" style=\"border-collapse: collapse; border: none; margin-top: 0em; table-layout: auto;\">\n",
       "    <thead>\n",
       "    <tr style=\"border: none;\">\n",
       "        <th style=\"padding: 0 1em 0 0.5em; text-align: right; border: none;\">Weight</th>\n",
       "        <th style=\"padding: 0 0.5em 0 0.5em; text-align: left; border: none;\">Feature</th>\n",
       "    </tr>\n",
       "    </thead>\n",
       "    <tbody>\n",
       "    \n",
       "        <tr style=\"background-color: hsl(120, 100.00%, 80.00%); border: none;\">\n",
       "            <td style=\"padding: 0 1em 0 0.5em; text-align: right; border: none;\">\n",
       "                0.7293\n",
       "                \n",
       "                    &plusmn; 0.0967\n",
       "                \n",
       "            </td>\n",
       "            <td style=\"padding: 0 0.5em 0 0.5em; text-align: left; border: none;\">\n",
       "                Subcategory_2_encode\n",
       "            </td>\n",
       "        </tr>\n",
       "    \n",
       "        <tr style=\"background-color: hsl(120, 100.00%, 89.04%); border: none;\">\n",
       "            <td style=\"padding: 0 1em 0 0.5em; text-align: right; border: none;\">\n",
       "                0.3087\n",
       "                \n",
       "                    &plusmn; 0.0688\n",
       "                \n",
       "            </td>\n",
       "            <td style=\"padding: 0 0.5em 0 0.5em; text-align: left; border: none;\">\n",
       "                Product_Brand\n",
       "            </td>\n",
       "        </tr>\n",
       "    \n",
       "        <tr style=\"background-color: hsl(120, 100.00%, 91.56%); border: none;\">\n",
       "            <td style=\"padding: 0 1em 0 0.5em; text-align: right; border: none;\">\n",
       "                0.2128\n",
       "                \n",
       "                    &plusmn; 0.0286\n",
       "                \n",
       "            </td>\n",
       "            <td style=\"padding: 0 0.5em 0 0.5em; text-align: left; border: none;\">\n",
       "                Item_Category_encode\n",
       "            </td>\n",
       "        </tr>\n",
       "    \n",
       "        <tr style=\"background-color: hsl(120, 100.00%, 92.41%); border: none;\">\n",
       "            <td style=\"padding: 0 1em 0 0.5em; text-align: right; border: none;\">\n",
       "                0.1826\n",
       "                \n",
       "                    &plusmn; 0.0323\n",
       "                \n",
       "            </td>\n",
       "            <td style=\"padding: 0 0.5em 0 0.5em; text-align: left; border: none;\">\n",
       "                Subcategory_1_encode\n",
       "            </td>\n",
       "        </tr>\n",
       "    \n",
       "        <tr style=\"background-color: hsl(120, 100.00%, 93.06%); border: none;\">\n",
       "            <td style=\"padding: 0 1em 0 0.5em; text-align: right; border: none;\">\n",
       "                0.1608\n",
       "                \n",
       "                    &plusmn; 0.0167\n",
       "                \n",
       "            </td>\n",
       "            <td style=\"padding: 0 0.5em 0 0.5em; text-align: left; border: none;\">\n",
       "                Month\n",
       "            </td>\n",
       "        </tr>\n",
       "    \n",
       "        <tr style=\"background-color: hsl(120, 100.00%, 93.07%); border: none;\">\n",
       "            <td style=\"padding: 0 1em 0 0.5em; text-align: right; border: none;\">\n",
       "                0.1605\n",
       "                \n",
       "                    &plusmn; 0.0267\n",
       "                \n",
       "            </td>\n",
       "            <td style=\"padding: 0 0.5em 0 0.5em; text-align: left; border: none;\">\n",
       "                Product\n",
       "            </td>\n",
       "        </tr>\n",
       "    \n",
       "    \n",
       "    </tbody>\n",
       "</table>\n",
       "    \n",
       "\n",
       "    \n",
       "\n",
       "\n",
       "    \n",
       "\n",
       "    \n",
       "\n",
       "    \n",
       "\n",
       "    \n",
       "\n",
       "    \n",
       "\n",
       "    \n",
       "\n",
       "\n",
       "\n"
      ],
      "text/plain": [
       "<IPython.core.display.HTML object>"
      ]
     },
     "execution_count": 52,
     "metadata": {},
     "output_type": "execute_result"
    }
   ],
   "source": [
    "import eli5\n",
    "perm = PermutationImportance(lgb,random_state=100).fit(X_val, Y_val)\n",
    "eli5.show_weights(perm,feature_names=X_val.columns.tolist())"
   ]
  },
  {
   "cell_type": "code",
   "execution_count": 53,
   "metadata": {
    "id": "N3O4eEeQ9oVQ",
    "outputId": "f8012568-3839-4813-b19a-bdf776e65538"
   },
   "outputs": [
    {
     "name": "stdout",
     "output_type": "stream",
     "text": [
      "\n",
      "Fold  1\n",
      "0.7285547172591073\n",
      "\n",
      "Fold  2\n",
      "0.6886335171803146\n",
      "\n",
      "Fold  3\n",
      "0.665017072628344\n",
      "\n",
      "Fold  4\n",
      "0.6513018362001174\n",
      "\n",
      "Fold  5\n",
      "0.6722492456603386\n",
      "\n",
      "Fold  6\n",
      "0.6209983378639199\n",
      "\n",
      "Fold  7\n",
      "0.6540704291926426\n",
      "\n",
      "Fold  8\n",
      "0.5899081061049939\n",
      "\n",
      "Fold  9\n",
      "0.7074718017888185\n",
      "\n",
      "Fold  10\n",
      "0.5385134736592888\n",
      "0.6516718537537884\n"
     ]
    }
   ],
   "source": [
    "import warnings\n",
    "warnings.filterwarnings('ignore')\n",
    "kf=KFold(n_splits=10, random_state=100, shuffle=True)\n",
    "\n",
    "y_test_predict=0\n",
    "mse = 0\n",
    "j=1\n",
    "result={}\n",
    "\n",
    "for i, (train_index, test_index) in enumerate(kf.split(train)):\n",
    "    \n",
    "   Y_train, Y_valid = Y.iloc[train_index], Y.iloc[test_index]\n",
    "   X_train, X_valid = X.iloc[train_index,:], X.iloc[test_index,:]\n",
    "   \n",
    "   print( \"\\nFold \", j)\n",
    "   \n",
    "   lg = LGBMRegressor(boosting_type='gbdt', objective='regression',metric = 'rmsle',\n",
    "                      max_depth=8, learning_rate=0.025, \n",
    "                      n_estimators=750, nthread=-1, silent=True)\n",
    "    \n",
    "   model=lg.fit(X_train,Y_train)\n",
    "   pred = model.predict(X_valid)\n",
    "   \n",
    "   print(np.sqrt(mean_squared_error(Y_valid, np.abs(pred))))\n",
    "   mse+=np.sqrt(mean_squared_error(Y_valid,np.abs(pred)))\n",
    "    \n",
    "   #y_test_predict+=model.predict(test)  \n",
    "   #result[j]=model.predict(X_main_test)\n",
    "   j+=1\n",
    "\n",
    "results=y_test_predict/10\n",
    "\n",
    "print(mse/10)"
   ]
  },
  {
   "cell_type": "code",
   "execution_count": 54,
   "metadata": {
    "id": "ohFDrhol_Ayg",
    "outputId": "43119365-c8d2-4d64-86be-54ebbecfb307"
   },
   "outputs": [
    {
     "data": {
      "text/plain": [
       "array([7.65438973, 6.2653305 , 6.59759988, ..., 6.97489851, 6.24150027,\n",
       "       7.36813234])"
      ]
     },
     "execution_count": 54,
     "metadata": {},
     "output_type": "execute_result"
    }
   ],
   "source": [
    "model4=lg.fit(x,y)\n",
    "pred_lg = model4.predict(test)\n",
    "pred_lg = np.abs(pred_lg)\n",
    "pred_lg"
   ]
  },
  {
   "cell_type": "markdown",
   "execution_count": null,
   "metadata": {
    "id": "5cO0D4ThAPj0"
   },
   "source": [
    "# Summary"
   ]
  },
  {
   "cell_type": "markdown",
   "execution_count": null,
   "metadata": {
    "id": "u33doxlbASqk"
   },
   "source": [
    "\n",
    "**Public Score(30% dataset)**\n",
    "\n",
    "**Metric-rmsle**\n",
    "*   Catboost : 0.698\n",
    "*   Random Forest: 0.646\n",
    "*   Light GBM : 0.687\n",
    "*   XGBoost: 0.66\n",
    "\n",
    "\n",
    "\n"
   ]
  },
  {
   "cell_type": "markdown",
   "execution_count": null,
   "metadata": {
    "id": "XG0lZgYz9LlU"
   },
   "source": [
    "**Private Score(100% dataset): 0.63579**\n",
    "\n",
    "**Model- RandomForestRegressor**\n"
   ]
  },
  {
   "cell_type": "markdown",
   "execution_count": null,
   "metadata": {
    "id": "fxqxtaIyb3Li"
   },
   "source": [
    "# Submission File"
   ]
  },
  {
   "cell_type": "code",
   "execution_count": 55,
   "metadata": {
    "id": "Sp63wfNcWxAl"
   },
   "outputs": [
    {
     "ename": "FileNotFoundError",
     "evalue": "[Errno 2] No such file or directory: '/content/Sample_Submission.xlsx'",
     "output_type": "error",
     "traceback": [
      "\u001b[0;31m---------------------------------------------------------------------------\u001b[0m",
      "\u001b[0;31mFileNotFoundError\u001b[0m                         Traceback (most recent call last)",
      "\u001b[0;32m<ipython-input-55-7bf151762070>\u001b[0m in \u001b[0;36m<module>\u001b[0;34m\u001b[0m\n\u001b[0;32m----> 1\u001b[0;31m \u001b[0mDataset_Submission\u001b[0m\u001b[0;34m=\u001b[0m\u001b[0mpd\u001b[0m\u001b[0;34m.\u001b[0m\u001b[0mread_excel\u001b[0m\u001b[0;34m(\u001b[0m\u001b[0;34m'/content/Sample_Submission.xlsx'\u001b[0m\u001b[0;34m)\u001b[0m\u001b[0;34m\u001b[0m\u001b[0;34m\u001b[0m\u001b[0m\n\u001b[0m\u001b[1;32m      2\u001b[0m \u001b[0mDataset_Submission\u001b[0m\u001b[0;34m[\u001b[0m\u001b[0;34m'Selling_Price'\u001b[0m\u001b[0;34m]\u001b[0m\u001b[0;34m=\u001b[0m\u001b[0mnp\u001b[0m\u001b[0;34m.\u001b[0m\u001b[0mexp\u001b[0m\u001b[0;34m(\u001b[0m\u001b[0mpred\u001b[0m\u001b[0;34m)\u001b[0m\u001b[0;34m\u001b[0m\u001b[0;34m\u001b[0m\u001b[0m\n\u001b[1;32m      3\u001b[0m \u001b[0mDataset_Submission\u001b[0m\u001b[0;34m.\u001b[0m\u001b[0mhead\u001b[0m\u001b[0;34m(\u001b[0m\u001b[0;36m10\u001b[0m\u001b[0;34m)\u001b[0m\u001b[0;34m\u001b[0m\u001b[0;34m\u001b[0m\u001b[0m\n\u001b[1;32m      4\u001b[0m \u001b[0;34m\u001b[0m\u001b[0m\n\u001b[1;32m      5\u001b[0m \u001b[0mDataset_Submission\u001b[0m\u001b[0;34m.\u001b[0m\u001b[0mto_excel\u001b[0m\u001b[0;34m(\u001b[0m\u001b[0;34m'submission15.xlsx'\u001b[0m\u001b[0;34m,\u001b[0m \u001b[0mindex\u001b[0m\u001b[0;34m=\u001b[0m\u001b[0;32mFalse\u001b[0m\u001b[0;34m)\u001b[0m\u001b[0;34m\u001b[0m\u001b[0;34m\u001b[0m\u001b[0m\n",
      "\u001b[0;32m/opt/conda/lib/python3.7/site-packages/pandas/io/excel/_base.py\u001b[0m in \u001b[0;36mread_excel\u001b[0;34m(io, sheet_name, header, names, index_col, usecols, squeeze, dtype, engine, converters, true_values, false_values, skiprows, nrows, na_values, keep_default_na, verbose, parse_dates, date_parser, thousands, comment, skipfooter, convert_float, mangle_dupe_cols, **kwds)\u001b[0m\n\u001b[1;32m    302\u001b[0m \u001b[0;34m\u001b[0m\u001b[0m\n\u001b[1;32m    303\u001b[0m     \u001b[0;32mif\u001b[0m \u001b[0;32mnot\u001b[0m \u001b[0misinstance\u001b[0m\u001b[0;34m(\u001b[0m\u001b[0mio\u001b[0m\u001b[0;34m,\u001b[0m \u001b[0mExcelFile\u001b[0m\u001b[0;34m)\u001b[0m\u001b[0;34m:\u001b[0m\u001b[0;34m\u001b[0m\u001b[0;34m\u001b[0m\u001b[0m\n\u001b[0;32m--> 304\u001b[0;31m         \u001b[0mio\u001b[0m \u001b[0;34m=\u001b[0m \u001b[0mExcelFile\u001b[0m\u001b[0;34m(\u001b[0m\u001b[0mio\u001b[0m\u001b[0;34m,\u001b[0m \u001b[0mengine\u001b[0m\u001b[0;34m=\u001b[0m\u001b[0mengine\u001b[0m\u001b[0;34m)\u001b[0m\u001b[0;34m\u001b[0m\u001b[0;34m\u001b[0m\u001b[0m\n\u001b[0m\u001b[1;32m    305\u001b[0m     \u001b[0;32melif\u001b[0m \u001b[0mengine\u001b[0m \u001b[0;32mand\u001b[0m \u001b[0mengine\u001b[0m \u001b[0;34m!=\u001b[0m \u001b[0mio\u001b[0m\u001b[0;34m.\u001b[0m\u001b[0mengine\u001b[0m\u001b[0;34m:\u001b[0m\u001b[0;34m\u001b[0m\u001b[0;34m\u001b[0m\u001b[0m\n\u001b[1;32m    306\u001b[0m         raise ValueError(\n",
      "\u001b[0;32m/opt/conda/lib/python3.7/site-packages/pandas/io/excel/_base.py\u001b[0m in \u001b[0;36m__init__\u001b[0;34m(self, io, engine)\u001b[0m\n\u001b[1;32m    822\u001b[0m         \u001b[0mself\u001b[0m\u001b[0;34m.\u001b[0m\u001b[0m_io\u001b[0m \u001b[0;34m=\u001b[0m \u001b[0mstringify_path\u001b[0m\u001b[0;34m(\u001b[0m\u001b[0mio\u001b[0m\u001b[0;34m)\u001b[0m\u001b[0;34m\u001b[0m\u001b[0;34m\u001b[0m\u001b[0m\n\u001b[1;32m    823\u001b[0m \u001b[0;34m\u001b[0m\u001b[0m\n\u001b[0;32m--> 824\u001b[0;31m         \u001b[0mself\u001b[0m\u001b[0;34m.\u001b[0m\u001b[0m_reader\u001b[0m \u001b[0;34m=\u001b[0m \u001b[0mself\u001b[0m\u001b[0;34m.\u001b[0m\u001b[0m_engines\u001b[0m\u001b[0;34m[\u001b[0m\u001b[0mengine\u001b[0m\u001b[0;34m]\u001b[0m\u001b[0;34m(\u001b[0m\u001b[0mself\u001b[0m\u001b[0;34m.\u001b[0m\u001b[0m_io\u001b[0m\u001b[0;34m)\u001b[0m\u001b[0;34m\u001b[0m\u001b[0;34m\u001b[0m\u001b[0m\n\u001b[0m\u001b[1;32m    825\u001b[0m \u001b[0;34m\u001b[0m\u001b[0m\n\u001b[1;32m    826\u001b[0m     \u001b[0;32mdef\u001b[0m \u001b[0m__fspath__\u001b[0m\u001b[0;34m(\u001b[0m\u001b[0mself\u001b[0m\u001b[0;34m)\u001b[0m\u001b[0;34m:\u001b[0m\u001b[0;34m\u001b[0m\u001b[0;34m\u001b[0m\u001b[0m\n",
      "\u001b[0;32m/opt/conda/lib/python3.7/site-packages/pandas/io/excel/_xlrd.py\u001b[0m in \u001b[0;36m__init__\u001b[0;34m(self, filepath_or_buffer)\u001b[0m\n\u001b[1;32m     19\u001b[0m         \u001b[0merr_msg\u001b[0m \u001b[0;34m=\u001b[0m \u001b[0;34m\"Install xlrd >= 1.0.0 for Excel support\"\u001b[0m\u001b[0;34m\u001b[0m\u001b[0;34m\u001b[0m\u001b[0m\n\u001b[1;32m     20\u001b[0m         \u001b[0mimport_optional_dependency\u001b[0m\u001b[0;34m(\u001b[0m\u001b[0;34m\"xlrd\"\u001b[0m\u001b[0;34m,\u001b[0m \u001b[0mextra\u001b[0m\u001b[0;34m=\u001b[0m\u001b[0merr_msg\u001b[0m\u001b[0;34m)\u001b[0m\u001b[0;34m\u001b[0m\u001b[0;34m\u001b[0m\u001b[0m\n\u001b[0;32m---> 21\u001b[0;31m         \u001b[0msuper\u001b[0m\u001b[0;34m(\u001b[0m\u001b[0;34m)\u001b[0m\u001b[0;34m.\u001b[0m\u001b[0m__init__\u001b[0m\u001b[0;34m(\u001b[0m\u001b[0mfilepath_or_buffer\u001b[0m\u001b[0;34m)\u001b[0m\u001b[0;34m\u001b[0m\u001b[0;34m\u001b[0m\u001b[0m\n\u001b[0m\u001b[1;32m     22\u001b[0m \u001b[0;34m\u001b[0m\u001b[0m\n\u001b[1;32m     23\u001b[0m     \u001b[0;34m@\u001b[0m\u001b[0mproperty\u001b[0m\u001b[0;34m\u001b[0m\u001b[0;34m\u001b[0m\u001b[0m\n",
      "\u001b[0;32m/opt/conda/lib/python3.7/site-packages/pandas/io/excel/_base.py\u001b[0m in \u001b[0;36m__init__\u001b[0;34m(self, filepath_or_buffer)\u001b[0m\n\u001b[1;32m    351\u001b[0m             \u001b[0mself\u001b[0m\u001b[0;34m.\u001b[0m\u001b[0mbook\u001b[0m \u001b[0;34m=\u001b[0m \u001b[0mself\u001b[0m\u001b[0;34m.\u001b[0m\u001b[0mload_workbook\u001b[0m\u001b[0;34m(\u001b[0m\u001b[0mfilepath_or_buffer\u001b[0m\u001b[0;34m)\u001b[0m\u001b[0;34m\u001b[0m\u001b[0;34m\u001b[0m\u001b[0m\n\u001b[1;32m    352\u001b[0m         \u001b[0;32melif\u001b[0m \u001b[0misinstance\u001b[0m\u001b[0;34m(\u001b[0m\u001b[0mfilepath_or_buffer\u001b[0m\u001b[0;34m,\u001b[0m \u001b[0mstr\u001b[0m\u001b[0;34m)\u001b[0m\u001b[0;34m:\u001b[0m\u001b[0;34m\u001b[0m\u001b[0;34m\u001b[0m\u001b[0m\n\u001b[0;32m--> 353\u001b[0;31m             \u001b[0mself\u001b[0m\u001b[0;34m.\u001b[0m\u001b[0mbook\u001b[0m \u001b[0;34m=\u001b[0m \u001b[0mself\u001b[0m\u001b[0;34m.\u001b[0m\u001b[0mload_workbook\u001b[0m\u001b[0;34m(\u001b[0m\u001b[0mfilepath_or_buffer\u001b[0m\u001b[0;34m)\u001b[0m\u001b[0;34m\u001b[0m\u001b[0;34m\u001b[0m\u001b[0m\n\u001b[0m\u001b[1;32m    354\u001b[0m         \u001b[0;32melif\u001b[0m \u001b[0misinstance\u001b[0m\u001b[0;34m(\u001b[0m\u001b[0mfilepath_or_buffer\u001b[0m\u001b[0;34m,\u001b[0m \u001b[0mbytes\u001b[0m\u001b[0;34m)\u001b[0m\u001b[0;34m:\u001b[0m\u001b[0;34m\u001b[0m\u001b[0;34m\u001b[0m\u001b[0m\n\u001b[1;32m    355\u001b[0m             \u001b[0mself\u001b[0m\u001b[0;34m.\u001b[0m\u001b[0mbook\u001b[0m \u001b[0;34m=\u001b[0m \u001b[0mself\u001b[0m\u001b[0;34m.\u001b[0m\u001b[0mload_workbook\u001b[0m\u001b[0;34m(\u001b[0m\u001b[0mBytesIO\u001b[0m\u001b[0;34m(\u001b[0m\u001b[0mfilepath_or_buffer\u001b[0m\u001b[0;34m)\u001b[0m\u001b[0;34m)\u001b[0m\u001b[0;34m\u001b[0m\u001b[0;34m\u001b[0m\u001b[0m\n",
      "\u001b[0;32m/opt/conda/lib/python3.7/site-packages/pandas/io/excel/_xlrd.py\u001b[0m in \u001b[0;36mload_workbook\u001b[0;34m(self, filepath_or_buffer)\u001b[0m\n\u001b[1;32m     34\u001b[0m             \u001b[0;32mreturn\u001b[0m \u001b[0mopen_workbook\u001b[0m\u001b[0;34m(\u001b[0m\u001b[0mfile_contents\u001b[0m\u001b[0;34m=\u001b[0m\u001b[0mdata\u001b[0m\u001b[0;34m)\u001b[0m\u001b[0;34m\u001b[0m\u001b[0;34m\u001b[0m\u001b[0m\n\u001b[1;32m     35\u001b[0m         \u001b[0;32melse\u001b[0m\u001b[0;34m:\u001b[0m\u001b[0;34m\u001b[0m\u001b[0;34m\u001b[0m\u001b[0m\n\u001b[0;32m---> 36\u001b[0;31m             \u001b[0;32mreturn\u001b[0m \u001b[0mopen_workbook\u001b[0m\u001b[0;34m(\u001b[0m\u001b[0mfilepath_or_buffer\u001b[0m\u001b[0;34m)\u001b[0m\u001b[0;34m\u001b[0m\u001b[0;34m\u001b[0m\u001b[0m\n\u001b[0m\u001b[1;32m     37\u001b[0m \u001b[0;34m\u001b[0m\u001b[0m\n\u001b[1;32m     38\u001b[0m     \u001b[0;34m@\u001b[0m\u001b[0mproperty\u001b[0m\u001b[0;34m\u001b[0m\u001b[0;34m\u001b[0m\u001b[0m\n",
      "\u001b[0;32m/opt/conda/lib/python3.7/site-packages/xlrd/__init__.py\u001b[0m in \u001b[0;36mopen_workbook\u001b[0;34m(filename, logfile, verbosity, use_mmap, file_contents, encoding_override, formatting_info, on_demand, ragged_rows)\u001b[0m\n\u001b[1;32m    109\u001b[0m     \u001b[0;32melse\u001b[0m\u001b[0;34m:\u001b[0m\u001b[0;34m\u001b[0m\u001b[0;34m\u001b[0m\u001b[0m\n\u001b[1;32m    110\u001b[0m         \u001b[0mfilename\u001b[0m \u001b[0;34m=\u001b[0m \u001b[0mos\u001b[0m\u001b[0;34m.\u001b[0m\u001b[0mpath\u001b[0m\u001b[0;34m.\u001b[0m\u001b[0mexpanduser\u001b[0m\u001b[0;34m(\u001b[0m\u001b[0mfilename\u001b[0m\u001b[0;34m)\u001b[0m\u001b[0;34m\u001b[0m\u001b[0;34m\u001b[0m\u001b[0m\n\u001b[0;32m--> 111\u001b[0;31m         \u001b[0;32mwith\u001b[0m \u001b[0mopen\u001b[0m\u001b[0;34m(\u001b[0m\u001b[0mfilename\u001b[0m\u001b[0;34m,\u001b[0m \u001b[0;34m\"rb\"\u001b[0m\u001b[0;34m)\u001b[0m \u001b[0;32mas\u001b[0m \u001b[0mf\u001b[0m\u001b[0;34m:\u001b[0m\u001b[0;34m\u001b[0m\u001b[0;34m\u001b[0m\u001b[0m\n\u001b[0m\u001b[1;32m    112\u001b[0m             \u001b[0mpeek\u001b[0m \u001b[0;34m=\u001b[0m \u001b[0mf\u001b[0m\u001b[0;34m.\u001b[0m\u001b[0mread\u001b[0m\u001b[0;34m(\u001b[0m\u001b[0mpeeksz\u001b[0m\u001b[0;34m)\u001b[0m\u001b[0;34m\u001b[0m\u001b[0;34m\u001b[0m\u001b[0m\n\u001b[1;32m    113\u001b[0m     \u001b[0;32mif\u001b[0m \u001b[0mpeek\u001b[0m \u001b[0;34m==\u001b[0m \u001b[0;34mb\"PK\\x03\\x04\"\u001b[0m\u001b[0;34m:\u001b[0m \u001b[0;31m# a ZIP file\u001b[0m\u001b[0;34m\u001b[0m\u001b[0;34m\u001b[0m\u001b[0m\n",
      "\u001b[0;31mFileNotFoundError\u001b[0m: [Errno 2] No such file or directory: '/content/Sample_Submission.xlsx'"
     ]
    }
   ],
   "source": [
    "Dataset_Submission=pd.read_excel('/content/Sample_Submission.xlsx')\n",
    "Dataset_Submission['Selling_Price']=np.exp(pred)\n",
    "Dataset_Submission.head(10)\n",
    "\n",
    "Dataset_Submission.to_excel('submission15.xlsx', index=False)"
   ]
  },
  {
   "cell_type": "markdown",
   "execution_count": null,
   "metadata": {
    "id": "_p0-uxrj-VlH"
   },
   "source": [
    "# Remarks\n",
    "\n",
    "## <a>Do Upvote if you liked the approach and comment if you have any suggestions</a>\n",
    "\n",
    "THANKS!!!"
   ]
  }
 ],
 "metadata": {
  "kernelspec": {
   "display_name": "Python 3",
   "language": "python",
   "name": "python3"
  },
  "language_info": {
   "codemirror_mode": {
    "name": "ipython",
    "version": 3
   },
   "file_extension": ".py",
   "mimetype": "text/x-python",
   "name": "python",
   "nbconvert_exporter": "python",
   "pygments_lexer": "ipython3",
   "version": "3.7.6"
  }
 },
 "nbformat": 4,
 "nbformat_minor": 4
}
