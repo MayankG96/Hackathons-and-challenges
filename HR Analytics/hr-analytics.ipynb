{
 "cells": [
  {
   "cell_type": "markdown",
   "execution_count": null,
   "metadata": {
    "id": "hDzXwrws8Q04"
   },
   "source": [
    "# Problem Statement\n",
    "A training institute which conducts training for analytics/ data science wants to expand their business to manpower recruitment (data science only) as well. \n",
    " \n",
    "Company gets large number of signups for their trainings. Now, company wants to connect these enrollees with their clients who are looking to hire employees working in the same domain. Before that, it is important to know which of these candidates are really looking for a new employment. They have student information related to demographics, education, experience and features related to training as well.\n",
    "\n",
    "------------------------------------------------------------------------\n",
    "\n",
    "# AIM\n",
    "\n",
    "We need to design a model that uses the current credentials/demographics/experience to predict the probability of an enrollee to look for a new job.\n",
    "\n",
    "------------------------------------------------------------------------\n",
    "\n",
    "This notebook is structured as follows:\n",
    "\n",
    "1. **Data Analysis** : In this section, we explore the dataset by taking a look at the feature distributions, how correlated one feature is to the other. \n",
    "2. **Feature Engineering,Categorical Encoding and Data Balancing** : Conduct some feature engineering as well as encode all our categorical features into dummy variables\n",
    "3. **Implementing Machine Learning models** : Implement machine learning models for predictions"
   ]
  },
  {
   "cell_type": "markdown",
   "execution_count": null,
   "metadata": {
    "id": "H2-z241p-bjH"
   },
   "source": [
    "# Data Analysis\n",
    "\n",
    "**In this section we will take a look at train and test data, find relations between features and labels,handle missing values and try to create a balanced dataset**"
   ]
  },
  {
   "cell_type": "code",
   "execution_count": 1,
   "metadata": {
    "id": "aZ7OVZ9EqeTJ"
   },
   "outputs": [],
   "source": [
    "# Importing required libraries\n",
    "import pandas as pd\n",
    "import numpy as np\n",
    "import matplotlib.pyplot as plt\n",
    "import seaborn as sns\n",
    "from scipy import stats\n",
    "from sklearn import preprocessing,model_selection"
   ]
  },
  {
   "cell_type": "code",
   "execution_count": 2,
   "metadata": {
    "id": "enRFsIimqoWB",
    "outputId": "a9477c23-545f-447f-d045-63fa40f30a5e"
   },
   "outputs": [
    {
     "data": {
      "text/html": [
       "<div>\n",
       "<style scoped>\n",
       "    .dataframe tbody tr th:only-of-type {\n",
       "        vertical-align: middle;\n",
       "    }\n",
       "\n",
       "    .dataframe tbody tr th {\n",
       "        vertical-align: top;\n",
       "    }\n",
       "\n",
       "    .dataframe thead th {\n",
       "        text-align: right;\n",
       "    }\n",
       "</style>\n",
       "<table border=\"1\" class=\"dataframe\">\n",
       "  <thead>\n",
       "    <tr style=\"text-align: right;\">\n",
       "      <th></th>\n",
       "      <th>enrollee_id</th>\n",
       "      <th>city</th>\n",
       "      <th>city_development_index</th>\n",
       "      <th>gender</th>\n",
       "      <th>relevent_experience</th>\n",
       "      <th>enrolled_university</th>\n",
       "      <th>education_level</th>\n",
       "      <th>major_discipline</th>\n",
       "      <th>experience</th>\n",
       "      <th>company_size</th>\n",
       "      <th>company_type</th>\n",
       "      <th>last_new_job</th>\n",
       "      <th>training_hours</th>\n",
       "      <th>target</th>\n",
       "    </tr>\n",
       "  </thead>\n",
       "  <tbody>\n",
       "    <tr>\n",
       "      <th>0</th>\n",
       "      <td>23798</td>\n",
       "      <td>city_149</td>\n",
       "      <td>0.689</td>\n",
       "      <td>Male</td>\n",
       "      <td>Has relevent experience</td>\n",
       "      <td>no_enrollment</td>\n",
       "      <td>Graduate</td>\n",
       "      <td>STEM</td>\n",
       "      <td>3</td>\n",
       "      <td>100-500</td>\n",
       "      <td>Pvt Ltd</td>\n",
       "      <td>1</td>\n",
       "      <td>106</td>\n",
       "      <td>0</td>\n",
       "    </tr>\n",
       "    <tr>\n",
       "      <th>1</th>\n",
       "      <td>29166</td>\n",
       "      <td>city_83</td>\n",
       "      <td>0.923</td>\n",
       "      <td>Male</td>\n",
       "      <td>Has relevent experience</td>\n",
       "      <td>no_enrollment</td>\n",
       "      <td>Graduate</td>\n",
       "      <td>STEM</td>\n",
       "      <td>14</td>\n",
       "      <td>&lt;10</td>\n",
       "      <td>Funded Startup</td>\n",
       "      <td>1</td>\n",
       "      <td>69</td>\n",
       "      <td>0</td>\n",
       "    </tr>\n",
       "    <tr>\n",
       "      <th>2</th>\n",
       "      <td>46</td>\n",
       "      <td>city_16</td>\n",
       "      <td>0.910</td>\n",
       "      <td>NaN</td>\n",
       "      <td>Has relevent experience</td>\n",
       "      <td>no_enrollment</td>\n",
       "      <td>Graduate</td>\n",
       "      <td>STEM</td>\n",
       "      <td>6</td>\n",
       "      <td>50-99</td>\n",
       "      <td>Public Sector</td>\n",
       "      <td>2</td>\n",
       "      <td>4</td>\n",
       "      <td>0</td>\n",
       "    </tr>\n",
       "    <tr>\n",
       "      <th>3</th>\n",
       "      <td>18527</td>\n",
       "      <td>city_64</td>\n",
       "      <td>0.666</td>\n",
       "      <td>Male</td>\n",
       "      <td>Has relevent experience</td>\n",
       "      <td>no_enrollment</td>\n",
       "      <td>Graduate</td>\n",
       "      <td>STEM</td>\n",
       "      <td>14</td>\n",
       "      <td>50-99</td>\n",
       "      <td>Pvt Ltd</td>\n",
       "      <td>1</td>\n",
       "      <td>26</td>\n",
       "      <td>0</td>\n",
       "    </tr>\n",
       "    <tr>\n",
       "      <th>4</th>\n",
       "      <td>21751</td>\n",
       "      <td>city_100</td>\n",
       "      <td>0.887</td>\n",
       "      <td>NaN</td>\n",
       "      <td>No relevent experience</td>\n",
       "      <td>no_enrollment</td>\n",
       "      <td>Masters</td>\n",
       "      <td>STEM</td>\n",
       "      <td>8</td>\n",
       "      <td>NaN</td>\n",
       "      <td>NaN</td>\n",
       "      <td>2</td>\n",
       "      <td>88</td>\n",
       "      <td>1</td>\n",
       "    </tr>\n",
       "  </tbody>\n",
       "</table>\n",
       "</div>"
      ],
      "text/plain": [
       "   enrollee_id      city  city_development_index gender  \\\n",
       "0        23798  city_149                   0.689   Male   \n",
       "1        29166   city_83                   0.923   Male   \n",
       "2           46   city_16                   0.910    NaN   \n",
       "3        18527   city_64                   0.666   Male   \n",
       "4        21751  city_100                   0.887    NaN   \n",
       "\n",
       "       relevent_experience enrolled_university education_level  \\\n",
       "0  Has relevent experience       no_enrollment        Graduate   \n",
       "1  Has relevent experience       no_enrollment        Graduate   \n",
       "2  Has relevent experience       no_enrollment        Graduate   \n",
       "3  Has relevent experience       no_enrollment        Graduate   \n",
       "4   No relevent experience       no_enrollment         Masters   \n",
       "\n",
       "  major_discipline experience company_size    company_type last_new_job  \\\n",
       "0             STEM          3      100-500         Pvt Ltd            1   \n",
       "1             STEM         14          <10  Funded Startup            1   \n",
       "2             STEM          6        50-99   Public Sector            2   \n",
       "3             STEM         14        50-99         Pvt Ltd            1   \n",
       "4             STEM          8          NaN             NaN            2   \n",
       "\n",
       "   training_hours  target  \n",
       "0             106       0  \n",
       "1              69       0  \n",
       "2               4       0  \n",
       "3              26       0  \n",
       "4              88       1  "
      ]
     },
     "execution_count": 2,
     "metadata": {},
     "output_type": "execute_result"
    }
   ],
   "source": [
    "#reading data into dfs\n",
    "data = pd.read_csv(\"../input/train.csv\")\n",
    "data_test = pd.read_csv(\"../input/test.csv\")\n",
    "data.head()"
   ]
  },
  {
   "cell_type": "code",
   "execution_count": 3,
   "metadata": {
    "id": "KQugo9-ArJYX",
    "outputId": "a8af26f1-1dec-4ad4-f060-6a4122abf8d2"
   },
   "outputs": [
    {
     "name": "stdout",
     "output_type": "stream",
     "text": [
      "<class 'pandas.core.frame.DataFrame'>\n",
      "RangeIndex: 18359 entries, 0 to 18358\n",
      "Data columns (total 14 columns):\n",
      " #   Column                  Non-Null Count  Dtype  \n",
      "---  ------                  --------------  -----  \n",
      " 0   enrollee_id             18359 non-null  int64  \n",
      " 1   city                    18359 non-null  object \n",
      " 2   city_development_index  18359 non-null  float64\n",
      " 3   gender                  14261 non-null  object \n",
      " 4   relevent_experience     18359 non-null  object \n",
      " 5   enrolled_university     18017 non-null  object \n",
      " 6   education_level         17902 non-null  object \n",
      " 7   major_discipline        15521 non-null  object \n",
      " 8   experience              18300 non-null  object \n",
      " 9   company_size            13580 non-null  object \n",
      " 10  company_type            13320 non-null  object \n",
      " 11  last_new_job            17992 non-null  object \n",
      " 12  training_hours          18359 non-null  int64  \n",
      " 13  target                  18359 non-null  int64  \n",
      "dtypes: float64(1), int64(3), object(10)\n",
      "memory usage: 2.0+ MB\n"
     ]
    }
   ],
   "source": [
    "data.info()\n"
   ]
  },
  {
   "cell_type": "code",
   "execution_count": 4,
   "metadata": {
    "id": "ve9WUeeNVb2A",
    "outputId": "e473ed94-2f56-4f42-8a03-aab6e4ad0d94"
   },
   "outputs": [
    {
     "name": "stdout",
     "output_type": "stream",
     "text": [
      "enrollee_id                  0\n",
      "city                         0\n",
      "city_development_index       0\n",
      "gender                    4098\n",
      "relevent_experience          0\n",
      "enrolled_university        342\n",
      "education_level            457\n",
      "major_discipline          2838\n",
      "experience                  59\n",
      "company_size              4779\n",
      "company_type              5039\n",
      "last_new_job               367\n",
      "training_hours               0\n",
      "target                       0\n",
      "dtype: int64\n"
     ]
    }
   ],
   "source": [
    "print(data.isnull().sum())"
   ]
  },
  {
   "cell_type": "markdown",
   "execution_count": null,
   "metadata": {
    "id": "XZUPlcIiAKEf"
   },
   "source": [
    "\n",
    "**Observations**\n",
    "\n",
    "\n",
    "*   Our label will be 'Target'\n",
    "*   We have 10 categorical features which will be needed to converted into numerical through encoding.\n",
    "\n",
    "\n",
    "*   Lots of columns have null values as well. We need to impute the values.\n",
    "\n",
    "\n",
    "\n",
    "\n",
    "\n",
    "\n"
   ]
  },
  {
   "cell_type": "markdown",
   "execution_count": null,
   "metadata": {
    "id": "QSMgHnw91omT"
   },
   "source": [
    "**Let us now perform Chi-square to see relationship of categorical features with label.We will take the p-value as the estimate**"
   ]
  },
  {
   "cell_type": "code",
   "execution_count": 5,
   "metadata": {
    "id": "y-Z0J4qhuVue",
    "outputId": "8d57a3ea-d58d-48dc-c42b-99c95c1a140d"
   },
   "outputs": [
    {
     "name": "stdout",
     "output_type": "stream",
     "text": [
      "p-value for: city 3.855216727610617e-64\n",
      "p-value for: gender 0.009638527670809707\n",
      "p-value for: relevent_experience 1.3267956813314173e-23\n",
      "p-value for: enrolled_university 1.7789332654895568e-28\n",
      "p-value for: education_level 7.262842220434136e-06\n",
      "p-value for: major_discipline 0.2155392686100149\n",
      "p-value for: experience 1.965820323112401e-30\n",
      "p-value for: last_new_job 0.0009590216415931114\n",
      "p-value for: company_size 0.019162917486512995\n",
      "p-value for: company_type 6.953189749635574e-05\n"
     ]
    }
   ],
   "source": [
    "columns = ['city','gender','relevent_experience','enrolled_university','education_level','major_discipline','experience','last_new_job','company_size','company_type']\n",
    "for col in columns:\n",
    "  cont = pd.crosstab(data['target'],data[col])\n",
    "  chi_val = stats.chi2_contingency(cont)\n",
    "  print('p-value for:',col,chi_val[1])"
   ]
  },
  {
   "cell_type": "markdown",
   "execution_count": null,
   "metadata": {
    "id": "gs5olyfOB77X"
   },
   "source": [
    "*Considering confidence interval to be 0.1; we can see major_discipline and company_size does not make for a good candidate.Also they have a lot of NULL values. Hence we will be dropping them.*"
   ]
  },
  {
   "cell_type": "code",
   "execution_count": 6,
   "metadata": {
    "id": "bIQYgHy0rtUc"
   },
   "outputs": [],
   "source": [
    "data = data.drop(['major_discipline','company_size'],axis = 'columns')\n",
    "data_test = data_test.drop(['major_discipline','company_size'],axis = 'columns')\n"
   ]
  },
  {
   "cell_type": "markdown",
   "execution_count": null,
   "metadata": {
    "id": "CP8xSkSJtNxS"
   },
   "source": [
    "#Feature Engineering,Categorical Encoding and Data Balancing\n",
    "\n",
    "\n",
    "\n"
   ]
  },
  {
   "cell_type": "code",
   "execution_count": 7,
   "metadata": {
    "id": "1YYTTJnAF__Z",
    "outputId": "cc11e40a-2a14-484e-f89d-b5b2649249e5"
   },
   "outputs": [
    {
     "name": "stdout",
     "output_type": "stream",
     "text": [
      "enrollee_id                  0\n",
      "city                         0\n",
      "city_development_index       0\n",
      "gender                    4098\n",
      "relevent_experience          0\n",
      "enrolled_university        342\n",
      "education_level            457\n",
      "experience                  59\n",
      "company_type              5039\n",
      "last_new_job               367\n",
      "training_hours               0\n",
      "target                       0\n",
      "dtype: int64\n"
     ]
    }
   ],
   "source": [
    "print(data.isnull().sum())"
   ]
  },
  {
   "cell_type": "markdown",
   "execution_count": null,
   "metadata": {
    "id": "dH5spu0fGGqG"
   },
   "source": [
    "\n",
    " **Gender, enrolled_university, education_level,experience,company_type ,last_new_job has missing values**"
   ]
  },
  {
   "cell_type": "markdown",
   "execution_count": null,
   "metadata": {
    "id": "uJvM2lnNGXPt"
   },
   "source": [
    "*We will be imputing the values using for different features with different methods.These are:*\n",
    "\n",
    "*   Imputing by mode\n",
    "*   Imputing by creating categorical bundles and assigning numerical values\n",
    "\n",
    "We will also be performing one-hot encoding to convert the categoricl features into numerical\n"
   ]
  },
  {
   "cell_type": "code",
   "execution_count": 8,
   "metadata": {
    "id": "oMAHQEMMYWV3"
   },
   "outputs": [],
   "source": [
    "data['experience'].fillna(\"1\",inplace = True)\n",
    "data_test['experience'].fillna(\"1\",inplace = True)"
   ]
  },
  {
   "cell_type": "code",
   "execution_count": 9,
   "metadata": {
    "id": "Dngywzok_ROt"
   },
   "outputs": [],
   "source": [
    "data['gender'].fillna('Male',inplace = True)\n",
    "dummies_gender = pd.get_dummies(data['gender'])\n",
    "\n",
    "data_test['gender'].fillna('Male',inplace = True)\n",
    "dummies_gender_test = pd.get_dummies(data_test['gender'])\n"
   ]
  },
  {
   "cell_type": "code",
   "execution_count": 10,
   "metadata": {
    "id": "lzGp8n_O1cPc"
   },
   "outputs": [],
   "source": [
    "data['relevent_experience'].fillna('Has relevent experience',inplace = True)\n",
    "dummies_relexp = pd.get_dummies(data['relevent_experience'])\n",
    "\n",
    "data_test['relevent_experience'].fillna('Has relevent experience',inplace = True)\n",
    "dummies_relexp_test = pd.get_dummies(data_test['relevent_experience'])\n",
    "\n"
   ]
  },
  {
   "cell_type": "code",
   "execution_count": 11,
   "metadata": {
    "id": "QE8tl5qf6mSo"
   },
   "outputs": [],
   "source": [
    "data['enrolled_university'].fillna('no_enrollment',inplace = True)\n",
    "dummies_enruniv = pd.get_dummies(data['enrolled_university'])\n",
    "\n",
    "data_test['enrolled_university'].fillna('no_enrollment',inplace = True)\n",
    "dummies_enruniv_test = pd.get_dummies(data_test['enrolled_university'])"
   ]
  },
  {
   "cell_type": "code",
   "execution_count": 12,
   "metadata": {
    "id": "jBKUSyyUxQDJ"
   },
   "outputs": [],
   "source": [
    "data['education_level'].fillna('Graduate',inplace = True)\n",
    "dummies_edlevel = pd.get_dummies(data['education_level'])\n",
    "\n",
    "data_test['education_level'].fillna('Graduate',inplace = True)\n",
    "dummies_edlevel_test = pd.get_dummies(data_test['education_level'])"
   ]
  },
  {
   "cell_type": "code",
   "execution_count": 13,
   "metadata": {
    "id": "mpPNmrY5zB_Y"
   },
   "outputs": [],
   "source": [
    "data['last_new_job'].fillna(1,inplace = True)\n",
    "dummies_lastjob = pd.get_dummies(data['last_new_job'],prefix = 'last_')\n",
    "\n",
    "data_test['last_new_job'].fillna(1,inplace = True)\n",
    "dummies_lastjob_test = pd.get_dummies(data_test['last_new_job'],prefix = 'last_')"
   ]
  },
  {
   "cell_type": "code",
   "execution_count": 14,
   "metadata": {
    "id": "q_yzT8VeFOGi"
   },
   "outputs": [],
   "source": [
    "data['experience'].replace({\"1\":1,\"2\":1,\"3\":0,\"4\":0,\"19\":0,\"20\":0,\">20\":0,\"<1\":1,\"5\":0,\"6\":0,\"7\":0,\"8\":0,\"9\":0,\"10\":0,\"11\":0,\"12\":0,\"13\":0,\"14\":0,\"15\":0,\"16\":0,\"17\":0,\"18\":0},inplace = True)\n",
    "data_test['experience'].replace({\"1\":1,\"2\":1,\"3\":0,\"4\":0,\"19\":0,\"20\":0,\">20\":0,\"<1\":1,\"5\":0,\"6\":0,\"7\":0,\"8\":0,\"9\":0,\"10\":0,\"11\":0,\"12\":0,\"13\":0,\"14\":0,\"15\":0,\"16\":0,\"17\":0,\"18\":0},inplace = True)\n"
   ]
  },
  {
   "cell_type": "code",
   "execution_count": 15,
   "metadata": {
    "id": "aXcCktbsMCnk"
   },
   "outputs": [],
   "source": [
    "data['company_type'].fillna('Pvt Ltd',inplace = True)\n",
    "dummies_ctype = pd.get_dummies(data['company_type'])\n",
    "\n",
    "data_test['company_type'].fillna('Pvt Ltd',inplace = True)\n",
    "dummies_ctype_test = pd.get_dummies(data_test['company_type'])"
   ]
  },
  {
   "cell_type": "code",
   "execution_count": 16,
   "metadata": {
    "id": "uO2fDKQQz5wn"
   },
   "outputs": [],
   "source": [
    "merged = pd.concat([data,dummies_gender,dummies_relexp,dummies_enruniv,dummies_edlevel,dummies_ctype,dummies_lastjob],axis = 'columns')\n",
    "data = merged.drop(['city','gender','relevent_experience','enrolled_university','education_level','company_type','last_new_job'],axis = 'columns')\n",
    "\n",
    "merged_test = pd.concat([data_test,dummies_gender_test,dummies_relexp_test,dummies_enruniv_test,dummies_edlevel_test,dummies_ctype_test,dummies_lastjob_test],axis = 'columns')\n",
    "data_test = merged_test.drop(['city','gender','relevent_experience','enrolled_university','education_level','company_type','last_new_job'],axis = 'columns')\n",
    "\n"
   ]
  },
  {
   "cell_type": "code",
   "execution_count": 17,
   "metadata": {
    "id": "QQwdq0NWIOwB",
    "outputId": "af2aa426-cbe6-41d8-b480-d8e22cf87c44"
   },
   "outputs": [
    {
     "data": {
      "text/html": [
       "<div>\n",
       "<style scoped>\n",
       "    .dataframe tbody tr th:only-of-type {\n",
       "        vertical-align: middle;\n",
       "    }\n",
       "\n",
       "    .dataframe tbody tr th {\n",
       "        vertical-align: top;\n",
       "    }\n",
       "\n",
       "    .dataframe thead th {\n",
       "        text-align: right;\n",
       "    }\n",
       "</style>\n",
       "<table border=\"1\" class=\"dataframe\">\n",
       "  <thead>\n",
       "    <tr style=\"text-align: right;\">\n",
       "      <th></th>\n",
       "      <th>enrollee_id</th>\n",
       "      <th>city_development_index</th>\n",
       "      <th>experience</th>\n",
       "      <th>training_hours</th>\n",
       "      <th>target</th>\n",
       "      <th>Female</th>\n",
       "      <th>Male</th>\n",
       "      <th>Other</th>\n",
       "      <th>Has relevent experience</th>\n",
       "      <th>No relevent experience</th>\n",
       "      <th>...</th>\n",
       "      <th>Other</th>\n",
       "      <th>Public Sector</th>\n",
       "      <th>Pvt Ltd</th>\n",
       "      <th>last__1</th>\n",
       "      <th>last__1</th>\n",
       "      <th>last__2</th>\n",
       "      <th>last__3</th>\n",
       "      <th>last__4</th>\n",
       "      <th>last__&gt;4</th>\n",
       "      <th>last__never</th>\n",
       "    </tr>\n",
       "  </thead>\n",
       "  <tbody>\n",
       "    <tr>\n",
       "      <th>0</th>\n",
       "      <td>23798</td>\n",
       "      <td>0.689</td>\n",
       "      <td>0</td>\n",
       "      <td>106</td>\n",
       "      <td>0</td>\n",
       "      <td>0</td>\n",
       "      <td>1</td>\n",
       "      <td>0</td>\n",
       "      <td>1</td>\n",
       "      <td>0</td>\n",
       "      <td>...</td>\n",
       "      <td>0</td>\n",
       "      <td>0</td>\n",
       "      <td>1</td>\n",
       "      <td>0</td>\n",
       "      <td>1</td>\n",
       "      <td>0</td>\n",
       "      <td>0</td>\n",
       "      <td>0</td>\n",
       "      <td>0</td>\n",
       "      <td>0</td>\n",
       "    </tr>\n",
       "    <tr>\n",
       "      <th>1</th>\n",
       "      <td>29166</td>\n",
       "      <td>0.923</td>\n",
       "      <td>0</td>\n",
       "      <td>69</td>\n",
       "      <td>0</td>\n",
       "      <td>0</td>\n",
       "      <td>1</td>\n",
       "      <td>0</td>\n",
       "      <td>1</td>\n",
       "      <td>0</td>\n",
       "      <td>...</td>\n",
       "      <td>0</td>\n",
       "      <td>0</td>\n",
       "      <td>0</td>\n",
       "      <td>0</td>\n",
       "      <td>1</td>\n",
       "      <td>0</td>\n",
       "      <td>0</td>\n",
       "      <td>0</td>\n",
       "      <td>0</td>\n",
       "      <td>0</td>\n",
       "    </tr>\n",
       "    <tr>\n",
       "      <th>2</th>\n",
       "      <td>46</td>\n",
       "      <td>0.910</td>\n",
       "      <td>0</td>\n",
       "      <td>4</td>\n",
       "      <td>0</td>\n",
       "      <td>0</td>\n",
       "      <td>1</td>\n",
       "      <td>0</td>\n",
       "      <td>1</td>\n",
       "      <td>0</td>\n",
       "      <td>...</td>\n",
       "      <td>0</td>\n",
       "      <td>1</td>\n",
       "      <td>0</td>\n",
       "      <td>0</td>\n",
       "      <td>0</td>\n",
       "      <td>1</td>\n",
       "      <td>0</td>\n",
       "      <td>0</td>\n",
       "      <td>0</td>\n",
       "      <td>0</td>\n",
       "    </tr>\n",
       "    <tr>\n",
       "      <th>3</th>\n",
       "      <td>18527</td>\n",
       "      <td>0.666</td>\n",
       "      <td>0</td>\n",
       "      <td>26</td>\n",
       "      <td>0</td>\n",
       "      <td>0</td>\n",
       "      <td>1</td>\n",
       "      <td>0</td>\n",
       "      <td>1</td>\n",
       "      <td>0</td>\n",
       "      <td>...</td>\n",
       "      <td>0</td>\n",
       "      <td>0</td>\n",
       "      <td>1</td>\n",
       "      <td>0</td>\n",
       "      <td>1</td>\n",
       "      <td>0</td>\n",
       "      <td>0</td>\n",
       "      <td>0</td>\n",
       "      <td>0</td>\n",
       "      <td>0</td>\n",
       "    </tr>\n",
       "    <tr>\n",
       "      <th>4</th>\n",
       "      <td>21751</td>\n",
       "      <td>0.887</td>\n",
       "      <td>0</td>\n",
       "      <td>88</td>\n",
       "      <td>1</td>\n",
       "      <td>0</td>\n",
       "      <td>1</td>\n",
       "      <td>0</td>\n",
       "      <td>0</td>\n",
       "      <td>1</td>\n",
       "      <td>...</td>\n",
       "      <td>0</td>\n",
       "      <td>0</td>\n",
       "      <td>1</td>\n",
       "      <td>0</td>\n",
       "      <td>0</td>\n",
       "      <td>1</td>\n",
       "      <td>0</td>\n",
       "      <td>0</td>\n",
       "      <td>0</td>\n",
       "      <td>0</td>\n",
       "    </tr>\n",
       "  </tbody>\n",
       "</table>\n",
       "<p>5 rows × 31 columns</p>\n",
       "</div>"
      ],
      "text/plain": [
       "   enrollee_id  city_development_index  experience  training_hours  target  \\\n",
       "0        23798                   0.689           0             106       0   \n",
       "1        29166                   0.923           0              69       0   \n",
       "2           46                   0.910           0               4       0   \n",
       "3        18527                   0.666           0              26       0   \n",
       "4        21751                   0.887           0              88       1   \n",
       "\n",
       "   Female  Male  Other  Has relevent experience  No relevent experience  ...  \\\n",
       "0       0     1      0                        1                       0  ...   \n",
       "1       0     1      0                        1                       0  ...   \n",
       "2       0     1      0                        1                       0  ...   \n",
       "3       0     1      0                        1                       0  ...   \n",
       "4       0     1      0                        0                       1  ...   \n",
       "\n",
       "   Other  Public Sector  Pvt Ltd  last__1  last__1  last__2  last__3  last__4  \\\n",
       "0      0              0        1        0        1        0        0        0   \n",
       "1      0              0        0        0        1        0        0        0   \n",
       "2      0              1        0        0        0        1        0        0   \n",
       "3      0              0        1        0        1        0        0        0   \n",
       "4      0              0        1        0        0        1        0        0   \n",
       "\n",
       "   last__>4  last__never  \n",
       "0         0            0  \n",
       "1         0            0  \n",
       "2         0            0  \n",
       "3         0            0  \n",
       "4         0            0  \n",
       "\n",
       "[5 rows x 31 columns]"
      ]
     },
     "execution_count": 17,
     "metadata": {},
     "output_type": "execute_result"
    }
   ],
   "source": [
    "data.head()"
   ]
  },
  {
   "cell_type": "code",
   "execution_count": 18,
   "metadata": {
    "id": "7OV1eUvYJjmf",
    "outputId": "059258a5-3039-4cca-b09d-8ca1cceca9b2"
   },
   "outputs": [
    {
     "data": {
      "text/html": [
       "<div>\n",
       "<style scoped>\n",
       "    .dataframe tbody tr th:only-of-type {\n",
       "        vertical-align: middle;\n",
       "    }\n",
       "\n",
       "    .dataframe tbody tr th {\n",
       "        vertical-align: top;\n",
       "    }\n",
       "\n",
       "    .dataframe thead th {\n",
       "        text-align: right;\n",
       "    }\n",
       "</style>\n",
       "<table border=\"1\" class=\"dataframe\">\n",
       "  <thead>\n",
       "    <tr style=\"text-align: right;\">\n",
       "      <th></th>\n",
       "      <th>enrollee_id</th>\n",
       "      <th>city_development_index</th>\n",
       "      <th>experience</th>\n",
       "      <th>training_hours</th>\n",
       "      <th>Female</th>\n",
       "      <th>Male</th>\n",
       "      <th>Other</th>\n",
       "      <th>Has relevent experience</th>\n",
       "      <th>No relevent experience</th>\n",
       "      <th>Full time course</th>\n",
       "      <th>...</th>\n",
       "      <th>Other</th>\n",
       "      <th>Public Sector</th>\n",
       "      <th>Pvt Ltd</th>\n",
       "      <th>last__1</th>\n",
       "      <th>last__1</th>\n",
       "      <th>last__2</th>\n",
       "      <th>last__3</th>\n",
       "      <th>last__4</th>\n",
       "      <th>last__&gt;4</th>\n",
       "      <th>last__never</th>\n",
       "    </tr>\n",
       "  </thead>\n",
       "  <tbody>\n",
       "    <tr>\n",
       "      <th>0</th>\n",
       "      <td>16548</td>\n",
       "      <td>0.448</td>\n",
       "      <td>1</td>\n",
       "      <td>15</td>\n",
       "      <td>0</td>\n",
       "      <td>1</td>\n",
       "      <td>0</td>\n",
       "      <td>0</td>\n",
       "      <td>1</td>\n",
       "      <td>1</td>\n",
       "      <td>...</td>\n",
       "      <td>0</td>\n",
       "      <td>1</td>\n",
       "      <td>0</td>\n",
       "      <td>1</td>\n",
       "      <td>0</td>\n",
       "      <td>0</td>\n",
       "      <td>0</td>\n",
       "      <td>0</td>\n",
       "      <td>0</td>\n",
       "      <td>0</td>\n",
       "    </tr>\n",
       "    <tr>\n",
       "      <th>1</th>\n",
       "      <td>12036</td>\n",
       "      <td>0.939</td>\n",
       "      <td>0</td>\n",
       "      <td>94</td>\n",
       "      <td>0</td>\n",
       "      <td>1</td>\n",
       "      <td>0</td>\n",
       "      <td>0</td>\n",
       "      <td>1</td>\n",
       "      <td>0</td>\n",
       "      <td>...</td>\n",
       "      <td>0</td>\n",
       "      <td>0</td>\n",
       "      <td>1</td>\n",
       "      <td>0</td>\n",
       "      <td>1</td>\n",
       "      <td>0</td>\n",
       "      <td>0</td>\n",
       "      <td>0</td>\n",
       "      <td>0</td>\n",
       "      <td>0</td>\n",
       "    </tr>\n",
       "    <tr>\n",
       "      <th>2</th>\n",
       "      <td>11061</td>\n",
       "      <td>0.920</td>\n",
       "      <td>0</td>\n",
       "      <td>17</td>\n",
       "      <td>0</td>\n",
       "      <td>1</td>\n",
       "      <td>0</td>\n",
       "      <td>0</td>\n",
       "      <td>1</td>\n",
       "      <td>1</td>\n",
       "      <td>...</td>\n",
       "      <td>0</td>\n",
       "      <td>0</td>\n",
       "      <td>1</td>\n",
       "      <td>0</td>\n",
       "      <td>1</td>\n",
       "      <td>0</td>\n",
       "      <td>0</td>\n",
       "      <td>0</td>\n",
       "      <td>0</td>\n",
       "      <td>0</td>\n",
       "    </tr>\n",
       "    <tr>\n",
       "      <th>3</th>\n",
       "      <td>5032</td>\n",
       "      <td>0.924</td>\n",
       "      <td>0</td>\n",
       "      <td>76</td>\n",
       "      <td>0</td>\n",
       "      <td>1</td>\n",
       "      <td>0</td>\n",
       "      <td>0</td>\n",
       "      <td>1</td>\n",
       "      <td>0</td>\n",
       "      <td>...</td>\n",
       "      <td>0</td>\n",
       "      <td>0</td>\n",
       "      <td>1</td>\n",
       "      <td>0</td>\n",
       "      <td>0</td>\n",
       "      <td>1</td>\n",
       "      <td>0</td>\n",
       "      <td>0</td>\n",
       "      <td>0</td>\n",
       "      <td>0</td>\n",
       "    </tr>\n",
       "    <tr>\n",
       "      <th>4</th>\n",
       "      <td>17599</td>\n",
       "      <td>0.830</td>\n",
       "      <td>0</td>\n",
       "      <td>65</td>\n",
       "      <td>0</td>\n",
       "      <td>1</td>\n",
       "      <td>0</td>\n",
       "      <td>1</td>\n",
       "      <td>0</td>\n",
       "      <td>0</td>\n",
       "      <td>...</td>\n",
       "      <td>0</td>\n",
       "      <td>0</td>\n",
       "      <td>1</td>\n",
       "      <td>0</td>\n",
       "      <td>0</td>\n",
       "      <td>1</td>\n",
       "      <td>0</td>\n",
       "      <td>0</td>\n",
       "      <td>0</td>\n",
       "      <td>0</td>\n",
       "    </tr>\n",
       "  </tbody>\n",
       "</table>\n",
       "<p>5 rows × 30 columns</p>\n",
       "</div>"
      ],
      "text/plain": [
       "   enrollee_id  city_development_index  experience  training_hours  Female  \\\n",
       "0        16548                   0.448           1              15       0   \n",
       "1        12036                   0.939           0              94       0   \n",
       "2        11061                   0.920           0              17       0   \n",
       "3         5032                   0.924           0              76       0   \n",
       "4        17599                   0.830           0              65       0   \n",
       "\n",
       "   Male  Other  Has relevent experience  No relevent experience  \\\n",
       "0     1      0                        0                       1   \n",
       "1     1      0                        0                       1   \n",
       "2     1      0                        0                       1   \n",
       "3     1      0                        0                       1   \n",
       "4     1      0                        1                       0   \n",
       "\n",
       "   Full time course  ...  Other  Public Sector  Pvt Ltd  last__1  last__1  \\\n",
       "0                 1  ...      0              1        0        1        0   \n",
       "1                 0  ...      0              0        1        0        1   \n",
       "2                 1  ...      0              0        1        0        1   \n",
       "3                 0  ...      0              0        1        0        0   \n",
       "4                 0  ...      0              0        1        0        0   \n",
       "\n",
       "   last__2  last__3  last__4  last__>4  last__never  \n",
       "0        0        0        0         0            0  \n",
       "1        0        0        0         0            0  \n",
       "2        0        0        0         0            0  \n",
       "3        1        0        0         0            0  \n",
       "4        1        0        0         0            0  \n",
       "\n",
       "[5 rows x 30 columns]"
      ]
     },
     "execution_count": 18,
     "metadata": {},
     "output_type": "execute_result"
    }
   ],
   "source": [
    "data_test.head()"
   ]
  },
  {
   "cell_type": "code",
   "execution_count": 19,
   "metadata": {
    "id": "P49s-eO76qRD",
    "outputId": "79f7a457-817f-495f-d532-8ffa704b202b"
   },
   "outputs": [
    {
     "name": "stdout",
     "output_type": "stream",
     "text": [
      "['city_development_index', 'experience', 'training_hours', 'target', 'Female', 'Male', 'Other', 'Has relevent experience', 'No relevent experience', 'Full time course', 'Part time course', 'no_enrollment', 'Graduate', 'High School', 'Masters', 'Phd', 'Primary School', 'Early Stage Startup', 'Funded Startup', 'NGO', 'Other', 'Public Sector', 'Pvt Ltd', 'last__1', 'last__1', 'last__2', 'last__3', 'last__4', 'last__>4', 'last__never'] ['city_development_index', 'experience', 'training_hours', 'Female', 'Male', 'Other', 'Has relevent experience', 'No relevent experience', 'Full time course', 'Part time course', 'no_enrollment', 'Graduate', 'High School', 'Masters', 'Phd', 'Primary School', 'Early Stage Startup', 'Funded Startup', 'NGO', 'Other', 'Public Sector', 'Pvt Ltd', 'last__1', 'last__1', 'last__2', 'last__3', 'last__4', 'last__>4', 'last__never']\n"
     ]
    }
   ],
   "source": [
    "\n",
    "col_list = data.columns[1:]\n",
    "col_list_test = data_test.columns[1:]\n",
    "\n",
    "col = col_list.to_list()\n",
    "col_test = col_list_test.to_list()\n",
    "print(col,col_test)"
   ]
  },
  {
   "cell_type": "code",
   "execution_count": 20,
   "metadata": {
    "id": "_TJbU3PW2YiD"
   },
   "outputs": [
    {
     "name": "stderr",
     "output_type": "stream",
     "text": [
      "/opt/conda/lib/python3.7/site-packages/ipykernel_launcher.py:2: SettingWithCopyWarning: \n",
      "A value is trying to be set on a copy of a slice from a DataFrame.\n",
      "Try using .loc[row_indexer,col_indexer] = value instead\n",
      "\n",
      "See the caveats in the documentation: https://pandas.pydata.org/pandas-docs/stable/user_guide/indexing.html#returning-a-view-versus-a-copy\n",
      "  \n",
      "/opt/conda/lib/python3.7/site-packages/pandas/core/indexing.py:966: SettingWithCopyWarning: \n",
      "A value is trying to be set on a copy of a slice from a DataFrame.\n",
      "Try using .loc[row_indexer,col_indexer] = value instead\n",
      "\n",
      "See the caveats in the documentation: https://pandas.pydata.org/pandas-docs/stable/user_guide/indexing.html#returning-a-view-versus-a-copy\n",
      "  self.obj[item] = s\n",
      "/opt/conda/lib/python3.7/site-packages/ipykernel_launcher.py:7: SettingWithCopyWarning: \n",
      "A value is trying to be set on a copy of a slice from a DataFrame.\n",
      "Try using .loc[row_indexer,col_indexer] = value instead\n",
      "\n",
      "See the caveats in the documentation: https://pandas.pydata.org/pandas-docs/stable/user_guide/indexing.html#returning-a-view-versus-a-copy\n",
      "  import sys\n",
      "/opt/conda/lib/python3.7/site-packages/pandas/core/indexing.py:966: SettingWithCopyWarning: \n",
      "A value is trying to be set on a copy of a slice from a DataFrame.\n",
      "Try using .loc[row_indexer,col_indexer] = value instead\n",
      "\n",
      "See the caveats in the documentation: https://pandas.pydata.org/pandas-docs/stable/user_guide/indexing.html#returning-a-view-versus-a-copy\n",
      "  self.obj[item] = s\n"
     ]
    }
   ],
   "source": [
    "\n",
    "scaler = preprocessing.MinMaxScaler(feature_range=(0, 1))\n",
    "data[col] = scaler.fit_transform(data[col])\n",
    "data = pd.DataFrame(data)\n",
    "col.insert(0,'enrollee_id')\n",
    "data.columns = col\n",
    "\n",
    "data_test[col_test] = scaler.fit_transform(data_test[col_test])\n",
    "data_test = pd.DataFrame(data_test)\n",
    "col_test.insert(0,'enrollee_id')\n",
    "data_test.columns = col_test"
   ]
  },
  {
   "cell_type": "code",
   "execution_count": 21,
   "metadata": {
    "id": "vbgE5-ZW0S7I",
    "outputId": "a60089d0-21ba-471b-ddff-32b9af5d26d9"
   },
   "outputs": [
    {
     "data": {
      "text/html": [
       "<div>\n",
       "<style scoped>\n",
       "    .dataframe tbody tr th:only-of-type {\n",
       "        vertical-align: middle;\n",
       "    }\n",
       "\n",
       "    .dataframe tbody tr th {\n",
       "        vertical-align: top;\n",
       "    }\n",
       "\n",
       "    .dataframe thead th {\n",
       "        text-align: right;\n",
       "    }\n",
       "</style>\n",
       "<table border=\"1\" class=\"dataframe\">\n",
       "  <thead>\n",
       "    <tr style=\"text-align: right;\">\n",
       "      <th></th>\n",
       "      <th>enrollee_id</th>\n",
       "      <th>city_development_index</th>\n",
       "      <th>experience</th>\n",
       "      <th>training_hours</th>\n",
       "      <th>target</th>\n",
       "      <th>Female</th>\n",
       "      <th>Male</th>\n",
       "      <th>Other</th>\n",
       "      <th>Has relevent experience</th>\n",
       "      <th>No relevent experience</th>\n",
       "      <th>...</th>\n",
       "      <th>Other</th>\n",
       "      <th>Public Sector</th>\n",
       "      <th>Pvt Ltd</th>\n",
       "      <th>last__1</th>\n",
       "      <th>last__1</th>\n",
       "      <th>last__2</th>\n",
       "      <th>last__3</th>\n",
       "      <th>last__4</th>\n",
       "      <th>last__&gt;4</th>\n",
       "      <th>last__never</th>\n",
       "    </tr>\n",
       "  </thead>\n",
       "  <tbody>\n",
       "    <tr>\n",
       "      <th>0</th>\n",
       "      <td>23798</td>\n",
       "      <td>0.481038</td>\n",
       "      <td>0.0</td>\n",
       "      <td>0.313433</td>\n",
       "      <td>0.0</td>\n",
       "      <td>0.0</td>\n",
       "      <td>1.0</td>\n",
       "      <td>0.0</td>\n",
       "      <td>1.0</td>\n",
       "      <td>0.0</td>\n",
       "      <td>...</td>\n",
       "      <td>0.0</td>\n",
       "      <td>0.0</td>\n",
       "      <td>1.0</td>\n",
       "      <td>1.0</td>\n",
       "      <td>1.0</td>\n",
       "      <td>0.0</td>\n",
       "      <td>0.0</td>\n",
       "      <td>0.0</td>\n",
       "      <td>0.0</td>\n",
       "      <td>0.0</td>\n",
       "    </tr>\n",
       "    <tr>\n",
       "      <th>1</th>\n",
       "      <td>29166</td>\n",
       "      <td>0.948104</td>\n",
       "      <td>0.0</td>\n",
       "      <td>0.202985</td>\n",
       "      <td>0.0</td>\n",
       "      <td>0.0</td>\n",
       "      <td>1.0</td>\n",
       "      <td>0.0</td>\n",
       "      <td>1.0</td>\n",
       "      <td>0.0</td>\n",
       "      <td>...</td>\n",
       "      <td>0.0</td>\n",
       "      <td>0.0</td>\n",
       "      <td>0.0</td>\n",
       "      <td>1.0</td>\n",
       "      <td>1.0</td>\n",
       "      <td>0.0</td>\n",
       "      <td>0.0</td>\n",
       "      <td>0.0</td>\n",
       "      <td>0.0</td>\n",
       "      <td>0.0</td>\n",
       "    </tr>\n",
       "    <tr>\n",
       "      <th>2</th>\n",
       "      <td>46</td>\n",
       "      <td>0.922156</td>\n",
       "      <td>0.0</td>\n",
       "      <td>0.008955</td>\n",
       "      <td>0.0</td>\n",
       "      <td>0.0</td>\n",
       "      <td>1.0</td>\n",
       "      <td>0.0</td>\n",
       "      <td>1.0</td>\n",
       "      <td>0.0</td>\n",
       "      <td>...</td>\n",
       "      <td>0.0</td>\n",
       "      <td>1.0</td>\n",
       "      <td>0.0</td>\n",
       "      <td>0.0</td>\n",
       "      <td>0.0</td>\n",
       "      <td>1.0</td>\n",
       "      <td>0.0</td>\n",
       "      <td>0.0</td>\n",
       "      <td>0.0</td>\n",
       "      <td>0.0</td>\n",
       "    </tr>\n",
       "    <tr>\n",
       "      <th>3</th>\n",
       "      <td>18527</td>\n",
       "      <td>0.435130</td>\n",
       "      <td>0.0</td>\n",
       "      <td>0.074627</td>\n",
       "      <td>0.0</td>\n",
       "      <td>0.0</td>\n",
       "      <td>1.0</td>\n",
       "      <td>0.0</td>\n",
       "      <td>1.0</td>\n",
       "      <td>0.0</td>\n",
       "      <td>...</td>\n",
       "      <td>0.0</td>\n",
       "      <td>0.0</td>\n",
       "      <td>1.0</td>\n",
       "      <td>1.0</td>\n",
       "      <td>1.0</td>\n",
       "      <td>0.0</td>\n",
       "      <td>0.0</td>\n",
       "      <td>0.0</td>\n",
       "      <td>0.0</td>\n",
       "      <td>0.0</td>\n",
       "    </tr>\n",
       "    <tr>\n",
       "      <th>4</th>\n",
       "      <td>21751</td>\n",
       "      <td>0.876248</td>\n",
       "      <td>0.0</td>\n",
       "      <td>0.259701</td>\n",
       "      <td>1.0</td>\n",
       "      <td>0.0</td>\n",
       "      <td>1.0</td>\n",
       "      <td>0.0</td>\n",
       "      <td>0.0</td>\n",
       "      <td>1.0</td>\n",
       "      <td>...</td>\n",
       "      <td>0.0</td>\n",
       "      <td>0.0</td>\n",
       "      <td>1.0</td>\n",
       "      <td>0.0</td>\n",
       "      <td>0.0</td>\n",
       "      <td>1.0</td>\n",
       "      <td>0.0</td>\n",
       "      <td>0.0</td>\n",
       "      <td>0.0</td>\n",
       "      <td>0.0</td>\n",
       "    </tr>\n",
       "  </tbody>\n",
       "</table>\n",
       "<p>5 rows × 31 columns</p>\n",
       "</div>"
      ],
      "text/plain": [
       "   enrollee_id  city_development_index  experience  training_hours  target  \\\n",
       "0        23798                0.481038         0.0        0.313433     0.0   \n",
       "1        29166                0.948104         0.0        0.202985     0.0   \n",
       "2           46                0.922156         0.0        0.008955     0.0   \n",
       "3        18527                0.435130         0.0        0.074627     0.0   \n",
       "4        21751                0.876248         0.0        0.259701     1.0   \n",
       "\n",
       "   Female  Male  Other  Has relevent experience  No relevent experience  ...  \\\n",
       "0     0.0   1.0    0.0                      1.0                     0.0  ...   \n",
       "1     0.0   1.0    0.0                      1.0                     0.0  ...   \n",
       "2     0.0   1.0    0.0                      1.0                     0.0  ...   \n",
       "3     0.0   1.0    0.0                      1.0                     0.0  ...   \n",
       "4     0.0   1.0    0.0                      0.0                     1.0  ...   \n",
       "\n",
       "   Other  Public Sector  Pvt Ltd  last__1  last__1  last__2  last__3  last__4  \\\n",
       "0    0.0            0.0      1.0      1.0      1.0      0.0      0.0      0.0   \n",
       "1    0.0            0.0      0.0      1.0      1.0      0.0      0.0      0.0   \n",
       "2    0.0            1.0      0.0      0.0      0.0      1.0      0.0      0.0   \n",
       "3    0.0            0.0      1.0      1.0      1.0      0.0      0.0      0.0   \n",
       "4    0.0            0.0      1.0      0.0      0.0      1.0      0.0      0.0   \n",
       "\n",
       "   last__>4  last__never  \n",
       "0       0.0          0.0  \n",
       "1       0.0          0.0  \n",
       "2       0.0          0.0  \n",
       "3       0.0          0.0  \n",
       "4       0.0          0.0  \n",
       "\n",
       "[5 rows x 31 columns]"
      ]
     },
     "execution_count": 21,
     "metadata": {},
     "output_type": "execute_result"
    }
   ],
   "source": [
    "data.head()"
   ]
  },
  {
   "cell_type": "markdown",
   "execution_count": null,
   "metadata": {
    "id": "qW3DfpGBDrIq"
   },
   "source": [
    "**Let us look for imbalance in our dataset. We will calculate the unique count of label categories in the dataset **"
   ]
  },
  {
   "cell_type": "code",
   "execution_count": 22,
   "metadata": {
    "id": "XbsBkoJ8EJpZ",
    "outputId": "4b898f74-0a5d-4c93-c6a3-44f8191d14f4"
   },
   "outputs": [
    {
     "name": "stdout",
     "output_type": "stream",
     "text": [
      "target data: 0.0    15934\n",
      "1.0     2425\n",
      "Name: target, dtype: int64\n"
     ]
    }
   ],
   "source": [
    "print(\"target data:\",data['target'].value_counts())\n"
   ]
  },
  {
   "cell_type": "markdown",
   "execution_count": null,
   "metadata": {
    "id": "Q0yFLDUgFReK"
   },
   "source": [
    "*Clearly there is a lot of imbalance between categories, which may cause biasing in the models. There is a need to balance the dataset.\n",
    "We will use upsampling of minority class*"
   ]
  },
  {
   "cell_type": "code",
   "execution_count": 23,
   "metadata": {
    "id": "7QbxRlhJWRwA",
    "outputId": "0e758f5c-3575-46bc-c6c3-d658e66b756c"
   },
   "outputs": [
    {
     "name": "stdout",
     "output_type": "stream",
     "text": [
      "       enrollee_id  city_development_index  experience  training_hours  \\\n",
      "0            23798                0.481038         0.0        0.313433   \n",
      "1            29166                0.948104         0.0        0.202985   \n",
      "2               46                0.922156         0.0        0.008955   \n",
      "3            18527                0.435130         0.0        0.074627   \n",
      "5            13342                0.351297         0.0        0.098507   \n",
      "...            ...                     ...         ...             ...   \n",
      "18354        25366                0.942116         0.0        0.208955   \n",
      "18355        25545                0.942116         0.0        0.474627   \n",
      "18356        11514                0.954092         0.0        0.050746   \n",
      "18357         1689                0.980040         0.0        0.119403   \n",
      "18358         5995                0.690619         0.0        0.247761   \n",
      "\n",
      "       target  Female  Male  Other  Has relevent experience  \\\n",
      "0         0.0     0.0   1.0    0.0                      1.0   \n",
      "1         0.0     0.0   1.0    0.0                      1.0   \n",
      "2         0.0     0.0   1.0    0.0                      1.0   \n",
      "3         0.0     0.0   1.0    0.0                      1.0   \n",
      "5         0.0     1.0   0.0    0.0                      1.0   \n",
      "...       ...     ...   ...    ...                      ...   \n",
      "18354     0.0     0.0   1.0    0.0                      1.0   \n",
      "18355     0.0     0.0   1.0    0.0                      0.0   \n",
      "18356     0.0     0.0   1.0    0.0                      1.0   \n",
      "18357     0.0     0.0   1.0    0.0                      1.0   \n",
      "18358     0.0     1.0   0.0    0.0                      1.0   \n",
      "\n",
      "       No relevent experience  ...  Other  Public Sector  Pvt Ltd  last__1  \\\n",
      "0                         0.0  ...    0.0            0.0      1.0      1.0   \n",
      "1                         0.0  ...    0.0            0.0      0.0      1.0   \n",
      "2                         0.0  ...    0.0            1.0      0.0      0.0   \n",
      "3                         0.0  ...    0.0            0.0      1.0      1.0   \n",
      "5                         0.0  ...    0.0            0.0      1.0      0.0   \n",
      "...                       ...  ...    ...            ...      ...      ...   \n",
      "18354                     0.0  ...    0.0            0.0      1.0      1.0   \n",
      "18355                     1.0  ...    0.0            0.0      1.0      1.0   \n",
      "18356                     0.0  ...    0.0            0.0      1.0      0.0   \n",
      "18357                     0.0  ...    0.0            0.0      1.0      0.0   \n",
      "18358                     0.0  ...    0.0            0.0      1.0      0.0   \n",
      "\n",
      "       last__1  last__2  last__3  last__4  last__>4  last__never  \n",
      "0          1.0      0.0      0.0      0.0       0.0          0.0  \n",
      "1          1.0      0.0      0.0      0.0       0.0          0.0  \n",
      "2          0.0      1.0      0.0      0.0       0.0          0.0  \n",
      "3          1.0      0.0      0.0      0.0       0.0          0.0  \n",
      "5          0.0      1.0      0.0      0.0       0.0          0.0  \n",
      "...        ...      ...      ...      ...       ...          ...  \n",
      "18354      1.0      0.0      0.0      0.0       0.0          0.0  \n",
      "18355      1.0      0.0      0.0      0.0       0.0          0.0  \n",
      "18356      0.0      0.0      1.0      0.0       0.0          0.0  \n",
      "18357      0.0      0.0      1.0      0.0       0.0          0.0  \n",
      "18358      0.0      1.0      0.0      0.0       0.0          0.0  \n",
      "\n",
      "[15934 rows x 31 columns]        enrollee_id  city_development_index  experience  training_hours  \\\n",
      "4            21751                0.876248         0.0        0.259701   \n",
      "6            11746                0.351297         0.0        0.065672   \n",
      "24            3472                0.922156         0.0        0.158209   \n",
      "38           32506                0.481038         0.0        0.200000   \n",
      "40            5104                0.980040         0.0        0.044776   \n",
      "...            ...                     ...         ...             ...   \n",
      "18315        30649                0.499002         0.0        0.280597   \n",
      "18326        15199                0.942116         0.0        0.023881   \n",
      "18329        22908                0.896208         0.0        0.044776   \n",
      "18342        12930                0.610778         0.0        0.244776   \n",
      "18349         1448                0.654691         0.0        0.035821   \n",
      "\n",
      "       target  Female  Male  Other  Has relevent experience  \\\n",
      "4         1.0     0.0   1.0    0.0                      0.0   \n",
      "6         1.0     0.0   1.0    0.0                      1.0   \n",
      "24        1.0     0.0   1.0    0.0                      1.0   \n",
      "38        1.0     0.0   1.0    0.0                      1.0   \n",
      "40        1.0     0.0   1.0    0.0                      1.0   \n",
      "...       ...     ...   ...    ...                      ...   \n",
      "18315     1.0     1.0   0.0    0.0                      1.0   \n",
      "18326     1.0     0.0   1.0    0.0                      1.0   \n",
      "18329     1.0     0.0   1.0    0.0                      1.0   \n",
      "18342     1.0     0.0   1.0    0.0                      1.0   \n",
      "18349     1.0     1.0   0.0    0.0                      1.0   \n",
      "\n",
      "       No relevent experience  ...  Other  Public Sector  Pvt Ltd  last__1  \\\n",
      "4                         1.0  ...    0.0            0.0      1.0      0.0   \n",
      "6                         0.0  ...    0.0            0.0      1.0      0.0   \n",
      "24                        0.0  ...    0.0            0.0      1.0      0.0   \n",
      "38                        0.0  ...    0.0            0.0      1.0      1.0   \n",
      "40                        0.0  ...    0.0            0.0      1.0      1.0   \n",
      "...                       ...  ...    ...            ...      ...      ...   \n",
      "18315                     0.0  ...    0.0            0.0      1.0      1.0   \n",
      "18326                     0.0  ...    0.0            0.0      1.0      1.0   \n",
      "18329                     0.0  ...    0.0            0.0      1.0      1.0   \n",
      "18342                     0.0  ...    0.0            0.0      1.0      0.0   \n",
      "18349                     0.0  ...    0.0            0.0      1.0      0.0   \n",
      "\n",
      "       last__1  last__2  last__3  last__4  last__>4  last__never  \n",
      "4          0.0      1.0      0.0      0.0       0.0          0.0  \n",
      "6          0.0      0.0      1.0      0.0       0.0          0.0  \n",
      "24         0.0      0.0      0.0      0.0       1.0          0.0  \n",
      "38         1.0      0.0      0.0      0.0       0.0          0.0  \n",
      "40         1.0      0.0      0.0      0.0       0.0          0.0  \n",
      "...        ...      ...      ...      ...       ...          ...  \n",
      "18315      1.0      0.0      0.0      0.0       0.0          0.0  \n",
      "18326      1.0      0.0      0.0      0.0       0.0          0.0  \n",
      "18329      1.0      0.0      0.0      0.0       0.0          0.0  \n",
      "18342      0.0      0.0      0.0      1.0       0.0          0.0  \n",
      "18349      0.0      0.0      0.0      0.0       1.0          0.0  \n",
      "\n",
      "[2425 rows x 31 columns]\n"
     ]
    }
   ],
   "source": [
    "from sklearn.utils import resample\n",
    "df_majority = data[data.target==0]\n",
    "df_minority = data[data.target==1]\n",
    "print(df_majority,df_minority)\n",
    "# Upsample minority class\n",
    "\n",
    " "
   ]
  },
  {
   "cell_type": "code",
   "execution_count": 24,
   "metadata": {
    "id": "9P7pErL-WfKa",
    "outputId": "0151440d-3be4-40a7-fff9-a1444b955e42"
   },
   "outputs": [
    {
     "name": "stdout",
     "output_type": "stream",
     "text": [
      "<class 'pandas.core.frame.DataFrame'>\n",
      "Int64Index: 31868 entries, 0 to 17796\n",
      "Data columns (total 31 columns):\n",
      " #   Column                   Non-Null Count  Dtype  \n",
      "---  ------                   --------------  -----  \n",
      " 0   enrollee_id              31868 non-null  int64  \n",
      " 1   city_development_index   31868 non-null  float64\n",
      " 2   experience               31868 non-null  float64\n",
      " 3   training_hours           31868 non-null  float64\n",
      " 4   target                   31868 non-null  float64\n",
      " 5   Female                   31868 non-null  float64\n",
      " 6   Male                     31868 non-null  float64\n",
      " 7   Other                    31868 non-null  float64\n",
      " 8   Has relevent experience  31868 non-null  float64\n",
      " 9   No relevent experience   31868 non-null  float64\n",
      " 10  Full time course         31868 non-null  float64\n",
      " 11  Part time course         31868 non-null  float64\n",
      " 12  no_enrollment            31868 non-null  float64\n",
      " 13  Graduate                 31868 non-null  float64\n",
      " 14  High School              31868 non-null  float64\n",
      " 15  Masters                  31868 non-null  float64\n",
      " 16  Phd                      31868 non-null  float64\n",
      " 17  Primary School           31868 non-null  float64\n",
      " 18  Early Stage Startup      31868 non-null  float64\n",
      " 19  Funded Startup           31868 non-null  float64\n",
      " 20  NGO                      31868 non-null  float64\n",
      " 21  Other                    31868 non-null  float64\n",
      " 22  Public Sector            31868 non-null  float64\n",
      " 23  Pvt Ltd                  31868 non-null  float64\n",
      " 24  last__1                  31868 non-null  float64\n",
      " 25  last__1                  31868 non-null  float64\n",
      " 26  last__2                  31868 non-null  float64\n",
      " 27  last__3                  31868 non-null  float64\n",
      " 28  last__4                  31868 non-null  float64\n",
      " 29  last__>4                 31868 non-null  float64\n",
      " 30  last__never              31868 non-null  float64\n",
      "dtypes: float64(30), int64(1)\n",
      "memory usage: 7.8 MB\n"
     ]
    }
   ],
   "source": [
    "df_minority_upsampled = resample(df_minority, \n",
    "                                 replace=True,     # sample with replacement\n",
    "                                 n_samples=15934,    # to match majority class\n",
    "                                 random_state=123) # reproducible results\n",
    " \n",
    "# Combine majority class with upsampled minority class\n",
    "data = pd.concat([df_majority, df_minority_upsampled])\n",
    "data.info()"
   ]
  },
  {
   "cell_type": "markdown",
   "execution_count": null,
   "metadata": {
    "id": "EW2LubIsFkhx"
   },
   "source": [
    "**Now that our analysis is complete and dataset is balanced, let us move to the next step**"
   ]
  },
  {
   "cell_type": "markdown",
   "execution_count": null,
   "metadata": {
    "id": "tQPvHwOK2PUv"
   },
   "source": [
    "# Implementing Machine Learning models"
   ]
  },
  {
   "cell_type": "markdown",
   "execution_count": null,
   "metadata": {
    "id": "0I1JA83RXaI-"
   },
   "source": [
    "*Since the parameter on which scores will be decided is roc_auc_score we will also rate the models on the same*"
   ]
  },
  {
   "cell_type": "code",
   "execution_count": 25,
   "metadata": {
    "id": "Qyj7oOKk-zXh",
    "outputId": "b317a755-9559-4f08-ea14-d4334b6c5ff7"
   },
   "outputs": [
    {
     "name": "stdout",
     "output_type": "stream",
     "text": [
      "(25494, 27) (25494,)\n",
      "(6374, 27) (6374,)\n"
     ]
    }
   ],
   "source": [
    "from sklearn.model_selection import train_test_split\n",
    "x = data.drop(['enrollee_id','target','last__1'], axis = 'columns')\n",
    "\n",
    "y = data['target']\n",
    "x_train, x_val, y_train, y_val = train_test_split(x, y, test_size=0.2,random_state = 42,stratify = y)\n",
    "\n",
    "print(x_train.shape, y_train.shape)\n",
    "print(x_val.shape, y_val.shape)"
   ]
  },
  {
   "cell_type": "code",
   "execution_count": 26,
   "metadata": {
    "id": "34DLoL0j2U2T",
    "outputId": "606c3a4d-f2ab-4521-9b99-710642c3824e"
   },
   "outputs": [
    {
     "data": {
      "text/plain": [
       "0.616129674118332"
      ]
     },
     "execution_count": 26,
     "metadata": {},
     "output_type": "execute_result"
    }
   ],
   "source": [
    "#Logistic Regression\n",
    "from sklearn.linear_model import LogisticRegression\n",
    "from sklearn.metrics import roc_curve\n",
    "from sklearn.metrics import roc_auc_score\n",
    "lr = LogisticRegression(C=0.001,random_state = 0)\n",
    "lr.fit(x_train,y_train)\n",
    "\n",
    "lr_probs = lr.predict_proba(x_val)\n",
    "lr_probs = lr_probs[:, 1]\n",
    "lr_auc = roc_auc_score(y_val, lr_probs)\n",
    "\n",
    "lr_auc\n"
   ]
  },
  {
   "cell_type": "code",
   "execution_count": 27,
   "metadata": {
    "id": "j7PqgqUbEEiR",
    "outputId": "12f1a5da-3536-4c19-b316-f11ced4a9b6b"
   },
   "outputs": [
    {
     "data": {
      "image/png": "[encoded data removed]",
      "text/plain": [
       "<Figure size 432x288 with 1 Axes>"
      ]
     },
     "metadata": {
      "needs_background": "light"
     },
     "output_type": "display_data"
    }
   ],
   "source": [
    "lr_fpr, lr_tpr, _ = roc_curve(y_val, lr_probs)\n",
    "plt.plot(lr_fpr, lr_tpr, marker='.', label='Logistic')\n",
    "# axis labels\n",
    "plt.xlabel('False Positive Rate')\n",
    "plt.ylabel('True Positive Rate')\n",
    "# show the legend\n",
    "plt.legend()\n",
    "# show the plot\n",
    "plt.show()"
   ]
  },
  {
   "cell_type": "code",
   "execution_count": 28,
   "metadata": {
    "id": "dmlH3Ni6uhZK",
    "outputId": "ab2b288f-631d-49e1-8a11-1247cd6fe45b"
   },
   "outputs": [
    {
     "data": {
      "text/plain": [
       "0.9759495180107373"
      ]
     },
     "execution_count": 28,
     "metadata": {},
     "output_type": "execute_result"
    }
   ],
   "source": [
    "#Random Forest\n",
    "from sklearn.ensemble import RandomForestClassifier\n",
    "rf = RandomForestClassifier(n_estimators = 50, min_samples_leaf = 1,random_state = 0)\n",
    "rf.fit(x_train,y_train)\n",
    "\n",
    "rf_probs = rf.predict_proba(x_val)\n",
    "rf_probs = rf_probs[:, 1]\n",
    "rf_auc = roc_auc_score(y_val, rf_probs)\n",
    "\n",
    "rf_auc"
   ]
  },
  {
   "cell_type": "code",
   "execution_count": 29,
   "metadata": {
    "id": "ObIFAf_Lag-T",
    "outputId": "39ea38ac-2230-4b72-e25c-171311fb7bdf"
   },
   "outputs": [
    {
     "data": {
      "image/png": "[encoded data removed]",
      "text/plain": [
       "<Figure size 432x288 with 1 Axes>"
      ]
     },
     "metadata": {
      "needs_background": "light"
     },
     "output_type": "display_data"
    }
   ],
   "source": [
    "rf_fpr, rf_tpr, _ = roc_curve(y_val, rf_probs)\n",
    "plt.plot(rf_fpr, rf_tpr, marker='.', label='Logistic')\n",
    "# axis labels\n",
    "plt.xlabel('False Positive Rate')\n",
    "plt.ylabel('True Positive Rate')\n",
    "# show the legend\n",
    "plt.legend()\n",
    "# show the plot\n",
    "plt.show()"
   ]
  },
  {
   "cell_type": "code",
   "execution_count": 30,
   "metadata": {
    "id": "deZxQ4xz2Xde",
    "outputId": "1e983260-d0f4-49a5-f5f1-c66ef966da62"
   },
   "outputs": [
    {
     "data": {
      "text/plain": [
       "0.9137963303816324"
      ]
     },
     "execution_count": 30,
     "metadata": {},
     "output_type": "execute_result"
    }
   ],
   "source": [
    "#Decision Tree\n",
    "\n",
    "from sklearn.tree import DecisionTreeClassifier\n",
    "dt = DecisionTreeClassifier()\n",
    "dt.fit(x_train,y_train)\n",
    "\n",
    "dt_probs = dt.predict_proba(x_val)\n",
    "dt_probs = dt_probs[:, 1]\n",
    "dt_auc = roc_auc_score(y_val, dt_probs)\n",
    "\n",
    "dt_auc"
   ]
  },
  {
   "cell_type": "code",
   "execution_count": 31,
   "metadata": {
    "id": "5AJFBIprPK_v",
    "outputId": "37fbdc25-685e-4973-8779-f00169883162"
   },
   "outputs": [
    {
     "data": {
      "image/png": "[encoded data removed]",
      "text/plain": [
       "<Figure size 432x288 with 1 Axes>"
      ]
     },
     "metadata": {
      "needs_background": "light"
     },
     "output_type": "display_data"
    }
   ],
   "source": [
    "dt_fpr, dt_tpr, _ = roc_curve(y_val, dt_probs)\n",
    "plt.plot(dt_fpr, dt_tpr, marker='.', label='Decision Tree')\n",
    "# axis labels\n",
    "plt.xlabel('False Positive Rate')\n",
    "plt.ylabel('True Positive Rate')\n",
    "# show the legend\n",
    "plt.legend()\n",
    "# show the plot\n",
    "plt.show()"
   ]
  },
  {
   "cell_type": "code",
   "execution_count": 32,
   "metadata": {
    "id": "fIt62_cmbTPr",
    "outputId": "96380268-0224-4e10-e61b-da6d55c452da"
   },
   "outputs": [
    {
     "data": {
      "text/plain": [
       "0.611417786152542"
      ]
     },
     "execution_count": 32,
     "metadata": {},
     "output_type": "execute_result"
    }
   ],
   "source": [
    "from sklearn.naive_bayes import BernoulliNB\n",
    "bnb = BernoulliNB(binarize=0.55)\n",
    "bnb.fit(x_train,y_train)\n",
    "bnb_probs = bnb.predict_proba(x_val)\n",
    "bnb_probs = bnb_probs[:, 1]\n",
    "bnb_auc = roc_auc_score(y_val, bnb_probs)\n",
    "\n",
    "bnb_auc"
   ]
  },
  {
   "cell_type": "code",
   "execution_count": 33,
   "metadata": {
    "id": "qz_vXTTKPac8",
    "outputId": "7fe2b0e6-c0ca-44c1-d976-087f3cc1ee58"
   },
   "outputs": [
    {
     "data": {
      "image/png": "[encoded data removed]",
      "text/plain": [
       "<Figure size 432x288 with 1 Axes>"
      ]
     },
     "metadata": {
      "needs_background": "light"
     },
     "output_type": "display_data"
    }
   ],
   "source": [
    "bnb_fpr, bnb_tpr, _ = roc_curve(y_val, bnb_probs)\n",
    "plt.plot(bnb_fpr, bnb_tpr, marker='.', label='Bernoulli')\n",
    "# axis labels\n",
    "plt.xlabel('False Positive Rate')\n",
    "plt.ylabel('True Positive Rate')\n",
    "# show the legend\n",
    "plt.legend()\n",
    "# show the plot\n",
    "plt.show()"
   ]
  },
  {
   "cell_type": "code",
   "execution_count": 34,
   "metadata": {
    "id": "pmhdm5Cm6_lK",
    "outputId": "d8406898-87bb-4f85-8572-1e6ae009098e"
   },
   "outputs": [
    {
     "data": {
      "text/plain": [
       "0.6570101277260962"
      ]
     },
     "execution_count": 34,
     "metadata": {},
     "output_type": "execute_result"
    }
   ],
   "source": [
    "from sklearn.svm import SVC\n",
    "svc = SVC(probability=True,tol = 0.01)\n",
    "svc.fit(x_train,y_train)\n",
    "svc_probs = svc.predict_proba(x_val)\n",
    "svc_probs = svc_probs[:, 1]\n",
    "svc_auc = roc_auc_score(y_val, svc_probs)\n",
    "\n",
    "svc_auc"
   ]
  },
  {
   "cell_type": "code",
   "execution_count": 35,
   "metadata": {
    "id": "1oxLJig6Pnex",
    "outputId": "c09a5dc3-9792-4403-f185-346212aa0804"
   },
   "outputs": [
    {
     "data": {
      "image/png": "[encoded data removed]",
      "text/plain": [
       "<Figure size 432x288 with 1 Axes>"
      ]
     },
     "metadata": {
      "needs_background": "light"
     },
     "output_type": "display_data"
    }
   ],
   "source": [
    "svc_fpr, svc_tpr, _ = roc_curve(y_val, svc_probs)\n",
    "plt.plot(svc_fpr, svc_tpr, marker='.', label='Support Vector')\n",
    "# axis labels\n",
    "plt.xlabel('False Positive Rate')\n",
    "plt.ylabel('True Positive Rate')\n",
    "# show the legend\n",
    "plt.legend()\n",
    "# show the plot\n",
    "plt.show()"
   ]
  },
  {
   "cell_type": "code",
   "execution_count": 36,
   "metadata": {
    "id": "d6LInKgtOoJM",
    "outputId": "89aaca35-3fd8-4b5d-b392-b26621d418b2"
   },
   "outputs": [
    {
     "name": "stderr",
     "output_type": "stream",
     "text": [
      "/opt/conda/lib/python3.7/site-packages/sklearn/neural_network/_multilayer_perceptron.py:571: ConvergenceWarning: Stochastic Optimizer: Maximum iterations (100) reached and the optimization hasn't converged yet.\n",
      "  % self.max_iter, ConvergenceWarning)\n"
     ]
    },
    {
     "data": {
      "text/plain": [
       "0.6956700369962733"
      ]
     },
     "execution_count": 36,
     "metadata": {},
     "output_type": "execute_result"
    }
   ],
   "source": [
    "from sklearn.neural_network import MLPClassifier\n",
    "p = MLPClassifier(random_state=42,\n",
    "              max_iter=100,tol = 0.0001)\n",
    "p.fit(x_train,y_train)\n",
    "p_probs = p.predict_proba(x_val)\n",
    "p_probs = p_probs[:, 1]\n",
    "p_auc = roc_auc_score(y_val, p_probs)\n",
    "\n",
    "p_auc"
   ]
  },
  {
   "cell_type": "code",
   "execution_count": 37,
   "metadata": {
    "id": "dgKgiRW4P8Nf",
    "outputId": "cbbeb5ce-5e2a-4a2e-bbf5-869159e979f7"
   },
   "outputs": [
    {
     "data": {
      "image/png": "[encoded data removed]",
      "text/plain": [
       "<Figure size 432x288 with 1 Axes>"
      ]
     },
     "metadata": {
      "needs_background": "light"
     },
     "output_type": "display_data"
    }
   ],
   "source": [
    "p_fpr, p_tpr, _ = roc_curve(y_val, p_probs)\n",
    "plt.plot(p_fpr, p_tpr, marker='.', label='Perceptron')\n",
    "# axis labels\n",
    "plt.xlabel('False Positive Rate')\n",
    "plt.ylabel('True Positive Rate')\n",
    "# show the legend\n",
    "plt.legend()\n",
    "# show the plot\n",
    "plt.show()"
   ]
  },
  {
   "cell_type": "markdown",
   "execution_count": null,
   "metadata": {
    "id": "uwFhOVU0XpxE"
   },
   "source": [
    "**Let's consolidate the  scores of each model**"
   ]
  },
  {
   "cell_type": "code",
   "execution_count": 38,
   "metadata": {
    "id": "Byv2NqSEQKXq",
    "outputId": "2bd1f569-bcbb-49fa-b6e9-30773f4315ce"
   },
   "outputs": [
    {
     "name": "stdout",
     "output_type": "stream",
     "text": [
      "=====================ROC_AUC Scores=========================\n",
      "Logistic Regression :  0.616129674118332\n",
      "Random Forest :  0.9759495180107373\n",
      "Bernoulli NaiveBayes :  0.611417786152542\n",
      "Support Vector :  0.6570101277260962\n",
      "Decision Tree :  0.9137963303816324\n",
      "MultiLayerPerceptron :  0.6956700369962733\n"
     ]
    }
   ],
   "source": [
    "auc_scores = [lr_auc,rf_auc,bnb_auc,svc_auc,dt_auc,p_auc]\n",
    "models =['Logistic Regression','Random Forest','Bernoulli NaiveBayes','Support Vector','Decision Tree','MultiLayerPerceptron']\n",
    "print(\"=====================ROC_AUC Scores=========================\")\n",
    "for score,model  in zip(auc_scores,models):\n",
    "  print(model,\": \",score)"
   ]
  },
  {
   "cell_type": "markdown",
   "execution_count": null,
   "metadata": {
    "id": "e9srucR9XyBl"
   },
   "source": [
    "*RandomForest and DecisionTree have exceptionally high scores, this maybe because of overfitting*\n",
    "\n",
    "Let us now predict our target and consolidate the final scores"
   ]
  },
  {
   "cell_type": "markdown",
   "execution_count": null,
   "metadata": {
    "id": "x43hMoSFEvkT"
   },
   "source": [
    "# Predicting Test dataset\n"
   ]
  },
  {
   "cell_type": "code",
   "execution_count": 39,
   "metadata": {
    "id": "qQEDDBFgHo8l",
    "outputId": "65c7a19b-574c-4867-a86b-c31be35a21fa"
   },
   "outputs": [
    {
     "data": {
      "text/html": [
       "<div>\n",
       "<style scoped>\n",
       "    .dataframe tbody tr th:only-of-type {\n",
       "        vertical-align: middle;\n",
       "    }\n",
       "\n",
       "    .dataframe tbody tr th {\n",
       "        vertical-align: top;\n",
       "    }\n",
       "\n",
       "    .dataframe thead th {\n",
       "        text-align: right;\n",
       "    }\n",
       "</style>\n",
       "<table border=\"1\" class=\"dataframe\">\n",
       "  <thead>\n",
       "    <tr style=\"text-align: right;\">\n",
       "      <th></th>\n",
       "      <th>enrollee_id</th>\n",
       "      <th>city_development_index</th>\n",
       "      <th>experience</th>\n",
       "      <th>training_hours</th>\n",
       "      <th>Female</th>\n",
       "      <th>Male</th>\n",
       "      <th>Other</th>\n",
       "      <th>Has relevent experience</th>\n",
       "      <th>No relevent experience</th>\n",
       "      <th>Full time course</th>\n",
       "      <th>...</th>\n",
       "      <th>Other</th>\n",
       "      <th>Public Sector</th>\n",
       "      <th>Pvt Ltd</th>\n",
       "      <th>last__1</th>\n",
       "      <th>last__1</th>\n",
       "      <th>last__2</th>\n",
       "      <th>last__3</th>\n",
       "      <th>last__4</th>\n",
       "      <th>last__&gt;4</th>\n",
       "      <th>last__never</th>\n",
       "    </tr>\n",
       "  </thead>\n",
       "  <tbody>\n",
       "    <tr>\n",
       "      <th>0</th>\n",
       "      <td>16548</td>\n",
       "      <td>0.000000</td>\n",
       "      <td>1.0</td>\n",
       "      <td>0.041791</td>\n",
       "      <td>0.0</td>\n",
       "      <td>1.0</td>\n",
       "      <td>0.0</td>\n",
       "      <td>0.0</td>\n",
       "      <td>1.0</td>\n",
       "      <td>1.0</td>\n",
       "      <td>...</td>\n",
       "      <td>0.0</td>\n",
       "      <td>1.0</td>\n",
       "      <td>0.0</td>\n",
       "      <td>0.0</td>\n",
       "      <td>0.0</td>\n",
       "      <td>0.0</td>\n",
       "      <td>0.0</td>\n",
       "      <td>0.0</td>\n",
       "      <td>0.0</td>\n",
       "      <td>0.0</td>\n",
       "    </tr>\n",
       "    <tr>\n",
       "      <th>1</th>\n",
       "      <td>12036</td>\n",
       "      <td>0.980040</td>\n",
       "      <td>0.0</td>\n",
       "      <td>0.277612</td>\n",
       "      <td>0.0</td>\n",
       "      <td>1.0</td>\n",
       "      <td>0.0</td>\n",
       "      <td>0.0</td>\n",
       "      <td>1.0</td>\n",
       "      <td>0.0</td>\n",
       "      <td>...</td>\n",
       "      <td>0.0</td>\n",
       "      <td>0.0</td>\n",
       "      <td>1.0</td>\n",
       "      <td>1.0</td>\n",
       "      <td>1.0</td>\n",
       "      <td>0.0</td>\n",
       "      <td>0.0</td>\n",
       "      <td>0.0</td>\n",
       "      <td>0.0</td>\n",
       "      <td>0.0</td>\n",
       "    </tr>\n",
       "    <tr>\n",
       "      <th>2</th>\n",
       "      <td>11061</td>\n",
       "      <td>0.942116</td>\n",
       "      <td>0.0</td>\n",
       "      <td>0.047761</td>\n",
       "      <td>0.0</td>\n",
       "      <td>1.0</td>\n",
       "      <td>0.0</td>\n",
       "      <td>0.0</td>\n",
       "      <td>1.0</td>\n",
       "      <td>1.0</td>\n",
       "      <td>...</td>\n",
       "      <td>0.0</td>\n",
       "      <td>0.0</td>\n",
       "      <td>1.0</td>\n",
       "      <td>1.0</td>\n",
       "      <td>1.0</td>\n",
       "      <td>0.0</td>\n",
       "      <td>0.0</td>\n",
       "      <td>0.0</td>\n",
       "      <td>0.0</td>\n",
       "      <td>0.0</td>\n",
       "    </tr>\n",
       "    <tr>\n",
       "      <th>3</th>\n",
       "      <td>5032</td>\n",
       "      <td>0.950100</td>\n",
       "      <td>0.0</td>\n",
       "      <td>0.223881</td>\n",
       "      <td>0.0</td>\n",
       "      <td>1.0</td>\n",
       "      <td>0.0</td>\n",
       "      <td>0.0</td>\n",
       "      <td>1.0</td>\n",
       "      <td>0.0</td>\n",
       "      <td>...</td>\n",
       "      <td>0.0</td>\n",
       "      <td>0.0</td>\n",
       "      <td>1.0</td>\n",
       "      <td>0.0</td>\n",
       "      <td>0.0</td>\n",
       "      <td>1.0</td>\n",
       "      <td>0.0</td>\n",
       "      <td>0.0</td>\n",
       "      <td>0.0</td>\n",
       "      <td>0.0</td>\n",
       "    </tr>\n",
       "    <tr>\n",
       "      <th>4</th>\n",
       "      <td>17599</td>\n",
       "      <td>0.762475</td>\n",
       "      <td>0.0</td>\n",
       "      <td>0.191045</td>\n",
       "      <td>0.0</td>\n",
       "      <td>1.0</td>\n",
       "      <td>0.0</td>\n",
       "      <td>1.0</td>\n",
       "      <td>0.0</td>\n",
       "      <td>0.0</td>\n",
       "      <td>...</td>\n",
       "      <td>0.0</td>\n",
       "      <td>0.0</td>\n",
       "      <td>1.0</td>\n",
       "      <td>0.0</td>\n",
       "      <td>0.0</td>\n",
       "      <td>1.0</td>\n",
       "      <td>0.0</td>\n",
       "      <td>0.0</td>\n",
       "      <td>0.0</td>\n",
       "      <td>0.0</td>\n",
       "    </tr>\n",
       "  </tbody>\n",
       "</table>\n",
       "<p>5 rows × 30 columns</p>\n",
       "</div>"
      ],
      "text/plain": [
       "   enrollee_id  city_development_index  experience  training_hours  Female  \\\n",
       "0        16548                0.000000         1.0        0.041791     0.0   \n",
       "1        12036                0.980040         0.0        0.277612     0.0   \n",
       "2        11061                0.942116         0.0        0.047761     0.0   \n",
       "3         5032                0.950100         0.0        0.223881     0.0   \n",
       "4        17599                0.762475         0.0        0.191045     0.0   \n",
       "\n",
       "   Male  Other  Has relevent experience  No relevent experience  \\\n",
       "0   1.0    0.0                      0.0                     1.0   \n",
       "1   1.0    0.0                      0.0                     1.0   \n",
       "2   1.0    0.0                      0.0                     1.0   \n",
       "3   1.0    0.0                      0.0                     1.0   \n",
       "4   1.0    0.0                      1.0                     0.0   \n",
       "\n",
       "   Full time course  ...  Other  Public Sector  Pvt Ltd  last__1  last__1  \\\n",
       "0               1.0  ...    0.0            1.0      0.0      0.0      0.0   \n",
       "1               0.0  ...    0.0            0.0      1.0      1.0      1.0   \n",
       "2               1.0  ...    0.0            0.0      1.0      1.0      1.0   \n",
       "3               0.0  ...    0.0            0.0      1.0      0.0      0.0   \n",
       "4               0.0  ...    0.0            0.0      1.0      0.0      0.0   \n",
       "\n",
       "   last__2  last__3  last__4  last__>4  last__never  \n",
       "0      0.0      0.0      0.0       0.0          0.0  \n",
       "1      0.0      0.0      0.0       0.0          0.0  \n",
       "2      0.0      0.0      0.0       0.0          0.0  \n",
       "3      1.0      0.0      0.0       0.0          0.0  \n",
       "4      1.0      0.0      0.0       0.0          0.0  \n",
       "\n",
       "[5 rows x 30 columns]"
      ]
     },
     "execution_count": 39,
     "metadata": {},
     "output_type": "execute_result"
    }
   ],
   "source": [
    "data_test.head()"
   ]
  },
  {
   "cell_type": "code",
   "execution_count": 40,
   "metadata": {
    "id": "6f0tacNIR6Ac"
   },
   "outputs": [],
   "source": [
    "x_test = data_test.drop(['enrollee_id','last__1'], axis = 'columns')"
   ]
  },
  {
   "cell_type": "code",
   "execution_count": 41,
   "metadata": {
    "id": "CggGcCXP_Zek",
    "outputId": "23688ada-55c4-4128-f78b-34d7e60b9f21"
   },
   "outputs": [
    {
     "name": "stdout",
     "output_type": "stream",
     "text": [
      "[0. 1.] [9605 5416]\n"
     ]
    }
   ],
   "source": [
    "pred_lr = lr.predict(x_test)\n",
    "unique_elements, counts_elements = np.unique(pred_lr, return_counts=True)\n",
    "print(unique_elements,counts_elements)"
   ]
  },
  {
   "cell_type": "code",
   "execution_count": 42,
   "metadata": {
    "id": "Y2sVlZRFwdd3",
    "outputId": "0f4334c3-7dec-4c18-bbae-5fd9d5ecb093"
   },
   "outputs": [
    {
     "name": "stdout",
     "output_type": "stream",
     "text": [
      "[0. 1.] [12567  2454]\n"
     ]
    }
   ],
   "source": [
    "pred_rf = rf.predict(x_test)\n",
    "unique_elements, counts_elements = np.unique(pred_rf, return_counts=True)\n",
    "print(unique_elements,counts_elements)"
   ]
  },
  {
   "cell_type": "code",
   "execution_count": 43,
   "metadata": {
    "id": "CuR7KaU529el",
    "outputId": "d8f6cc87-e333-48d9-de1a-0817c78a878b"
   },
   "outputs": [
    {
     "name": "stdout",
     "output_type": "stream",
     "text": [
      "[0. 1.] [12141  2880]\n"
     ]
    }
   ],
   "source": [
    "pred_dt = dt.predict(x_test)\n",
    "unique_elements, counts_elements = np.unique(pred_dt, return_counts=True)\n",
    "print(unique_elements,counts_elements)"
   ]
  },
  {
   "cell_type": "code",
   "execution_count": 44,
   "metadata": {
    "id": "79RTXO2A9wlR",
    "outputId": "968569db-4764-4216-d5ef-f78dd00e9ff1"
   },
   "outputs": [
    {
     "name": "stdout",
     "output_type": "stream",
     "text": [
      "[0. 1.] [9299 5722]\n"
     ]
    }
   ],
   "source": [
    "pred_svc = svc.predict(x_test)\n",
    "unique_elements, counts_elements = np.unique(pred_svc, return_counts=True)\n",
    "print(unique_elements,counts_elements)"
   ]
  },
  {
   "cell_type": "code",
   "execution_count": 45,
   "metadata": {
    "id": "Rrocconq-ufq",
    "outputId": "893115d1-6206-4305-fc6b-e572f943d8d5"
   },
   "outputs": [
    {
     "name": "stdout",
     "output_type": "stream",
     "text": [
      "[0. 1.] [9386 5635]\n"
     ]
    }
   ],
   "source": [
    "pred_bnb = bnb.predict(x_test)\n",
    "unique_elements, counts_elements = np.unique(pred_bnb, return_counts=True)\n",
    "print(unique_elements,counts_elements)"
   ]
  },
  {
   "cell_type": "code",
   "execution_count": 46,
   "metadata": {
    "id": "jwcJGtk-P--0",
    "outputId": "5cb0d627-00c8-492c-dd70-e90779a42f2c"
   },
   "outputs": [
    {
     "name": "stdout",
     "output_type": "stream",
     "text": [
      "[0. 1.] [9560 5461]\n"
     ]
    }
   ],
   "source": [
    "pred_p = p.predict(x_test)\n",
    "unique_elements, counts_elements = np.unique(pred_p, return_counts=True)\n",
    "print(unique_elements,counts_elements)"
   ]
  },
  {
   "cell_type": "code",
   "execution_count": 47,
   "metadata": {
    "id": "Tdw81bmMYWEr",
    "outputId": "cf0aaab5-5748-407c-b1b5-c856ba3ea2b3"
   },
   "outputs": [
    {
     "name": "stdout",
     "output_type": "stream",
     "text": [
      "=====================Final Scores=========================\n",
      "Logistic Regression :  0.5957\n",
      "Random Forest :  0.5162\n",
      "Bernoulli NaiveBayes :  0.595\n",
      "Support Vector :  0.6008\n",
      "Decision Tree :  0.5168\n",
      "MultiLayerPerceptron :  0.6133\n"
     ]
    }
   ],
   "source": [
    "auc_scores = [0.5957,0.5162,0.5950,0.6008,0.5168,0.6133]\n",
    "models =['Logistic Regression','Random Forest','Bernoulli NaiveBayes','Support Vector','Decision Tree','MultiLayerPerceptron']\n",
    "print(\"=====================Final Scores=========================\")\n",
    "for score,model  in zip(auc_scores,models):\n",
    "  print(model,\": \",score)"
   ]
  },
  {
   "cell_type": "markdown",
   "execution_count": null,
   "metadata": {
    "id": "usrqIa_sZW_N"
   },
   "source": [
    "**As we assumed, the models with abnormally high score training(Random Forest,Decision Tree) performed the worst on test set. This is because of overfitting.**\n",
    "\n",
    "Here is a link explaining what is overfitting and how it can be reduced:\n",
    "[Overfit and Underfit in ML](https://towardsdatascience.com/what-are-overfitting-and-underfitting-in-machine-learning-a96b30864690)"
   ]
  }
 ],
 "metadata": {
  "kernelspec": {
   "display_name": "Python 3",
   "language": "python",
   "name": "python3"
  },
  "language_info": {
   "codemirror_mode": {
    "name": "ipython",
    "version": 3
   },
   "file_extension": ".py",
   "mimetype": "text/x-python",
   "name": "python",
   "nbconvert_exporter": "python",
   "pygments_lexer": "ipython3",
   "version": "3.7.6"
  }
 },
 "nbformat": 4,
 "nbformat_minor": 4
}
