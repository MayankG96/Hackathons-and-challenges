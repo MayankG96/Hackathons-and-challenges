{
 "cells": [
  {
   "cell_type": "markdown",
   "execution_count": null,
   "metadata": {
    "id": "S6WDpLhKSFnz"
   },
   "source": [
    "# Problem Statement\n",
    "\n",
    "**To build a predictive model, which could help cab-aggregators in predicting the '*surge_pricing_type*' pro-actively. This would in turn help them in matching the right cabs with the right customers quickly and efficiently.**"
   ]
  },
  {
   "cell_type": "markdown",
   "execution_count": null,
   "metadata": {
    "id": "3n9qVzeKxSaR"
   },
   "source": [
    "# Data Analysis"
   ]
  },
  {
   "cell_type": "markdown",
   "execution_count": null,
   "metadata": {
    "id": "4ybiimR-ouBu"
   },
   "source": [
    "## Understanding data"
   ]
  },
  {
   "cell_type": "code",
   "execution_count": 1,
   "metadata": {
    "id": "p3o4IYYDTsnv",
    "outputId": "1996258c-7c86-40ca-fc48-234b3ca1657c"
   },
   "outputs": [],
   "source": [
    "#importing necessary libraries\n",
    "import pandas as pd\n",
    "import numpy as np\n",
    "import matplotlib.pyplot as plt\n",
    "import seaborn as sns\n",
    "import missingno\n",
    "from scipy import stats\n",
    "from sklearn import preprocessing,model_selection\n",
    "\n",
    "from sklearn.model_selection import GridSearchCV\n",
    "from sklearn.metrics import accuracy_score,classification_report"
   ]
  },
  {
   "cell_type": "code",
   "execution_count": 2,
   "metadata": {
    "id": "gelGVO_fSblj",
    "outputId": "a3fba3d3-bc1b-4c8e-fa26-9d49043c6508"
   },
   "outputs": [
    {
     "name": "stdout",
     "output_type": "stream",
     "text": [
      "(131662, 14) (87395, 13)\n"
     ]
    }
   ],
   "source": [
    "#reading data\n",
    "train = pd.read_csv(\"../input/train.csv\")\n",
    "test =  pd.read_csv(\"../input/test.csv\")\n",
    "print(train.shape,test.shape)"
   ]
  },
  {
   "cell_type": "code",
   "execution_count": 3,
   "metadata": {
    "id": "U2MwZXNt3mjd",
    "outputId": "0b76dae3-f479-44e1-a5a3-d501fc016eb4"
   },
   "outputs": [
    {
     "data": {
      "text/plain": [
       "(219057, 14)"
      ]
     },
     "execution_count": 3,
     "metadata": {},
     "output_type": "execute_result"
    }
   ],
   "source": [
    "#combining data for preprocessing\n",
    "comb = train.append(test)\n",
    "comb.shape"
   ]
  },
  {
   "cell_type": "code",
   "execution_count": 4,
   "metadata": {
    "id": "qK-JCMdT3GPG",
    "outputId": "d5db582d-1746-4d3a-e681-3e47d9236c7f"
   },
   "outputs": [
    {
     "name": "stdout",
     "output_type": "stream",
     "text": [
      "<class 'pandas.core.frame.DataFrame'>\n",
      "Int64Index: 219057 entries, 0 to 87394\n",
      "Data columns (total 14 columns):\n",
      " #   Column                       Non-Null Count   Dtype  \n",
      "---  ------                       --------------   -----  \n",
      " 0   Trip_ID                      219057 non-null  object \n",
      " 1   Trip_Distance                219057 non-null  float64\n",
      " 2   Type_of_Cab                  185689 non-null  object \n",
      " 3   Customer_Since_Months        209171 non-null  float64\n",
      " 4   Life_Style_Index             185537 non-null  float64\n",
      " 5   Confidence_Life_Style_Index  185537 non-null  object \n",
      " 6   Destination_Type             219057 non-null  object \n",
      " 7   Customer_Rating              219057 non-null  float64\n",
      " 8   Cancellation_Last_1Month     219057 non-null  int64  \n",
      " 9   Var1                         101238 non-null  float64\n",
      " 10  Var2                         219057 non-null  int64  \n",
      " 11  Var3                         219057 non-null  int64  \n",
      " 12  Gender                       219057 non-null  object \n",
      " 13  Surge_Pricing_Type           131662 non-null  float64\n",
      "dtypes: float64(6), int64(3), object(5)\n",
      "memory usage: 25.1+ MB\n",
      "Trip_ID                             0\n",
      "Trip_Distance                       0\n",
      "Type_of_Cab                     33368\n",
      "Customer_Since_Months            9886\n",
      "Life_Style_Index                33520\n",
      "Confidence_Life_Style_Index     33520\n",
      "Destination_Type                    0\n",
      "Customer_Rating                     0\n",
      "Cancellation_Last_1Month            0\n",
      "Var1                           117819\n",
      "Var2                                0\n",
      "Var3                                0\n",
      "Gender                              0\n",
      "Surge_Pricing_Type              87395\n",
      "dtype: int64\n"
     ]
    }
   ],
   "source": [
    "#getting information about datatypes and null values\n",
    "comb.info()\n",
    "print(comb.isnull().sum())"
   ]
  },
  {
   "cell_type": "code",
   "execution_count": 5,
   "metadata": {
    "id": "xjBm-Y9BYEmA"
   },
   "outputs": [],
   "source": [
    "#Converting categorical variables to type category\n",
    "cat_col = ['Type_of_Cab','Confidence_Life_Style_Index','Destination_Type','Gender','Surge_Pricing_Type']\n",
    "comb[cat_col]= comb[cat_col].astype('category')"
   ]
  },
  {
   "cell_type": "code",
   "execution_count": 6,
   "metadata": {
    "id": "qExRFdlia-4g",
    "outputId": "cc2bef2a-d325-4910-c3ca-0294438ded01"
   },
   "outputs": [
    {
     "name": "stdout",
     "output_type": "stream",
     "text": [
      "<class 'pandas.core.frame.DataFrame'>\n",
      "Int64Index: 219057 entries, 0 to 87394\n",
      "Data columns (total 14 columns):\n",
      " #   Column                       Non-Null Count   Dtype   \n",
      "---  ------                       --------------   -----   \n",
      " 0   Trip_ID                      219057 non-null  object  \n",
      " 1   Trip_Distance                219057 non-null  float64 \n",
      " 2   Type_of_Cab                  185689 non-null  category\n",
      " 3   Customer_Since_Months        209171 non-null  float64 \n",
      " 4   Life_Style_Index             185537 non-null  float64 \n",
      " 5   Confidence_Life_Style_Index  185537 non-null  category\n",
      " 6   Destination_Type             219057 non-null  category\n",
      " 7   Customer_Rating              219057 non-null  float64 \n",
      " 8   Cancellation_Last_1Month     219057 non-null  int64   \n",
      " 9   Var1                         101238 non-null  float64 \n",
      " 10  Var2                         219057 non-null  int64   \n",
      " 11  Var3                         219057 non-null  int64   \n",
      " 12  Gender                       219057 non-null  category\n",
      " 13  Surge_Pricing_Type           131662 non-null  category\n",
      "dtypes: category(5), float64(5), int64(3), object(1)\n",
      "memory usage: 17.8+ MB\n"
     ]
    }
   ],
   "source": [
    "comb.info()"
   ]
  },
  {
   "cell_type": "code",
   "execution_count": 7,
   "metadata": {
    "id": "kuo8zcX3b9lD",
    "outputId": "63de34bb-e7a0-48d5-a139-fd078d0ee2c8"
   },
   "outputs": [
    {
     "data": {
      "text/plain": [
       "<matplotlib.axes._subplots.AxesSubplot at 0x7f76c02cff10>"
      ]
     },
     "execution_count": 7,
     "metadata": {},
     "output_type": "execute_result"
    },
    {
     "data": {
      "image/png": "[encoded data removed]",
      "text/plain": [
       "<Figure size 1800x720 with 2 Axes>"
      ]
     },
     "metadata": {
      "needs_background": "light"
     },
     "output_type": "display_data"
    }
   ],
   "source": [
    "missingno.matrix(comb)"
   ]
  },
  {
   "cell_type": "code",
   "execution_count": 8,
   "metadata": {
    "id": "564aiO-hdBq0",
    "outputId": "504ceb47-d5a1-4674-ee31-c4f7b4814eb9"
   },
   "outputs": [
    {
     "name": "stdout",
     "output_type": "stream",
     "text": [
      "No duplicated entries found\n"
     ]
    }
   ],
   "source": [
    "#Checking for any duplicate data\n",
    "if len(comb[comb.duplicated()]) > 0:\n",
    "    print(\"No. of duplicated entries: \", len(comb[comb.duplicated()]))\n",
    "    print(comb[comb.duplicated(keep=False)].sort_values(by=list(comb.columns)).head())\n",
    "else:\n",
    "    print(\"No duplicated entries found\")"
   ]
  },
  {
   "cell_type": "markdown",
   "execution_count": null,
   "metadata": {
    "id": "WPHawMRxxg0f"
   },
   "source": [
    "## Working on numerical data"
   ]
  },
  {
   "cell_type": "code",
   "execution_count": 9,
   "metadata": {
    "id": "usQ0Ih8tXrcc",
    "outputId": "8a69045c-fb22-4506-b48b-11ac4e049b24"
   },
   "outputs": [
    {
     "data": {
      "text/html": [
       "<div>\n",
       "<style scoped>\n",
       "    .dataframe tbody tr th:only-of-type {\n",
       "        vertical-align: middle;\n",
       "    }\n",
       "\n",
       "    .dataframe tbody tr th {\n",
       "        vertical-align: top;\n",
       "    }\n",
       "\n",
       "    .dataframe thead th {\n",
       "        text-align: right;\n",
       "    }\n",
       "</style>\n",
       "<table border=\"1\" class=\"dataframe\">\n",
       "  <thead>\n",
       "    <tr style=\"text-align: right;\">\n",
       "      <th></th>\n",
       "      <th>Trip_Distance</th>\n",
       "      <th>Customer_Since_Months</th>\n",
       "      <th>Life_Style_Index</th>\n",
       "      <th>Customer_Rating</th>\n",
       "      <th>Cancellation_Last_1Month</th>\n",
       "      <th>Var1</th>\n",
       "      <th>Var2</th>\n",
       "      <th>Var3</th>\n",
       "    </tr>\n",
       "  </thead>\n",
       "  <tbody>\n",
       "    <tr>\n",
       "      <th>count</th>\n",
       "      <td>219057.000000</td>\n",
       "      <td>209171.000000</td>\n",
       "      <td>185537.000000</td>\n",
       "      <td>219057.000000</td>\n",
       "      <td>219057.000000</td>\n",
       "      <td>101238.000000</td>\n",
       "      <td>219057.000000</td>\n",
       "      <td>219057.000000</td>\n",
       "    </tr>\n",
       "    <tr>\n",
       "      <th>mean</th>\n",
       "      <td>44.158725</td>\n",
       "      <td>6.006048</td>\n",
       "      <td>2.802594</td>\n",
       "      <td>2.848632</td>\n",
       "      <td>0.782915</td>\n",
       "      <td>64.095972</td>\n",
       "      <td>51.186586</td>\n",
       "      <td>75.065777</td>\n",
       "    </tr>\n",
       "    <tr>\n",
       "      <th>std</th>\n",
       "      <td>25.507368</td>\n",
       "      <td>3.626891</td>\n",
       "      <td>0.226323</td>\n",
       "      <td>0.981100</td>\n",
       "      <td>1.036244</td>\n",
       "      <td>21.747037</td>\n",
       "      <td>4.974497</td>\n",
       "      <td>11.580112</td>\n",
       "    </tr>\n",
       "    <tr>\n",
       "      <th>min</th>\n",
       "      <td>0.310000</td>\n",
       "      <td>0.000000</td>\n",
       "      <td>1.317850</td>\n",
       "      <td>0.001250</td>\n",
       "      <td>0.000000</td>\n",
       "      <td>30.000000</td>\n",
       "      <td>40.000000</td>\n",
       "      <td>52.000000</td>\n",
       "    </tr>\n",
       "    <tr>\n",
       "      <th>25%</th>\n",
       "      <td>24.560000</td>\n",
       "      <td>3.000000</td>\n",
       "      <td>2.654620</td>\n",
       "      <td>2.152500</td>\n",
       "      <td>0.000000</td>\n",
       "      <td>46.000000</td>\n",
       "      <td>48.000000</td>\n",
       "      <td>67.000000</td>\n",
       "    </tr>\n",
       "    <tr>\n",
       "      <th>50%</th>\n",
       "      <td>38.140000</td>\n",
       "      <td>6.000000</td>\n",
       "      <td>2.798280</td>\n",
       "      <td>2.895000</td>\n",
       "      <td>0.000000</td>\n",
       "      <td>61.000000</td>\n",
       "      <td>50.000000</td>\n",
       "      <td>74.000000</td>\n",
       "    </tr>\n",
       "    <tr>\n",
       "      <th>75%</th>\n",
       "      <td>60.720000</td>\n",
       "      <td>10.000000</td>\n",
       "      <td>2.947650</td>\n",
       "      <td>3.581250</td>\n",
       "      <td>1.000000</td>\n",
       "      <td>79.000000</td>\n",
       "      <td>54.000000</td>\n",
       "      <td>82.000000</td>\n",
       "    </tr>\n",
       "    <tr>\n",
       "      <th>max</th>\n",
       "      <td>109.230000</td>\n",
       "      <td>10.000000</td>\n",
       "      <td>4.875110</td>\n",
       "      <td>5.000000</td>\n",
       "      <td>8.000000</td>\n",
       "      <td>210.000000</td>\n",
       "      <td>124.000000</td>\n",
       "      <td>206.000000</td>\n",
       "    </tr>\n",
       "  </tbody>\n",
       "</table>\n",
       "</div>"
      ],
      "text/plain": [
       "       Trip_Distance  Customer_Since_Months  Life_Style_Index  \\\n",
       "count  219057.000000          209171.000000     185537.000000   \n",
       "mean       44.158725               6.006048          2.802594   \n",
       "std        25.507368               3.626891          0.226323   \n",
       "min         0.310000               0.000000          1.317850   \n",
       "25%        24.560000               3.000000          2.654620   \n",
       "50%        38.140000               6.000000          2.798280   \n",
       "75%        60.720000              10.000000          2.947650   \n",
       "max       109.230000              10.000000          4.875110   \n",
       "\n",
       "       Customer_Rating  Cancellation_Last_1Month           Var1  \\\n",
       "count    219057.000000             219057.000000  101238.000000   \n",
       "mean          2.848632                  0.782915      64.095972   \n",
       "std           0.981100                  1.036244      21.747037   \n",
       "min           0.001250                  0.000000      30.000000   \n",
       "25%           2.152500                  0.000000      46.000000   \n",
       "50%           2.895000                  0.000000      61.000000   \n",
       "75%           3.581250                  1.000000      79.000000   \n",
       "max           5.000000                  8.000000     210.000000   \n",
       "\n",
       "                Var2           Var3  \n",
       "count  219057.000000  219057.000000  \n",
       "mean       51.186586      75.065777  \n",
       "std         4.974497      11.580112  \n",
       "min        40.000000      52.000000  \n",
       "25%        48.000000      67.000000  \n",
       "50%        50.000000      74.000000  \n",
       "75%        54.000000      82.000000  \n",
       "max       124.000000     206.000000  "
      ]
     },
     "execution_count": 9,
     "metadata": {},
     "output_type": "execute_result"
    }
   ],
   "source": [
    "comb.describe()"
   ]
  },
  {
   "cell_type": "code",
   "execution_count": 10,
   "metadata": {
    "id": "YkuplPoRenjq",
    "outputId": "a186bd79-f83c-44a2-8214-f5cec0b2b5ce"
   },
   "outputs": [
    {
     "data": {
      "text/plain": [
       "array([[<matplotlib.axes._subplots.AxesSubplot object at 0x7f76b07319d0>,\n",
       "        <matplotlib.axes._subplots.AxesSubplot object at 0x7f76badcc310>,\n",
       "        <matplotlib.axes._subplots.AxesSubplot object at 0x7f76bad80910>],\n",
       "       [<matplotlib.axes._subplots.AxesSubplot object at 0x7f76bad38f90>,\n",
       "        <matplotlib.axes._subplots.AxesSubplot object at 0x7f76bacfa650>,\n",
       "        <matplotlib.axes._subplots.AxesSubplot object at 0x7f76bad2fcd0>],\n",
       "       [<matplotlib.axes._subplots.AxesSubplot object at 0x7f76bac73410>,\n",
       "        <matplotlib.axes._subplots.AxesSubplot object at 0x7f76baca89d0>,\n",
       "        <matplotlib.axes._subplots.AxesSubplot object at 0x7f76baca8a10>]],\n",
       "      dtype=object)"
      ]
     },
     "execution_count": 10,
     "metadata": {},
     "output_type": "execute_result"
    },
    {
     "data": {
      "image/png": "[encoded data removed]",
      "text/plain": [
       "<Figure size 720x720 with 9 Axes>"
      ]
     },
     "metadata": {
      "needs_background": "light"
     },
     "output_type": "display_data"
    }
   ],
   "source": [
    "comb.hist(figsize=(10,10))"
   ]
  },
  {
   "cell_type": "markdown",
   "execution_count": null,
   "metadata": {
    "id": "BN4XVqlau8aA"
   },
   "source": [
    "**We can see there is a big variance in the values of some of the features(difference in min and max values),lets apply log transformation on them**"
   ]
  },
  {
   "cell_type": "code",
   "execution_count": 11,
   "metadata": {
    "id": "zD-wMxGl1z4J"
   },
   "outputs": [],
   "source": [
    "col_log =['Trip_Distance','Var1','Var2','Var3']\n",
    "comb[col_log]=np.log(comb[col_log])"
   ]
  },
  {
   "cell_type": "markdown",
   "execution_count": null,
   "metadata": {
    "id": "bcUiDNDNvVba"
   },
   "source": [
    "***Imputing values using MICE(Multivariate Imputation by Chained Equation)***"
   ]
  },
  {
   "cell_type": "code",
   "execution_count": 12,
   "metadata": {
    "id": "d9myDCrgqFwX",
    "outputId": "c10db154-c615-45be-c760-5f711dd3ed2a"
   },
   "outputs": [
    {
     "name": "stdout",
     "output_type": "stream",
     "text": [
      "Collecting impyute\r\n",
      "  Downloading impyute-0.0.8-py2.py3-none-any.whl (31 kB)\r\n",
      "Requirement already satisfied: scikit-learn in /opt/conda/lib/python3.7/site-packages (from impyute) (0.22.2.post1)\r\n",
      "Requirement already satisfied: numpy in /opt/conda/lib/python3.7/site-packages (from impyute) (1.18.1)\r\n",
      "Requirement already satisfied: scipy in /opt/conda/lib/python3.7/site-packages (from impyute) (1.4.1)\r\n",
      "Requirement already satisfied: joblib>=0.11 in /opt/conda/lib/python3.7/site-packages (from scikit-learn->impyute) (0.14.1)\r\n",
      "Installing collected packages: impyute\r\n",
      "Successfully installed impyute-0.0.8\r\n",
      "\u001b[33mWARNING: You are using pip version 20.1; however, version 20.1.1 is available.\r\n",
      "You should consider upgrading via the '/opt/conda/bin/python -m pip install --upgrade pip' command.\u001b[0m\r\n",
      "Note: you may need to restart the kernel to use updated packages.\n"
     ]
    }
   ],
   "source": [
    "pip install impyute\n"
   ]
  },
  {
   "cell_type": "code",
   "execution_count": 13,
   "metadata": {
    "id": "9h2546VFvF2C"
   },
   "outputs": [],
   "source": [
    "col = ['Customer_Since_Months','Life_Style_Index','Var1']"
   ]
  },
  {
   "cell_type": "code",
   "execution_count": 14,
   "metadata": {
    "id": "8JSKHD6Ipc5r"
   },
   "outputs": [],
   "source": [
    "from impyute.imputation.cs import mice\n",
    "\n",
    "X = comb[col]\n",
    "\n",
    "imputed = mice(X.values,verbose=1)\n",
    "\n",
    "#mice_ages = imputed[:, 2]"
   ]
  },
  {
   "cell_type": "code",
   "execution_count": 15,
   "metadata": {
    "id": "1JLDOyOpuXuC",
    "outputId": "07e645e0-c41f-46a6-dfc4-1642f0c62741"
   },
   "outputs": [
    {
     "data": {
      "text/plain": [
       "(219057, 3)"
      ]
     },
     "execution_count": 15,
     "metadata": {},
     "output_type": "execute_result"
    }
   ],
   "source": [
    "imputed.shape"
   ]
  },
  {
   "cell_type": "code",
   "execution_count": 16,
   "metadata": {
    "id": "ofJVuLHFthMO"
   },
   "outputs": [],
   "source": [
    "mice_csm = imputed[:, 0]\n",
    "mice_lsi = imputed[:, 1]\n",
    "mice_var1 = imputed[:, 2]"
   ]
  },
  {
   "cell_type": "code",
   "execution_count": 17,
   "metadata": {
    "id": "CsS2BJOStpV7",
    "outputId": "6b65fd4e-0cea-47a6-c748-e403d980bba6"
   },
   "outputs": [
    {
     "data": {
      "text/plain": [
       "<matplotlib.axes._subplots.AxesSubplot at 0x7f76ba1bea50>"
      ]
     },
     "execution_count": 17,
     "metadata": {},
     "output_type": "execute_result"
    },
    {
     "data": {
      "image/png": "[encoded data removed]",
      "text/plain": [
       "<Figure size 432x288 with 1 Axes>"
      ]
     },
     "metadata": {
      "needs_background": "light"
     },
     "output_type": "display_data"
    }
   ],
   "source": [
    "sns.distplot(mice_csm, hist = False, kde = True,\n",
    "                 kde_kws = {'shade': False, 'linewidth': 3})\n",
    "sns.distplot(comb['Customer_Since_Months'], hist = False, kde = True,\n",
    "                 kde_kws = {'shade': False, 'linewidth': 3})"
   ]
  },
  {
   "cell_type": "code",
   "execution_count": 18,
   "metadata": {
    "id": "It2-z1EGtojY",
    "outputId": "94b778c7-740e-4497-82cc-a203812b48d9"
   },
   "outputs": [
    {
     "data": {
      "text/plain": [
       "<matplotlib.axes._subplots.AxesSubplot at 0x7f76abfd2bd0>"
      ]
     },
     "execution_count": 18,
     "metadata": {},
     "output_type": "execute_result"
    },
    {
     "data": {
      "image/png": "[encoded data removed]",
      "text/plain": [
       "<Figure size 432x288 with 1 Axes>"
      ]
     },
     "metadata": {
      "needs_background": "light"
     },
     "output_type": "display_data"
    }
   ],
   "source": [
    "sns.distplot(mice_lsi, hist = False, kde = True,\n",
    "                 kde_kws = {'shade': False, 'linewidth': 3})\n",
    "sns.distplot(comb['Life_Style_Index'], hist = False, kde = True,\n",
    "                 kde_kws = {'shade': False, 'linewidth': 3})"
   ]
  },
  {
   "cell_type": "code",
   "execution_count": 19,
   "metadata": {
    "id": "xaOUwM4Lu563",
    "outputId": "caee607e-622b-49ee-d3bb-c38c117591f4"
   },
   "outputs": [
    {
     "data": {
      "text/plain": [
       "<matplotlib.axes._subplots.AxesSubplot at 0x7f76bab6a450>"
      ]
     },
     "execution_count": 19,
     "metadata": {},
     "output_type": "execute_result"
    },
    {
     "data": {
      "image/png": "[encoded data removed]",
      "text/plain": [
       "<Figure size 432x288 with 1 Axes>"
      ]
     },
     "metadata": {
      "needs_background": "light"
     },
     "output_type": "display_data"
    }
   ],
   "source": [
    "sns.distplot(mice_var1, hist = False, kde = True,\n",
    "                 kde_kws = {'shade': False, 'linewidth': 3})\n",
    "sns.distplot(comb['Var1'], hist = False, kde = True,\n",
    "                 kde_kws = {'shade': False, 'linewidth': 3})"
   ]
  },
  {
   "cell_type": "markdown",
   "execution_count": null,
   "metadata": {
    "id": "0YzUEt75vzeT"
   },
   "source": [
    "\n",
    "\n",
    "> As you can see in above plots, the variance in distribution of data after imputing is done is not very large.This is the reason this method is preferred over imputing by other test statistics.\n",
    "\n"
   ]
  },
  {
   "cell_type": "code",
   "execution_count": 20,
   "metadata": {
    "id": "b80OhHcGxs9x"
   },
   "outputs": [],
   "source": [
    "comb['Customer_Since_Months'] = mice_csm\n",
    "comb['Life_Style_Index'] = mice_lsi\n",
    "comb['Var1'] = mice_var1"
   ]
  },
  {
   "cell_type": "code",
   "execution_count": 21,
   "metadata": {
    "id": "6BPwUVVcx8bl",
    "outputId": "841b3f5c-9e96-4847-97c3-d14f6288a453"
   },
   "outputs": [
    {
     "data": {
      "text/plain": [
       "Trip_ID                            0\n",
       "Trip_Distance                      0\n",
       "Type_of_Cab                    33368\n",
       "Customer_Since_Months              0\n",
       "Life_Style_Index                   0\n",
       "Confidence_Life_Style_Index    33520\n",
       "Destination_Type                   0\n",
       "Customer_Rating                    0\n",
       "Cancellation_Last_1Month           0\n",
       "Var1                               0\n",
       "Var2                               0\n",
       "Var3                               0\n",
       "Gender                             0\n",
       "Surge_Pricing_Type             87395\n",
       "dtype: int64"
      ]
     },
     "execution_count": 21,
     "metadata": {},
     "output_type": "execute_result"
    }
   ],
   "source": [
    "comb.isnull().sum()"
   ]
  },
  {
   "cell_type": "markdown",
   "execution_count": null,
   "metadata": {
    "id": "lR_liC72yXzh"
   },
   "source": [
    "## Working with categorical features"
   ]
  },
  {
   "cell_type": "markdown",
   "execution_count": null,
   "metadata": {
    "id": "7BtAh-fZyEkO"
   },
   "source": [
    "**We will start by imputing values in features having Null values.For this we will create a separate category 'Unknown' as the number of unknowns is greater than number of observations in some other categories and filling it with some test statistics may cause biasing.**"
   ]
  },
  {
   "cell_type": "code",
   "execution_count": 22,
   "metadata": {
    "id": "91q3NBd92Ppr"
   },
   "outputs": [],
   "source": [
    "comb['Type_of_Cab'] = comb['Type_of_Cab'].cat.add_categories('Unknown')\n",
    "comb['Type_of_Cab'].fillna(\"Unknown\", inplace=True)"
   ]
  },
  {
   "cell_type": "code",
   "execution_count": 23,
   "metadata": {
    "id": "0qzopsSP82lI"
   },
   "outputs": [],
   "source": [
    "comb['Confidence_Life_Style_Index'] = comb['Confidence_Life_Style_Index'].cat.add_categories('Unknown')\n",
    "comb['Confidence_Life_Style_Index'].fillna(\"Unknown\", inplace=True)"
   ]
  },
  {
   "cell_type": "code",
   "execution_count": 24,
   "metadata": {
    "id": "H_3gQhfryWsL",
    "outputId": "6c6476d9-284d-49ac-fce2-f3b342c0fea8"
   },
   "outputs": [
    {
     "name": "stdout",
     "output_type": "stream",
     "text": [
      "=================\n",
      "B          51585\n",
      "C          46732\n",
      "A          35878\n",
      "Unknown    33368\n",
      "D          31885\n",
      "E          19609\n",
      "Name: Type_of_Cab, dtype: int64\n",
      "=================\n",
      "B          67265\n",
      "C          59736\n",
      "A          58536\n",
      "Unknown    33520\n",
      "Name: Confidence_Life_Style_Index, dtype: int64\n",
      "=================\n",
      "A    129010\n",
      "B     49193\n",
      "C     12397\n",
      "D     11085\n",
      "E      4549\n",
      "F      3222\n",
      "G      2513\n",
      "H      2124\n",
      "I      1334\n",
      "J      1166\n",
      "K      1102\n",
      "L      1052\n",
      "M       160\n",
      "N       150\n",
      "Name: Destination_Type, dtype: int64\n",
      "=================\n",
      "Male      156128\n",
      "Female     62929\n",
      "Name: Gender, dtype: int64\n",
      "=================\n",
      "2.0    56728\n",
      "3.0    47720\n",
      "1.0    27214\n",
      "Name: Surge_Pricing_Type, dtype: int64\n"
     ]
    }
   ],
   "source": [
    "cat_col = ['Type_of_Cab','Confidence_Life_Style_Index','Destination_Type','Gender','Surge_Pricing_Type']\n",
    "for i in cat_col:\n",
    "  print(\"=================\")\n",
    "  print(comb[i].value_counts())"
   ]
  },
  {
   "cell_type": "markdown",
   "execution_count": null,
   "metadata": {
    "id": "Ilkexe_syjOB"
   },
   "source": [
    "**We can see there are a lot of categories in destination type.This will lead to many extra columns after one-hot encoding which may impact our model accuracy**\n",
    "\n",
    "*We will try to minimize the categories by making bins ['High_vol','Med_Vol','Low_Vol'] based on the volumes*"
   ]
  },
  {
   "cell_type": "code",
   "execution_count": 25,
   "metadata": {
    "id": "RhQBUW709J9a",
    "outputId": "5a7c4609-2ae9-41cb-a84f-88798c6f9c91"
   },
   "outputs": [
    {
     "data": {
      "text/plain": [
       "0         1\n",
       "1         1\n",
       "2         5\n",
       "3         1\n",
       "4         1\n",
       "         ..\n",
       "87390     1\n",
       "87391     4\n",
       "87392     1\n",
       "87393    10\n",
       "87394     1\n",
       "Name: Destination_Type, Length: 219057, dtype: int64"
      ]
     },
     "execution_count": 25,
     "metadata": {},
     "output_type": "execute_result"
    }
   ],
   "source": [
    "comb['Destination_Type'].replace({\"A\":1,\"B\":2,\"C\":3,\"D\":4,\"E\":5,\"F\":6,\"G\":7,\"H\":8,\"I\":9,\"J\":10,\"K\":11,\"L\":12,\"M\":13,\"N\":14},inplace = True)\n",
    "comb['Destination_Type']"
   ]
  },
  {
   "cell_type": "code",
   "execution_count": 26,
   "metadata": {
    "id": "93jL6s7t_S_Y"
   },
   "outputs": [],
   "source": [
    "bins= [1,4,12,14]\n",
    "labels = ['High_vol','Med_vol','Low_vol']\n",
    "comb['Destination_Type'] = pd.cut(comb['Destination_Type'], bins=bins, labels=labels, right=False)\n"
   ]
  },
  {
   "cell_type": "code",
   "execution_count": 27,
   "metadata": {
    "id": "XlDUI0rQEWcC",
    "outputId": "afcb23d1-3713-4194-e621-56736a674de5"
   },
   "outputs": [
    {
     "data": {
      "text/plain": [
       "High_vol    190600\n",
       "Med_vol      27095\n",
       "Low_vol       1212\n",
       "Name: Destination_Type, dtype: int64"
      ]
     },
     "execution_count": 27,
     "metadata": {},
     "output_type": "execute_result"
    }
   ],
   "source": [
    "comb['Destination_Type'].value_counts()"
   ]
  },
  {
   "cell_type": "code",
   "execution_count": 28,
   "metadata": {
    "id": "nUxn59gcJBsr",
    "outputId": "94ac6d7d-8ad0-46b1-a396-f17f93e76bec"
   },
   "outputs": [
    {
     "name": "stdout",
     "output_type": "stream",
     "text": [
      "<class 'pandas.core.frame.DataFrame'>\n",
      "Int64Index: 219057 entries, 0 to 87394\n",
      "Data columns (total 14 columns):\n",
      " #   Column                       Non-Null Count   Dtype   \n",
      "---  ------                       --------------   -----   \n",
      " 0   Trip_ID                      219057 non-null  object  \n",
      " 1   Trip_Distance                219057 non-null  float64 \n",
      " 2   Type_of_Cab                  219057 non-null  category\n",
      " 3   Customer_Since_Months        219057 non-null  float64 \n",
      " 4   Life_Style_Index             219057 non-null  float64 \n",
      " 5   Confidence_Life_Style_Index  219057 non-null  category\n",
      " 6   Destination_Type             218907 non-null  category\n",
      " 7   Customer_Rating              219057 non-null  float64 \n",
      " 8   Cancellation_Last_1Month     219057 non-null  int64   \n",
      " 9   Var1                         219057 non-null  float64 \n",
      " 10  Var2                         219057 non-null  float64 \n",
      " 11  Var3                         219057 non-null  float64 \n",
      " 12  Gender                       219057 non-null  category\n",
      " 13  Surge_Pricing_Type           131662 non-null  category\n",
      "dtypes: category(5), float64(7), int64(1), object(1)\n",
      "memory usage: 17.8+ MB\n"
     ]
    }
   ],
   "source": [
    "comb.info()"
   ]
  },
  {
   "cell_type": "markdown",
   "execution_count": null,
   "metadata": {
    "id": "baNxRYL51Uq3"
   },
   "source": [
    "**Time for One-Hot Encoding**"
   ]
  },
  {
   "cell_type": "code",
   "execution_count": 29,
   "metadata": {
    "id": "MCTXxW4zEdbb"
   },
   "outputs": [],
   "source": [
    "dummies_toc = pd.get_dummies(comb['Type_of_Cab'],prefix='toc',prefix_sep='_')\n",
    "dummies_clsi = pd.get_dummies(comb['Confidence_Life_Style_Index'],prefix = 'clsi',prefix_sep='_')"
   ]
  },
  {
   "cell_type": "code",
   "execution_count": 30,
   "metadata": {
    "id": "SqV_aRySJNNA"
   },
   "outputs": [],
   "source": [
    "dummies_dt = pd.get_dummies(comb['Destination_Type'])\n",
    "dummies_gender = pd.get_dummies(comb['Gender'])"
   ]
  },
  {
   "cell_type": "code",
   "execution_count": 31,
   "metadata": {
    "id": "ywY9-PHVJrGl",
    "outputId": "7ab9c7b4-12db-44be-b578-65ac28573860"
   },
   "outputs": [
    {
     "data": {
      "text/plain": [
       "(219057, 25)"
      ]
     },
     "execution_count": 31,
     "metadata": {},
     "output_type": "execute_result"
    }
   ],
   "source": [
    "merged = pd.concat([comb,dummies_toc,dummies_clsi,dummies_dt,dummies_gender],axis = 'columns')\n",
    "comb = merged.drop(['Type_of_Cab','Confidence_Life_Style_Index','Destination_Type','Gender'],axis = 'columns')\n",
    "\n",
    "comb.shape"
   ]
  },
  {
   "cell_type": "markdown",
   "execution_count": null,
   "metadata": {
    "id": "EoPK3BgZ1bYw"
   },
   "source": [
    "**This is how our final data looks. Data looks pretty normalized so we will not be performing nirmalization separately**"
   ]
  },
  {
   "cell_type": "code",
   "execution_count": 32,
   "metadata": {
    "id": "IMywMyvKKggo",
    "outputId": "09b850d7-464b-44cb-ace4-7af1988d9ef5"
   },
   "outputs": [
    {
     "data": {
      "text/html": [
       "<div>\n",
       "<style scoped>\n",
       "    .dataframe tbody tr th:only-of-type {\n",
       "        vertical-align: middle;\n",
       "    }\n",
       "\n",
       "    .dataframe tbody tr th {\n",
       "        vertical-align: top;\n",
       "    }\n",
       "\n",
       "    .dataframe thead th {\n",
       "        text-align: right;\n",
       "    }\n",
       "</style>\n",
       "<table border=\"1\" class=\"dataframe\">\n",
       "  <thead>\n",
       "    <tr style=\"text-align: right;\">\n",
       "      <th></th>\n",
       "      <th>Trip_ID</th>\n",
       "      <th>Trip_Distance</th>\n",
       "      <th>Customer_Since_Months</th>\n",
       "      <th>Life_Style_Index</th>\n",
       "      <th>Customer_Rating</th>\n",
       "      <th>Cancellation_Last_1Month</th>\n",
       "      <th>Var1</th>\n",
       "      <th>Var2</th>\n",
       "      <th>Var3</th>\n",
       "      <th>Surge_Pricing_Type</th>\n",
       "      <th>...</th>\n",
       "      <th>toc_Unknown</th>\n",
       "      <th>clsi_A</th>\n",
       "      <th>clsi_B</th>\n",
       "      <th>clsi_C</th>\n",
       "      <th>clsi_Unknown</th>\n",
       "      <th>High_vol</th>\n",
       "      <th>Med_vol</th>\n",
       "      <th>Low_vol</th>\n",
       "      <th>Female</th>\n",
       "      <th>Male</th>\n",
       "    </tr>\n",
       "  </thead>\n",
       "  <tbody>\n",
       "    <tr>\n",
       "      <th>0</th>\n",
       "      <td>T0005689460</td>\n",
       "      <td>1.912501</td>\n",
       "      <td>1.0</td>\n",
       "      <td>2.427690</td>\n",
       "      <td>3.90500</td>\n",
       "      <td>0</td>\n",
       "      <td>3.688879</td>\n",
       "      <td>3.828641</td>\n",
       "      <td>4.094345</td>\n",
       "      <td>2.0</td>\n",
       "      <td>...</td>\n",
       "      <td>0</td>\n",
       "      <td>1</td>\n",
       "      <td>0</td>\n",
       "      <td>0</td>\n",
       "      <td>0</td>\n",
       "      <td>1</td>\n",
       "      <td>0</td>\n",
       "      <td>0</td>\n",
       "      <td>1</td>\n",
       "      <td>0</td>\n",
       "    </tr>\n",
       "    <tr>\n",
       "      <th>1</th>\n",
       "      <td>T0005689461</td>\n",
       "      <td>3.383373</td>\n",
       "      <td>10.0</td>\n",
       "      <td>2.782450</td>\n",
       "      <td>3.45000</td>\n",
       "      <td>0</td>\n",
       "      <td>3.637586</td>\n",
       "      <td>4.025352</td>\n",
       "      <td>4.356709</td>\n",
       "      <td>2.0</td>\n",
       "      <td>...</td>\n",
       "      <td>0</td>\n",
       "      <td>0</td>\n",
       "      <td>1</td>\n",
       "      <td>0</td>\n",
       "      <td>0</td>\n",
       "      <td>1</td>\n",
       "      <td>0</td>\n",
       "      <td>0</td>\n",
       "      <td>0</td>\n",
       "      <td>1</td>\n",
       "    </tr>\n",
       "    <tr>\n",
       "      <th>2</th>\n",
       "      <td>T0005689464</td>\n",
       "      <td>3.727619</td>\n",
       "      <td>10.0</td>\n",
       "      <td>2.838182</td>\n",
       "      <td>3.50125</td>\n",
       "      <td>2</td>\n",
       "      <td>4.104003</td>\n",
       "      <td>4.025352</td>\n",
       "      <td>4.343805</td>\n",
       "      <td>2.0</td>\n",
       "      <td>...</td>\n",
       "      <td>1</td>\n",
       "      <td>0</td>\n",
       "      <td>0</td>\n",
       "      <td>0</td>\n",
       "      <td>1</td>\n",
       "      <td>0</td>\n",
       "      <td>1</td>\n",
       "      <td>0</td>\n",
       "      <td>0</td>\n",
       "      <td>1</td>\n",
       "    </tr>\n",
       "    <tr>\n",
       "      <th>3</th>\n",
       "      <td>T0005689465</td>\n",
       "      <td>4.120012</td>\n",
       "      <td>10.0</td>\n",
       "      <td>2.838182</td>\n",
       "      <td>3.45375</td>\n",
       "      <td>0</td>\n",
       "      <td>4.104003</td>\n",
       "      <td>3.951244</td>\n",
       "      <td>4.304065</td>\n",
       "      <td>3.0</td>\n",
       "      <td>...</td>\n",
       "      <td>0</td>\n",
       "      <td>0</td>\n",
       "      <td>0</td>\n",
       "      <td>0</td>\n",
       "      <td>1</td>\n",
       "      <td>1</td>\n",
       "      <td>0</td>\n",
       "      <td>0</td>\n",
       "      <td>0</td>\n",
       "      <td>1</td>\n",
       "    </tr>\n",
       "    <tr>\n",
       "      <th>4</th>\n",
       "      <td>T0005689467</td>\n",
       "      <td>4.006424</td>\n",
       "      <td>10.0</td>\n",
       "      <td>3.034530</td>\n",
       "      <td>3.40250</td>\n",
       "      <td>4</td>\n",
       "      <td>3.931826</td>\n",
       "      <td>3.891820</td>\n",
       "      <td>4.624973</td>\n",
       "      <td>2.0</td>\n",
       "      <td>...</td>\n",
       "      <td>0</td>\n",
       "      <td>0</td>\n",
       "      <td>1</td>\n",
       "      <td>0</td>\n",
       "      <td>0</td>\n",
       "      <td>1</td>\n",
       "      <td>0</td>\n",
       "      <td>0</td>\n",
       "      <td>0</td>\n",
       "      <td>1</td>\n",
       "    </tr>\n",
       "  </tbody>\n",
       "</table>\n",
       "<p>5 rows × 25 columns</p>\n",
       "</div>"
      ],
      "text/plain": [
       "       Trip_ID  Trip_Distance  Customer_Since_Months  Life_Style_Index  \\\n",
       "0  T0005689460       1.912501                    1.0          2.427690   \n",
       "1  T0005689461       3.383373                   10.0          2.782450   \n",
       "2  T0005689464       3.727619                   10.0          2.838182   \n",
       "3  T0005689465       4.120012                   10.0          2.838182   \n",
       "4  T0005689467       4.006424                   10.0          3.034530   \n",
       "\n",
       "   Customer_Rating  Cancellation_Last_1Month      Var1      Var2      Var3  \\\n",
       "0          3.90500                         0  3.688879  3.828641  4.094345   \n",
       "1          3.45000                         0  3.637586  4.025352  4.356709   \n",
       "2          3.50125                         2  4.104003  4.025352  4.343805   \n",
       "3          3.45375                         0  4.104003  3.951244  4.304065   \n",
       "4          3.40250                         4  3.931826  3.891820  4.624973   \n",
       "\n",
       "  Surge_Pricing_Type  ...  toc_Unknown  clsi_A  clsi_B  clsi_C  clsi_Unknown  \\\n",
       "0                2.0  ...            0       1       0       0             0   \n",
       "1                2.0  ...            0       0       1       0             0   \n",
       "2                2.0  ...            1       0       0       0             1   \n",
       "3                3.0  ...            0       0       0       0             1   \n",
       "4                2.0  ...            0       0       1       0             0   \n",
       "\n",
       "   High_vol  Med_vol  Low_vol  Female  Male  \n",
       "0         1        0        0       1     0  \n",
       "1         1        0        0       0     1  \n",
       "2         0        1        0       0     1  \n",
       "3         1        0        0       0     1  \n",
       "4         1        0        0       0     1  \n",
       "\n",
       "[5 rows x 25 columns]"
      ]
     },
     "execution_count": 32,
     "metadata": {},
     "output_type": "execute_result"
    }
   ],
   "source": [
    "comb.head()"
   ]
  },
  {
   "cell_type": "code",
   "execution_count": 33,
   "metadata": {
    "id": "2-K82133LJSw",
    "outputId": "d7406c00-ed85-4266-d071-9d9f8acfe8d9"
   },
   "outputs": [
    {
     "data": {
      "text/plain": [
       "((131662, 23), (131662,), (87395, 23))"
      ]
     },
     "execution_count": 33,
     "metadata": {},
     "output_type": "execute_result"
    }
   ],
   "source": [
    "train_features = comb[comb['Surge_Pricing_Type'].isnull()!=True].drop(['Trip_ID','Surge_Pricing_Type'], axis=1)\n",
    "train_label = comb[comb['Surge_Pricing_Type'].isnull()!=True]['Surge_Pricing_Type']\n",
    "\n",
    "test_features = comb[comb['Surge_Pricing_Type'].isnull()==True].drop(['Trip_ID','Surge_Pricing_Type'], axis=1)\n",
    "\n",
    "train_features.shape,train_label.shape,test_features.shape\n"
   ]
  },
  {
   "cell_type": "markdown",
   "execution_count": null,
   "metadata": {
    "id": "5nx912WfMNCY"
   },
   "source": [
    "# Model Training"
   ]
  },
  {
   "cell_type": "code",
   "execution_count": 34,
   "metadata": {
    "id": "gicVmwa3MSsv"
   },
   "outputs": [],
   "source": [
    "from sklearn.model_selection import train_test_split\n",
    "x_train, x_val, y_train, y_val = train_test_split(train_features, train_label, test_size=0.25,random_state=42,stratify = train_label)"
   ]
  },
  {
   "cell_type": "code",
   "execution_count": 35,
   "metadata": {
    "id": "wZpCevWYA1gQ"
   },
   "outputs": [],
   "source": [
    "train = x_train.append(x_val)\n",
    "val = y_train.append(y_val)"
   ]
  },
  {
   "cell_type": "markdown",
   "execution_count": null,
   "metadata": {
    "id": "dILH5XxZ2Ank"
   },
   "source": [
    "\n",
    "\n",
    "> The approach for this problem will be to choose some models which will provide stable and good accuracies and finally apply hard voting on these to get the results\n",
    "\n",
    "**Following models have been chosen for this purpose:**\n",
    "\n",
    "*   XGBoost\n",
    "*   Light Gradient Boost\n",
    "*   Multi Layer Perceptron\n",
    "\n",
    "\n",
    "\n",
    "\n",
    "\n",
    "\n",
    "\n",
    "\n",
    "\n"
   ]
  },
  {
   "cell_type": "code",
   "execution_count": 36,
   "metadata": {
    "id": "IGNTuKj9Mxka",
    "outputId": "3911d61b-584e-4c08-88e0-624bdb36bdfe"
   },
   "outputs": [
    {
     "data": {
      "text/plain": [
       "XGBClassifier(base_score=0.6, booster=None, colsample_bylevel=1,\n",
       "              colsample_bynode=1, colsample_bytree=1, gamma=0, gpu_id=-1,\n",
       "              importance_type='gain', interaction_constraints=None,\n",
       "              learning_rate=0.05, max_delta_step=0, max_depth=8,\n",
       "              min_child_weight=1, missing=nan, monotone_constraints=None,\n",
       "              n_estimators=300, n_jobs=-1, num_parallel_tree=1,\n",
       "              objective='multi:softprob', random_state=0, reg_alpha=0,\n",
       "              reg_lambda=1, scale_pos_weight=None, subsample=1,\n",
       "              tree_method=None, validate_parameters=False, verbosity=None)"
      ]
     },
     "execution_count": 36,
     "metadata": {},
     "output_type": "execute_result"
    }
   ],
   "source": [
    "#xgboost\n",
    "from xgboost import XGBClassifier\n",
    "xgb = XGBClassifier(base_score=0.6,learning_rate=0.05,objective='multi:softmax',n_estimators=300,max_depth=8,n_jobs=-1)\n",
    "xgb.fit(x_train,y_train)"
   ]
  },
  {
   "cell_type": "code",
   "execution_count": 37,
   "metadata": {
    "id": "bAwEr2mHTuMo",
    "outputId": "a87530bb-fb65-4eb8-e863-eed24cd4bfb4"
   },
   "outputs": [
    {
     "name": "stdout",
     "output_type": "stream",
     "text": [
      "0.6976242556811277\n"
     ]
    }
   ],
   "source": [
    "print(xgb.score(x_val,y_val))"
   ]
  },
  {
   "cell_type": "code",
   "execution_count": 38,
   "metadata": {
    "id": "6RwKA_N8PE9x",
    "outputId": "7115c7ab-cc5a-4862-d213-4cdc37bf21eb"
   },
   "outputs": [
    {
     "data": {
      "text/plain": [
       "LGBMClassifier(boosting_type='gbdt', class_weight=None, colsample_bytree=1.0,\n",
       "               importance_type='split', learning_rate=0.08, max_depth=8,\n",
       "               min_child_samples=20, min_child_weight=0.1, min_split_gain=0.0,\n",
       "               n_estimators=425, n_jobs=-1, num_leaves=31,\n",
       "               objective='multiclass', random_state=None, reg_alpha=0.0,\n",
       "               reg_lambda=3, silent=True, subsample=1.0,\n",
       "               subsample_for_bin=200000, subsample_freq=0)"
      ]
     },
     "execution_count": 38,
     "metadata": {},
     "output_type": "execute_result"
    }
   ],
   "source": [
    "# light gradient boost\n",
    "from lightgbm import LGBMClassifier\n",
    "\n",
    "lgbc=LGBMClassifier(n_estimators=425, learning_rate=0.08,objective= 'multiclass', reg_lambda=3,max_depth=8,min_child_weight=0.1)\n",
    "lgbc.fit(x_train,y_train)"
   ]
  },
  {
   "cell_type": "code",
   "execution_count": 39,
   "metadata": {
    "id": "Hdeo0DTXPOIn",
    "outputId": "0fef8c5b-4458-4eff-c620-80e563f4958c"
   },
   "outputs": [
    {
     "data": {
      "text/plain": [
       "0.6997812613926357"
      ]
     },
     "execution_count": 39,
     "metadata": {},
     "output_type": "execute_result"
    }
   ],
   "source": [
    "lgbc.score(x_val,y_val)"
   ]
  },
  {
   "cell_type": "code",
   "execution_count": 40,
   "metadata": {
    "id": "ezhH1vzMU1XH",
    "outputId": "dc17dbc0-6f10-4b46-dfac-cbc5b4505291"
   },
   "outputs": [
    {
     "ename": "NameError",
     "evalue": "name 'MLPClassifier' is not defined",
     "output_type": "error",
     "traceback": [
      "\u001b[0;31m---------------------------------------------------------------------------\u001b[0m",
      "\u001b[0;31mNameError\u001b[0m                                 Traceback (most recent call last)",
      "\u001b[0;32m<ipython-input-40-01213db85a26>\u001b[0m in \u001b[0;36m<module>\u001b[0;34m\u001b[0m\n\u001b[1;32m      3\u001b[0m \u001b[0;34m\u001b[0m\u001b[0m\n\u001b[1;32m      4\u001b[0m \u001b[0;34m\u001b[0m\u001b[0m\n\u001b[0;32m----> 5\u001b[0;31m \u001b[0mmlp\u001b[0m \u001b[0;34m=\u001b[0m \u001b[0mMLPClassifier\u001b[0m\u001b[0;34m(\u001b[0m\u001b[0mmax_iter\u001b[0m\u001b[0;34m=\u001b[0m\u001b[0;36m100\u001b[0m\u001b[0;34m)\u001b[0m\u001b[0;34m\u001b[0m\u001b[0;34m\u001b[0m\u001b[0m\n\u001b[0m\u001b[1;32m      6\u001b[0m parameter_space = {\n\u001b[1;32m      7\u001b[0m     \u001b[0;34m'activation'\u001b[0m\u001b[0;34m:\u001b[0m \u001b[0;34m[\u001b[0m\u001b[0;34m'tanh'\u001b[0m\u001b[0;34m,\u001b[0m \u001b[0;34m'relu'\u001b[0m\u001b[0;34m]\u001b[0m\u001b[0;34m,\u001b[0m\u001b[0;34m\u001b[0m\u001b[0;34m\u001b[0m\u001b[0m\n",
      "\u001b[0;31mNameError\u001b[0m: name 'MLPClassifier' is not defined"
     ]
    }
   ],
   "source": [
    "#best parameter selection for Perceptron\n",
    "from sklearn.model_selection import GridSearchCV\n",
    "\n",
    "\n",
    "mlp = MLPClassifier(max_iter=100)\n",
    "parameter_space = {\n",
    "    'activation': ['tanh', 'relu'],\n",
    "    'solver': ['sgd', 'adam'],\n",
    "    'alpha': [0.001, 0.01,0.1],\n",
    "    'learning_rate': ['constant','adaptive'],\n",
    "}\n",
    "clf = GridSearchCV(mlp, parameter_space, n_jobs=-1, cv=3)\n",
    "clf.fit(x_train, y_train)\n",
    "\n",
    "print('Best parameters found:\\n', clf.best_params_)\n"
   ]
  },
  {
   "cell_type": "code",
   "execution_count": 41,
   "metadata": {
    "id": "WQZlbox1OgH3",
    "outputId": "b579135b-9df6-4137-d705-84078f02b765"
   },
   "outputs": [
    {
     "data": {
      "text/plain": [
       "MLPClassifier(activation='relu', alpha=0.0001, batch_size='auto', beta_1=0.9,\n",
       "              beta_2=0.999, early_stopping=False, epsilon=1e-08,\n",
       "              hidden_layer_sizes=(100,), learning_rate='adaptive',\n",
       "              learning_rate_init=0.001, max_fun=15000, max_iter=200,\n",
       "              momentum=0.9, n_iter_no_change=10, nesterovs_momentum=True,\n",
       "              power_t=0.5, random_state=42, shuffle=True, solver='adam',\n",
       "              tol=0.0001, validation_fraction=0.1, verbose=False,\n",
       "              warm_start=False)"
      ]
     },
     "execution_count": 41,
     "metadata": {},
     "output_type": "execute_result"
    }
   ],
   "source": [
    "from sklearn.neural_network import MLPClassifier\n",
    "p = MLPClassifier(random_state=42,\n",
    "              max_iter=200,activation='relu',solver ='adam',learning_rate='adaptive')\n",
    "p.fit(x_train,y_train)"
   ]
  },
  {
   "cell_type": "code",
   "execution_count": 42,
   "metadata": {
    "id": "94I84GEvO-9i",
    "outputId": "6866632c-e221-4cac-d3b6-5b9d211ada12"
   },
   "outputs": [
    {
     "data": {
      "text/plain": [
       "0.6947381212784056"
      ]
     },
     "execution_count": 42,
     "metadata": {},
     "output_type": "execute_result"
    }
   ],
   "source": [
    "p.score(x_val,y_val)"
   ]
  },
  {
   "cell_type": "markdown",
   "execution_count": null,
   "metadata": {
    "id": "0NBO8uPd3rcg"
   },
   "source": [
    "*Fitting our models to entire dataset*"
   ]
  },
  {
   "cell_type": "code",
   "execution_count": 43,
   "metadata": {
    "id": "8-MqEnYozlwn",
    "outputId": "d5473890-f41f-4f99-c5ba-c443b16cd23b"
   },
   "outputs": [
    {
     "data": {
      "text/plain": [
       "MLPClassifier(activation='relu', alpha=0.0001, batch_size='auto', beta_1=0.9,\n",
       "              beta_2=0.999, early_stopping=False, epsilon=1e-08,\n",
       "              hidden_layer_sizes=(100,), learning_rate='adaptive',\n",
       "              learning_rate_init=0.001, max_fun=15000, max_iter=200,\n",
       "              momentum=0.9, n_iter_no_change=10, nesterovs_momentum=True,\n",
       "              power_t=0.5, random_state=42, shuffle=True, solver='adam',\n",
       "              tol=0.0001, validation_fraction=0.1, verbose=False,\n",
       "              warm_start=False)"
      ]
     },
     "execution_count": 43,
     "metadata": {},
     "output_type": "execute_result"
    }
   ],
   "source": [
    "xgb.fit(train,val)\n",
    "lgbc.fit(train,val)\n",
    "p.fit(train,val)"
   ]
  },
  {
   "cell_type": "markdown",
   "execution_count": null,
   "metadata": {
    "id": "1Y4GZ_rXIVLW"
   },
   "source": [
    "**Hard-Voting Ensemble**"
   ]
  },
  {
   "cell_type": "markdown",
   "execution_count": null,
   "metadata": {
    "id": "BzsI1jB6ezxY"
   },
   "source": [
    "***In hard voting (also known as majority voting), every individual classifier votes for a class, and the majority wins. In statistical terms, the predicted target label of the ensemble is the mode of the distribution of individually predicted labels.***"
   ]
  },
  {
   "cell_type": "code",
   "execution_count": 44,
   "metadata": {
    "id": "44pDBu2eIZ4L",
    "outputId": "f26695c5-db18-478a-e27e-4154e0b4c06c"
   },
   "outputs": [
    {
     "data": {
      "text/plain": [
       "VotingClassifier(estimators=[('MLP',\n",
       "                              MLPClassifier(activation='relu', alpha=0.0001,\n",
       "                                            batch_size='auto', beta_1=0.9,\n",
       "                                            beta_2=0.999, early_stopping=False,\n",
       "                                            epsilon=1e-08,\n",
       "                                            hidden_layer_sizes=(100,),\n",
       "                                            learning_rate='adaptive',\n",
       "                                            learning_rate_init=0.001,\n",
       "                                            max_fun=15000, max_iter=200,\n",
       "                                            momentum=0.9, n_iter_no_change=10,\n",
       "                                            nesterovs_momentum=True,\n",
       "                                            power_t=0.5, random_state=42,\n",
       "                                            shuf...\n",
       "                                             importance_type='split',\n",
       "                                             learning_rate=0.08, max_depth=8,\n",
       "                                             min_child_samples=20,\n",
       "                                             min_child_weight=0.1,\n",
       "                                             min_split_gain=0.0,\n",
       "                                             n_estimators=425, n_jobs=-1,\n",
       "                                             num_leaves=31,\n",
       "                                             objective='multiclass',\n",
       "                                             random_state=None, reg_alpha=0.0,\n",
       "                                             reg_lambda=3, silent=True,\n",
       "                                             subsample=1.0,\n",
       "                                             subsample_for_bin=200000,\n",
       "                                             subsample_freq=0))],\n",
       "                 flatten_transform=True, n_jobs=None, voting='hard',\n",
       "                 weights=None)"
      ]
     },
     "execution_count": 44,
     "metadata": {},
     "output_type": "execute_result"
    }
   ],
   "source": [
    "from sklearn.ensemble import VotingClassifier\n",
    "estimator = []\n",
    "estimator.append(('MLP', p))\n",
    "estimator.append(('XGB', xgb )) \n",
    "estimator.append(('LGBM', lgbc)) \n",
    " \n",
    "  \n",
    "# Voting Classifier with hard voting \n",
    "vot_hard = VotingClassifier(estimators = estimator, voting ='hard') \n",
    "vot_hard.fit(train, val) "
   ]
  },
  {
   "cell_type": "code",
   "execution_count": 45,
   "metadata": {
    "id": "31DNNmVELis-",
    "outputId": "c7bf42b5-994a-4627-99cf-e04c4a1289ca"
   },
   "outputs": [
    {
     "name": "stdout",
     "output_type": "stream",
     "text": [
      "0.7267894033296877\n"
     ]
    }
   ],
   "source": [
    "print(vot_hard.score(x_val,y_val))"
   ]
  },
  {
   "cell_type": "markdown",
   "execution_count": null,
   "metadata": {
    "id": "u9tV4LjaeIyI"
   },
   "source": [
    "\n",
    "\n",
    "> The model performs quite well on the validation dataset. Let us now use it for predictions on test dataset.\n",
    "\n",
    "\n",
    "\n",
    "\n",
    "\n",
    "\n"
   ]
  },
  {
   "cell_type": "markdown",
   "execution_count": null,
   "metadata": {
    "id": "ZuQePzjv35nv"
   },
   "source": [
    "# Making Predictions"
   ]
  },
  {
   "cell_type": "code",
   "execution_count": 46,
   "metadata": {
    "id": "Vr5PfJsAUXql",
    "outputId": "0c792b55-705d-4c02-d521-cb99798236bd"
   },
   "outputs": [
    {
     "name": "stdout",
     "output_type": "stream",
     "text": [
      "[1. 2. 3.] [13230 44195 29970]\n"
     ]
    }
   ],
   "source": [
    "pred_vot_hard = vot_hard.predict(test_features)\n",
    "unique_elements, counts_elements = np.unique(pred_vot_hard, return_counts=True)\n",
    "print(unique_elements,counts_elements)"
   ]
  },
  {
   "cell_type": "code",
   "execution_count": 47,
   "metadata": {
    "id": "d7X2cUuqUE6t"
   },
   "outputs": [],
   "source": [
    "pd.DataFrame(pred_vot_hard, columns=['Surge_Pricing_Type']).to_csv('/prediction_vot_final.csv')"
   ]
  },
  {
   "cell_type": "markdown",
   "execution_count": null,
   "metadata": {
    "id": "HkRDRU4rfLj6"
   },
   "source": [
    "**The final score recieved on the scoreboard was 0.7012.It is a general agreement that ensembles are more stable and accurate than stand-alone models**"
   ]
  },
  {
   "cell_type": "markdown",
   "execution_count": null,
   "metadata": {
    "id": "JCr3byQcgfq5"
   },
   "source": [
    "# Conclusion"
   ]
  },
  {
   "cell_type": "markdown",
   "execution_count": null,
   "metadata": {
    "id": "ONvdsdvzgmm7"
   },
   "source": [
    "\n",
    "\n",
    "*In this notebook we successfully predicted the Surge_Pricing_Type for cab aggregators.*\n",
    "\n",
    "**Some important concepts learned:**\n",
    "\n",
    "*   MICE helps in imputation of missing data for numerical features with minimal effect on variance of the distribution.\n",
    "*   If number of NaN's are very large(larger than observations in one of the category) it is better to make a separate category out of them.\n",
    "\n",
    "\n",
    "*   To remove skewness/outliers in features we can apply log transformation or normalization.\n",
    "*   Building an ensemble is an effective way to get a stable model.\n",
    "\n",
    "\n",
    "\n",
    "\n",
    "\n"
   ]
  }
 ],
 "metadata": {
  "kernelspec": {
   "display_name": "Python 3",
   "language": "python",
   "name": "python3"
  },
  "language_info": {
   "codemirror_mode": {
    "name": "ipython",
    "version": 3
   },
   "file_extension": ".py",
   "mimetype": "text/x-python",
   "name": "python",
   "nbconvert_exporter": "python",
   "pygments_lexer": "ipython3",
   "version": "3.7.6"
  }
 },
 "nbformat": 4,
 "nbformat_minor": 4
}
