{
  "nbformat": 4,
  "nbformat_minor": 0,
  "metadata": {
    "colab": {
      "name": "DemandForecasting.ipynb",
      "provenance": [],
      "collapsed_sections": []
    },
    "kernelspec": {
      "name": "python3",
      "display_name": "Python 3"
    }
  },
  "cells": [
    {
      "cell_type": "markdown",
      "metadata": {
        "id": "Taobg2SiuGSx",
        "colab_type": "text"
      },
      "source": [
        "# Problem Statement\n",
        "\n",
        "**One of the largest retail chains in the world wants to use their vast data source to build an efficient forecasting model to predict the sales for each SKU in its portfolio at its 76 different stores using historical sales data for the past 3 years on a week-on-week basis. Sales and promotional information is also available for each week - product and store wise.** \n",
        "\n",
        "**However, no other information regarding stores and products are available. Can you still forecast accurately the sales values for every such product/SKU-store combination for the next 12 weeks accurately? If yes, then dive right in!**"
      ]
    },
    {
      "cell_type": "markdown",
      "metadata": {
        "id": "omtTdjB5TRBH",
        "colab_type": "text"
      },
      "source": [
        "# Data Analysis and Feature Engineering"
      ]
    },
    {
      "cell_type": "code",
      "metadata": {
        "id": "od9qzpOaWFKl",
        "colab_type": "code",
        "colab": {
          "base_uri": "https://localhost:8080/",
          "height": 284
        },
        "outputId": "fca4723d-46d3-410c-aaec-8b06fbebbb3b"
      },
      "source": [
        "pip install eli5"
      ],
      "execution_count": 1,
      "outputs": [
        {
          "output_type": "stream",
          "text": [
            "Collecting eli5\n",
            "\u001b[?25l  Downloading https://files.pythonhosted.org/packages/97/2f/c85c7d8f8548e460829971785347e14e45fa5c6617da374711dec8cb38cc/eli5-0.10.1-py2.py3-none-any.whl (105kB)\n",
            "\r\u001b[K     |███                             | 10kB 15.8MB/s eta 0:00:01\r\u001b[K     |██████▏                         | 20kB 1.8MB/s eta 0:00:01\r\u001b[K     |█████████▎                      | 30kB 2.3MB/s eta 0:00:01\r\u001b[K     |████████████▍                   | 40kB 2.6MB/s eta 0:00:01\r\u001b[K     |███████████████▌                | 51kB 2.0MB/s eta 0:00:01\r\u001b[K     |██████████████████▋             | 61kB 2.3MB/s eta 0:00:01\r\u001b[K     |█████████████████████▊          | 71kB 2.5MB/s eta 0:00:01\r\u001b[K     |████████████████████████▊       | 81kB 2.7MB/s eta 0:00:01\r\u001b[K     |███████████████████████████▉    | 92kB 2.9MB/s eta 0:00:01\r\u001b[K     |███████████████████████████████ | 102kB 2.8MB/s eta 0:00:01\r\u001b[K     |████████████████████████████████| 112kB 2.8MB/s \n",
            "\u001b[?25hRequirement already satisfied: graphviz in /usr/local/lib/python3.6/dist-packages (from eli5) (0.10.1)\n",
            "Requirement already satisfied: jinja2 in /usr/local/lib/python3.6/dist-packages (from eli5) (2.11.2)\n",
            "Requirement already satisfied: tabulate>=0.7.7 in /usr/local/lib/python3.6/dist-packages (from eli5) (0.8.7)\n",
            "Requirement already satisfied: scikit-learn>=0.18 in /usr/local/lib/python3.6/dist-packages (from eli5) (0.22.2.post1)\n",
            "Requirement already satisfied: numpy>=1.9.0 in /usr/local/lib/python3.6/dist-packages (from eli5) (1.18.5)\n",
            "Requirement already satisfied: attrs>16.0.0 in /usr/local/lib/python3.6/dist-packages (from eli5) (19.3.0)\n",
            "Requirement already satisfied: scipy in /usr/local/lib/python3.6/dist-packages (from eli5) (1.4.1)\n",
            "Requirement already satisfied: six in /usr/local/lib/python3.6/dist-packages (from eli5) (1.12.0)\n",
            "Requirement already satisfied: MarkupSafe>=0.23 in /usr/local/lib/python3.6/dist-packages (from jinja2->eli5) (1.1.1)\n",
            "Requirement already satisfied: joblib>=0.11 in /usr/local/lib/python3.6/dist-packages (from scikit-learn>=0.18->eli5) (0.16.0)\n",
            "Installing collected packages: eli5\n",
            "Successfully installed eli5-0.10.1\n"
          ],
          "name": "stdout"
        }
      ]
    },
    {
      "cell_type": "code",
      "metadata": {
        "id": "BX5gddo6uI3j",
        "colab_type": "code",
        "colab": {
          "base_uri": "https://localhost:8080/",
          "height": 161
        },
        "outputId": "33b7d409-9c66-45d4-dda0-3fa32165c509"
      },
      "source": [
        "import pandas as pd\n",
        "import numpy as np\n",
        "import matplotlib.pyplot as plt\n",
        "import seaborn as sns\n",
        "\n",
        "from eli5.sklearn import PermutationImportance"
      ],
      "execution_count": 2,
      "outputs": [
        {
          "output_type": "stream",
          "text": [
            "/usr/local/lib/python3.6/dist-packages/statsmodels/tools/_testing.py:19: FutureWarning: pandas.util.testing is deprecated. Use the functions in the public API at pandas.testing instead.\n",
            "  import pandas.util.testing as tm\n",
            "/usr/local/lib/python3.6/dist-packages/sklearn/utils/deprecation.py:144: FutureWarning: The sklearn.metrics.scorer module is  deprecated in version 0.22 and will be removed in version 0.24. The corresponding classes / functions should instead be imported from sklearn.metrics. Anything that cannot be imported from sklearn.metrics is now part of the private API.\n",
            "  warnings.warn(message, FutureWarning)\n",
            "/usr/local/lib/python3.6/dist-packages/sklearn/utils/deprecation.py:144: FutureWarning: The sklearn.feature_selection.base module is  deprecated in version 0.22 and will be removed in version 0.24. The corresponding classes / functions should instead be imported from sklearn.feature_selection. Anything that cannot be imported from sklearn.feature_selection is now part of the private API.\n",
            "  warnings.warn(message, FutureWarning)\n",
            "Using TensorFlow backend.\n"
          ],
          "name": "stderr"
        }
      ]
    },
    {
      "cell_type": "code",
      "metadata": {
        "id": "PjUr6lk4tQ9Q",
        "colab_type": "code",
        "colab": {}
      },
      "source": [
        "train = pd.read_csv('/content/drive/My Drive/Demand Forecasting/train.csv')\n",
        "test = pd.read_csv('/content/drive/My Drive/Demand Forecasting/test.csv')"
      ],
      "execution_count": 3,
      "outputs": []
    },
    {
      "cell_type": "code",
      "metadata": {
        "id": "avLwHuKG35c7",
        "colab_type": "code",
        "colab": {}
      },
      "source": [
        "train['week'] = pd.to_datetime(train['week'])\n",
        "test['week'] = pd.to_datetime(test['week'])"
      ],
      "execution_count": 4,
      "outputs": []
    },
    {
      "cell_type": "code",
      "metadata": {
        "id": "UhSqg6tUv3KS",
        "colab_type": "code",
        "colab": {
          "base_uri": "https://localhost:8080/",
          "height": 301
        },
        "outputId": "a8a179a4-dc95-4063-c6e1-32a30b291f0d"
      },
      "source": [
        "train.info()"
      ],
      "execution_count": 5,
      "outputs": [
        {
          "output_type": "stream",
          "text": [
            "<class 'pandas.core.frame.DataFrame'>\n",
            "RangeIndex: 150150 entries, 0 to 150149\n",
            "Data columns (total 9 columns):\n",
            " #   Column           Non-Null Count   Dtype         \n",
            "---  ------           --------------   -----         \n",
            " 0   record_ID        150150 non-null  int64         \n",
            " 1   week             150150 non-null  datetime64[ns]\n",
            " 2   store_id         150150 non-null  int64         \n",
            " 3   sku_id           150150 non-null  int64         \n",
            " 4   total_price      150150 non-null  float64       \n",
            " 5   base_price       150150 non-null  float64       \n",
            " 6   is_featured_sku  150150 non-null  int64         \n",
            " 7   is_display_sku   150150 non-null  int64         \n",
            " 8   units_sold       150150 non-null  int64         \n",
            "dtypes: datetime64[ns](1), float64(2), int64(6)\n",
            "memory usage: 10.3 MB\n"
          ],
          "name": "stdout"
        }
      ]
    },
    {
      "cell_type": "code",
      "metadata": {
        "id": "jNvBKbIhvoWb",
        "colab_type": "code",
        "colab": {
          "base_uri": "https://localhost:8080/",
          "height": 195
        },
        "outputId": "599f13bc-6d7f-4f8f-e020-6d53691372a6"
      },
      "source": [
        "train.isnull().sum()"
      ],
      "execution_count": 6,
      "outputs": [
        {
          "output_type": "execute_result",
          "data": {
            "text/plain": [
              "record_ID          0\n",
              "week               0\n",
              "store_id           0\n",
              "sku_id             0\n",
              "total_price        0\n",
              "base_price         0\n",
              "is_featured_sku    0\n",
              "is_display_sku     0\n",
              "units_sold         0\n",
              "dtype: int64"
            ]
          },
          "metadata": {
            "tags": []
          },
          "execution_count": 6
        }
      ]
    },
    {
      "cell_type": "code",
      "metadata": {
        "id": "MScVMqGdv84h",
        "colab_type": "code",
        "colab": {
          "base_uri": "https://localhost:8080/",
          "height": 282
        },
        "outputId": "c6009187-f1e8-4045-e582-af48c2b71964"
      },
      "source": [
        "train.describe()"
      ],
      "execution_count": 7,
      "outputs": [
        {
          "output_type": "execute_result",
          "data": {
            "text/html": [
              "<div>\n",
              "<style scoped>\n",
              "    .dataframe tbody tr th:only-of-type {\n",
              "        vertical-align: middle;\n",
              "    }\n",
              "\n",
              "    .dataframe tbody tr th {\n",
              "        vertical-align: top;\n",
              "    }\n",
              "\n",
              "    .dataframe thead th {\n",
              "        text-align: right;\n",
              "    }\n",
              "</style>\n",
              "<table border=\"1\" class=\"dataframe\">\n",
              "  <thead>\n",
              "    <tr style=\"text-align: right;\">\n",
              "      <th></th>\n",
              "      <th>record_ID</th>\n",
              "      <th>store_id</th>\n",
              "      <th>sku_id</th>\n",
              "      <th>total_price</th>\n",
              "      <th>base_price</th>\n",
              "      <th>is_featured_sku</th>\n",
              "      <th>is_display_sku</th>\n",
              "      <th>units_sold</th>\n",
              "    </tr>\n",
              "  </thead>\n",
              "  <tbody>\n",
              "    <tr>\n",
              "      <th>count</th>\n",
              "      <td>150150.000000</td>\n",
              "      <td>150150.000000</td>\n",
              "      <td>150150.000000</td>\n",
              "      <td>150150.000000</td>\n",
              "      <td>150150.000000</td>\n",
              "      <td>150150.000000</td>\n",
              "      <td>150150.000000</td>\n",
              "      <td>150150.000000</td>\n",
              "    </tr>\n",
              "    <tr>\n",
              "      <th>mean</th>\n",
              "      <td>106271.555504</td>\n",
              "      <td>9199.422511</td>\n",
              "      <td>254761.132468</td>\n",
              "      <td>206.628502</td>\n",
              "      <td>219.425927</td>\n",
              "      <td>0.095611</td>\n",
              "      <td>0.133200</td>\n",
              "      <td>51.674206</td>\n",
              "    </tr>\n",
              "    <tr>\n",
              "      <th>std</th>\n",
              "      <td>61386.037861</td>\n",
              "      <td>615.591445</td>\n",
              "      <td>85547.306447</td>\n",
              "      <td>103.310400</td>\n",
              "      <td>110.961712</td>\n",
              "      <td>0.294058</td>\n",
              "      <td>0.339792</td>\n",
              "      <td>60.207904</td>\n",
              "    </tr>\n",
              "    <tr>\n",
              "      <th>min</th>\n",
              "      <td>1.000000</td>\n",
              "      <td>8023.000000</td>\n",
              "      <td>216233.000000</td>\n",
              "      <td>41.325000</td>\n",
              "      <td>61.275000</td>\n",
              "      <td>0.000000</td>\n",
              "      <td>0.000000</td>\n",
              "      <td>1.000000</td>\n",
              "    </tr>\n",
              "    <tr>\n",
              "      <th>25%</th>\n",
              "      <td>53111.250000</td>\n",
              "      <td>8562.000000</td>\n",
              "      <td>217217.000000</td>\n",
              "      <td>130.387500</td>\n",
              "      <td>133.237500</td>\n",
              "      <td>0.000000</td>\n",
              "      <td>0.000000</td>\n",
              "      <td>20.000000</td>\n",
              "    </tr>\n",
              "    <tr>\n",
              "      <th>50%</th>\n",
              "      <td>106226.500000</td>\n",
              "      <td>9371.000000</td>\n",
              "      <td>222087.000000</td>\n",
              "      <td>198.075000</td>\n",
              "      <td>205.912500</td>\n",
              "      <td>0.000000</td>\n",
              "      <td>0.000000</td>\n",
              "      <td>35.000000</td>\n",
              "    </tr>\n",
              "    <tr>\n",
              "      <th>75%</th>\n",
              "      <td>159452.750000</td>\n",
              "      <td>9731.000000</td>\n",
              "      <td>245338.000000</td>\n",
              "      <td>233.700000</td>\n",
              "      <td>234.412500</td>\n",
              "      <td>0.000000</td>\n",
              "      <td>0.000000</td>\n",
              "      <td>62.000000</td>\n",
              "    </tr>\n",
              "    <tr>\n",
              "      <th>max</th>\n",
              "      <td>212644.000000</td>\n",
              "      <td>9984.000000</td>\n",
              "      <td>679023.000000</td>\n",
              "      <td>562.162500</td>\n",
              "      <td>562.162500</td>\n",
              "      <td>1.000000</td>\n",
              "      <td>1.000000</td>\n",
              "      <td>2876.000000</td>\n",
              "    </tr>\n",
              "  </tbody>\n",
              "</table>\n",
              "</div>"
            ],
            "text/plain": [
              "           record_ID       store_id  ...  is_display_sku     units_sold\n",
              "count  150150.000000  150150.000000  ...   150150.000000  150150.000000\n",
              "mean   106271.555504    9199.422511  ...        0.133200      51.674206\n",
              "std     61386.037861     615.591445  ...        0.339792      60.207904\n",
              "min         1.000000    8023.000000  ...        0.000000       1.000000\n",
              "25%     53111.250000    8562.000000  ...        0.000000      20.000000\n",
              "50%    106226.500000    9371.000000  ...        0.000000      35.000000\n",
              "75%    159452.750000    9731.000000  ...        0.000000      62.000000\n",
              "max    212644.000000    9984.000000  ...        1.000000    2876.000000\n",
              "\n",
              "[8 rows x 8 columns]"
            ]
          },
          "metadata": {
            "tags": []
          },
          "execution_count": 7
        }
      ]
    },
    {
      "cell_type": "code",
      "metadata": {
        "id": "TukX6g2GTf32",
        "colab_type": "code",
        "colab": {
          "base_uri": "https://localhost:8080/",
          "height": 399
        },
        "outputId": "2a8f62ea-80fe-4e2f-a3a0-42318b63f512"
      },
      "source": [
        "train"
      ],
      "execution_count": 8,
      "outputs": [
        {
          "output_type": "execute_result",
          "data": {
            "text/html": [
              "<div>\n",
              "<style scoped>\n",
              "    .dataframe tbody tr th:only-of-type {\n",
              "        vertical-align: middle;\n",
              "    }\n",
              "\n",
              "    .dataframe tbody tr th {\n",
              "        vertical-align: top;\n",
              "    }\n",
              "\n",
              "    .dataframe thead th {\n",
              "        text-align: right;\n",
              "    }\n",
              "</style>\n",
              "<table border=\"1\" class=\"dataframe\">\n",
              "  <thead>\n",
              "    <tr style=\"text-align: right;\">\n",
              "      <th></th>\n",
              "      <th>record_ID</th>\n",
              "      <th>week</th>\n",
              "      <th>store_id</th>\n",
              "      <th>sku_id</th>\n",
              "      <th>total_price</th>\n",
              "      <th>base_price</th>\n",
              "      <th>is_featured_sku</th>\n",
              "      <th>is_display_sku</th>\n",
              "      <th>units_sold</th>\n",
              "    </tr>\n",
              "  </thead>\n",
              "  <tbody>\n",
              "    <tr>\n",
              "      <th>0</th>\n",
              "      <td>1</td>\n",
              "      <td>2011-01-17</td>\n",
              "      <td>8091</td>\n",
              "      <td>216418</td>\n",
              "      <td>99.0375</td>\n",
              "      <td>111.8625</td>\n",
              "      <td>0</td>\n",
              "      <td>0</td>\n",
              "      <td>20</td>\n",
              "    </tr>\n",
              "    <tr>\n",
              "      <th>1</th>\n",
              "      <td>2</td>\n",
              "      <td>2011-01-17</td>\n",
              "      <td>8091</td>\n",
              "      <td>216419</td>\n",
              "      <td>99.0375</td>\n",
              "      <td>99.0375</td>\n",
              "      <td>0</td>\n",
              "      <td>0</td>\n",
              "      <td>28</td>\n",
              "    </tr>\n",
              "    <tr>\n",
              "      <th>2</th>\n",
              "      <td>3</td>\n",
              "      <td>2011-01-17</td>\n",
              "      <td>8091</td>\n",
              "      <td>216425</td>\n",
              "      <td>133.9500</td>\n",
              "      <td>133.9500</td>\n",
              "      <td>0</td>\n",
              "      <td>0</td>\n",
              "      <td>19</td>\n",
              "    </tr>\n",
              "    <tr>\n",
              "      <th>3</th>\n",
              "      <td>4</td>\n",
              "      <td>2011-01-17</td>\n",
              "      <td>8091</td>\n",
              "      <td>216233</td>\n",
              "      <td>133.9500</td>\n",
              "      <td>133.9500</td>\n",
              "      <td>0</td>\n",
              "      <td>0</td>\n",
              "      <td>44</td>\n",
              "    </tr>\n",
              "    <tr>\n",
              "      <th>4</th>\n",
              "      <td>5</td>\n",
              "      <td>2011-01-17</td>\n",
              "      <td>8091</td>\n",
              "      <td>217390</td>\n",
              "      <td>141.0750</td>\n",
              "      <td>141.0750</td>\n",
              "      <td>0</td>\n",
              "      <td>0</td>\n",
              "      <td>52</td>\n",
              "    </tr>\n",
              "    <tr>\n",
              "      <th>...</th>\n",
              "      <td>...</td>\n",
              "      <td>...</td>\n",
              "      <td>...</td>\n",
              "      <td>...</td>\n",
              "      <td>...</td>\n",
              "      <td>...</td>\n",
              "      <td>...</td>\n",
              "      <td>...</td>\n",
              "      <td>...</td>\n",
              "    </tr>\n",
              "    <tr>\n",
              "      <th>150145</th>\n",
              "      <td>212638</td>\n",
              "      <td>2013-09-07</td>\n",
              "      <td>9984</td>\n",
              "      <td>223245</td>\n",
              "      <td>235.8375</td>\n",
              "      <td>235.8375</td>\n",
              "      <td>0</td>\n",
              "      <td>0</td>\n",
              "      <td>38</td>\n",
              "    </tr>\n",
              "    <tr>\n",
              "      <th>150146</th>\n",
              "      <td>212639</td>\n",
              "      <td>2013-09-07</td>\n",
              "      <td>9984</td>\n",
              "      <td>223153</td>\n",
              "      <td>235.8375</td>\n",
              "      <td>235.8375</td>\n",
              "      <td>0</td>\n",
              "      <td>0</td>\n",
              "      <td>30</td>\n",
              "    </tr>\n",
              "    <tr>\n",
              "      <th>150147</th>\n",
              "      <td>212642</td>\n",
              "      <td>2013-09-07</td>\n",
              "      <td>9984</td>\n",
              "      <td>245338</td>\n",
              "      <td>357.6750</td>\n",
              "      <td>483.7875</td>\n",
              "      <td>1</td>\n",
              "      <td>1</td>\n",
              "      <td>31</td>\n",
              "    </tr>\n",
              "    <tr>\n",
              "      <th>150148</th>\n",
              "      <td>212643</td>\n",
              "      <td>2013-09-07</td>\n",
              "      <td>9984</td>\n",
              "      <td>547934</td>\n",
              "      <td>141.7875</td>\n",
              "      <td>191.6625</td>\n",
              "      <td>0</td>\n",
              "      <td>1</td>\n",
              "      <td>12</td>\n",
              "    </tr>\n",
              "    <tr>\n",
              "      <th>150149</th>\n",
              "      <td>212644</td>\n",
              "      <td>2013-09-07</td>\n",
              "      <td>9984</td>\n",
              "      <td>679023</td>\n",
              "      <td>234.4125</td>\n",
              "      <td>234.4125</td>\n",
              "      <td>0</td>\n",
              "      <td>0</td>\n",
              "      <td>15</td>\n",
              "    </tr>\n",
              "  </tbody>\n",
              "</table>\n",
              "<p>150150 rows × 9 columns</p>\n",
              "</div>"
            ],
            "text/plain": [
              "        record_ID       week  ...  is_display_sku  units_sold\n",
              "0               1 2011-01-17  ...               0          20\n",
              "1               2 2011-01-17  ...               0          28\n",
              "2               3 2011-01-17  ...               0          19\n",
              "3               4 2011-01-17  ...               0          44\n",
              "4               5 2011-01-17  ...               0          52\n",
              "...           ...        ...  ...             ...         ...\n",
              "150145     212638 2013-09-07  ...               0          38\n",
              "150146     212639 2013-09-07  ...               0          30\n",
              "150147     212642 2013-09-07  ...               1          31\n",
              "150148     212643 2013-09-07  ...               1          12\n",
              "150149     212644 2013-09-07  ...               0          15\n",
              "\n",
              "[150150 rows x 9 columns]"
            ]
          },
          "metadata": {
            "tags": []
          },
          "execution_count": 8
        }
      ]
    },
    {
      "cell_type": "code",
      "metadata": {
        "id": "LHfRG4SjkWs8",
        "colab_type": "code",
        "colab": {}
      },
      "source": [
        "train.drop(train[train['units_sold']>1500].index,inplace=True)"
      ],
      "execution_count": 9,
      "outputs": []
    },
    {
      "cell_type": "code",
      "metadata": {
        "id": "BxM7gLMZwzlg",
        "colab_type": "code",
        "colab": {
          "base_uri": "https://localhost:8080/",
          "height": 498
        },
        "outputId": "001d1a39-df20-4bf8-8ec7-3768c50e50fb"
      },
      "source": [
        "#Distributions of numerical variables\n",
        "num_cols = ['total_price','base_price','units_sold']\n",
        "fig,ax = plt.subplots(3,1,figsize=(8,8),squeeze=False)\n",
        "r=0\n",
        "c=0\n",
        "for i in num_cols:\n",
        "  sns.distplot(train[i],ax=ax[r][c])\n",
        "  r+=1\n"
      ],
      "execution_count": 14,
      "outputs": [
        {
          "output_type": "display_data",
          "data": {
            "image/png": "[encoded data removed]",
            "text/plain": [
              "<Figure size 576x576 with 3 Axes>"
            ]
          },
          "metadata": {
            "tags": [],
            "needs_background": "light"
          }
        }
      ]
    },
    {
      "cell_type": "markdown",
      "metadata": {
        "id": "hoJtubFNYeNW",
        "colab_type": "text"
      },
      "source": [
        "\n",
        "**Its always a good strategy to reduce the variance and skewness from the variable distributions(including target variable)**\n",
        "\n"
      ]
    },
    {
      "cell_type": "code",
      "metadata": {
        "id": "5t_9p-cQUoAZ",
        "colab_type": "code",
        "colab": {}
      },
      "source": [
        "train['units_sold']=np.log1p(train['units_sold'])\n"
      ],
      "execution_count": 15,
      "outputs": []
    },
    {
      "cell_type": "code",
      "metadata": {
        "id": "XxNEKa8uFLJi",
        "colab_type": "code",
        "colab": {}
      },
      "source": [
        "train['total_price']=np.log(train['total_price'])\n",
        "test['total_price']=np.log(test['total_price'])"
      ],
      "execution_count": 16,
      "outputs": []
    },
    {
      "cell_type": "code",
      "metadata": {
        "id": "i3eBqr6IFbIL",
        "colab_type": "code",
        "colab": {}
      },
      "source": [
        "train['base_price']=np.log(train['base_price'])\n",
        "test['base_price']=np.log(test['base_price'])"
      ],
      "execution_count": 17,
      "outputs": []
    },
    {
      "cell_type": "code",
      "metadata": {
        "id": "_X__vMdwEU__",
        "colab_type": "code",
        "colab": {
          "base_uri": "https://localhost:8080/",
          "height": 498
        },
        "outputId": "8e993b6d-77d6-42b8-e57d-1addb22856c7"
      },
      "source": [
        "#Distributions of numerical variables after transformation\n",
        "\n",
        "fig,ax = plt.subplots(3,1,figsize=(8,8),squeeze=False)\n",
        "r=0\n",
        "c=0\n",
        "for i in num_cols:\n",
        "  sns.distplot(train[i],ax=ax[r][c])\n",
        "  r+=1\n"
      ],
      "execution_count": 18,
      "outputs": [
        {
          "output_type": "display_data",
          "data": {
            "image/png": "[encoded data removed]",
            "text/plain": [
              "<Figure size 576x576 with 3 Axes>"
            ]
          },
          "metadata": {
            "tags": [],
            "needs_background": "light"
          }
        }
      ]
    },
    {
      "cell_type": "markdown",
      "metadata": {
        "id": "fGH_OOgyZCn-",
        "colab_type": "text"
      },
      "source": [
        "**Making some extra features**"
      ]
    },
    {
      "cell_type": "code",
      "metadata": {
        "id": "XnkUXhqhUa5N",
        "colab_type": "code",
        "colab": {}
      },
      "source": [
        "train['IsDiscounted'] = np.where(train['total_price']<train['base_price'],1,0)\n",
        "test['IsDiscounted'] = np.where(test['total_price']<test['base_price'],1,0)"
      ],
      "execution_count": null,
      "outputs": []
    },
    {
      "cell_type": "code",
      "metadata": {
        "id": "2fp8PqfQUtkN",
        "colab_type": "code",
        "colab": {}
      },
      "source": [
        "train['Discount'] = train['base_price'] - train['total_price']\n",
        "test['Discount'] = test['base_price'] - test['total_price']\n",
        "\n",
        "train['Discount']=np.where(train['Discount'] > 0 ,np.log1p(train['Discount']),0)\n",
        "test['Discount']=np.where(test['Discount'] > 0 ,np.log1p(test['Discount']),0)\n"
      ],
      "execution_count": 19,
      "outputs": []
    },
    {
      "cell_type": "code",
      "metadata": {
        "id": "X0Bhh85aYVZV",
        "colab_type": "code",
        "colab": {
          "base_uri": "https://localhost:8080/",
          "height": 52
        },
        "outputId": "ce276d47-b27e-4677-affc-41524e475ed5"
      },
      "source": [
        "train['Premium'] =  train['total_price'] - train['base_price']\n",
        "test['Premium'] =  test['total_price'] - test['base_price']\n",
        "train['Premium']=np.where(train['Premium'] > 0 ,np.log1p(train['Premium']),0)\n",
        "test['Premium']=np.where(test['Premium'] > 0 ,np.log1p(test['Premium']),0)"
      ],
      "execution_count": 20,
      "outputs": [
        {
          "output_type": "stream",
          "text": [
            "/usr/local/lib/python3.6/dist-packages/pandas/core/series.py:679: RuntimeWarning: invalid value encountered in log1p\n",
            "  result = getattr(ufunc, method)(*inputs, **kwargs)\n"
          ],
          "name": "stderr"
        }
      ]
    },
    {
      "cell_type": "code",
      "metadata": {
        "id": "5djnyrIFmxCB",
        "colab_type": "code",
        "colab": {}
      },
      "source": [
        "#Extracting only Month component from datetime as other components did not have much afffect on target variable\n",
        "from pandas import datetime\n",
        "train['Month'] = [date.month for date in train.week]\n",
        "test['Month'] = [date.month for date in test.week]\n"
      ],
      "execution_count": 21,
      "outputs": []
    },
    {
      "cell_type": "code",
      "metadata": {
        "id": "PILkcv8ZKsmU",
        "colab_type": "code",
        "colab": {}
      },
      "source": [
        "#function for converting datetime object to seconds format so that it can be processed by the model\n",
        "from datetime import datetime\n",
        "import time\n",
        "def datetounix(df):\n",
        "    # Initialising unixtime list\n",
        "    unixtime = []\n",
        "    \n",
        "    # Running a loop for converting Date to seconds\n",
        "    for date in df['week']:\n",
        "        unixtime.append(time.mktime(date.timetuple()))\n",
        "    \n",
        "    # Replacing Date with unixtime list\n",
        "    df['week'] = unixtime\n",
        "    return(df)"
      ],
      "execution_count": 22,
      "outputs": []
    },
    {
      "cell_type": "code",
      "metadata": {
        "id": "1Q8C3uIFKwO9",
        "colab_type": "code",
        "colab": {}
      },
      "source": [
        "train = datetounix(train)\n",
        "test = datetounix(test)"
      ],
      "execution_count": 23,
      "outputs": []
    },
    {
      "cell_type": "code",
      "metadata": {
        "id": "9vpxgBBfJMPO",
        "colab_type": "code",
        "colab": {}
      },
      "source": [
        "X = train.drop(['units_sold'],axis=1)\n",
        "y = train['units_sold']"
      ],
      "execution_count": 24,
      "outputs": []
    },
    {
      "cell_type": "code",
      "metadata": {
        "id": "bU0gw6s5bnNQ",
        "colab_type": "code",
        "colab": {}
      },
      "source": [
        "test_final = test"
      ],
      "execution_count": 25,
      "outputs": []
    },
    {
      "cell_type": "code",
      "metadata": {
        "id": "7P3J-FYmZzsc",
        "colab_type": "code",
        "colab": {
          "base_uri": "https://localhost:8080/",
          "height": 340
        },
        "outputId": "36d2387c-466f-4be0-9d83-892a665801e4"
      },
      "source": [
        "train.head().append(train.tail())"
      ],
      "execution_count": 29,
      "outputs": [
        {
          "output_type": "execute_result",
          "data": {
            "text/html": [
              "<div>\n",
              "<style scoped>\n",
              "    .dataframe tbody tr th:only-of-type {\n",
              "        vertical-align: middle;\n",
              "    }\n",
              "\n",
              "    .dataframe tbody tr th {\n",
              "        vertical-align: top;\n",
              "    }\n",
              "\n",
              "    .dataframe thead th {\n",
              "        text-align: right;\n",
              "    }\n",
              "</style>\n",
              "<table border=\"1\" class=\"dataframe\">\n",
              "  <thead>\n",
              "    <tr style=\"text-align: right;\">\n",
              "      <th></th>\n",
              "      <th>record_ID</th>\n",
              "      <th>week</th>\n",
              "      <th>store_id</th>\n",
              "      <th>sku_id</th>\n",
              "      <th>total_price</th>\n",
              "      <th>base_price</th>\n",
              "      <th>is_featured_sku</th>\n",
              "      <th>is_display_sku</th>\n",
              "      <th>units_sold</th>\n",
              "      <th>Discount</th>\n",
              "      <th>Premium</th>\n",
              "      <th>Month</th>\n",
              "    </tr>\n",
              "  </thead>\n",
              "  <tbody>\n",
              "    <tr>\n",
              "      <th>0</th>\n",
              "      <td>1</td>\n",
              "      <td>1.295222e+09</td>\n",
              "      <td>8091</td>\n",
              "      <td>216418</td>\n",
              "      <td>4.595499</td>\n",
              "      <td>4.717270</td>\n",
              "      <td>0</td>\n",
              "      <td>0</td>\n",
              "      <td>3.044522</td>\n",
              "      <td>0.114909</td>\n",
              "      <td>0.0</td>\n",
              "      <td>1</td>\n",
              "    </tr>\n",
              "    <tr>\n",
              "      <th>1</th>\n",
              "      <td>2</td>\n",
              "      <td>1.295222e+09</td>\n",
              "      <td>8091</td>\n",
              "      <td>216419</td>\n",
              "      <td>4.595499</td>\n",
              "      <td>4.595499</td>\n",
              "      <td>0</td>\n",
              "      <td>0</td>\n",
              "      <td>3.367296</td>\n",
              "      <td>0.000000</td>\n",
              "      <td>0.0</td>\n",
              "      <td>1</td>\n",
              "    </tr>\n",
              "    <tr>\n",
              "      <th>2</th>\n",
              "      <td>3</td>\n",
              "      <td>1.295222e+09</td>\n",
              "      <td>8091</td>\n",
              "      <td>216425</td>\n",
              "      <td>4.897467</td>\n",
              "      <td>4.897467</td>\n",
              "      <td>0</td>\n",
              "      <td>0</td>\n",
              "      <td>2.995732</td>\n",
              "      <td>0.000000</td>\n",
              "      <td>0.0</td>\n",
              "      <td>1</td>\n",
              "    </tr>\n",
              "    <tr>\n",
              "      <th>3</th>\n",
              "      <td>4</td>\n",
              "      <td>1.295222e+09</td>\n",
              "      <td>8091</td>\n",
              "      <td>216233</td>\n",
              "      <td>4.897467</td>\n",
              "      <td>4.897467</td>\n",
              "      <td>0</td>\n",
              "      <td>0</td>\n",
              "      <td>3.806662</td>\n",
              "      <td>0.000000</td>\n",
              "      <td>0.0</td>\n",
              "      <td>1</td>\n",
              "    </tr>\n",
              "    <tr>\n",
              "      <th>4</th>\n",
              "      <td>5</td>\n",
              "      <td>1.295222e+09</td>\n",
              "      <td>8091</td>\n",
              "      <td>217390</td>\n",
              "      <td>4.949292</td>\n",
              "      <td>4.949292</td>\n",
              "      <td>0</td>\n",
              "      <td>0</td>\n",
              "      <td>3.970292</td>\n",
              "      <td>0.000000</td>\n",
              "      <td>0.0</td>\n",
              "      <td>1</td>\n",
              "    </tr>\n",
              "    <tr>\n",
              "      <th>150145</th>\n",
              "      <td>212638</td>\n",
              "      <td>1.378512e+09</td>\n",
              "      <td>9984</td>\n",
              "      <td>223245</td>\n",
              "      <td>5.463143</td>\n",
              "      <td>5.463143</td>\n",
              "      <td>0</td>\n",
              "      <td>0</td>\n",
              "      <td>3.663562</td>\n",
              "      <td>0.000000</td>\n",
              "      <td>0.0</td>\n",
              "      <td>9</td>\n",
              "    </tr>\n",
              "    <tr>\n",
              "      <th>150146</th>\n",
              "      <td>212639</td>\n",
              "      <td>1.378512e+09</td>\n",
              "      <td>9984</td>\n",
              "      <td>223153</td>\n",
              "      <td>5.463143</td>\n",
              "      <td>5.463143</td>\n",
              "      <td>0</td>\n",
              "      <td>0</td>\n",
              "      <td>3.433987</td>\n",
              "      <td>0.000000</td>\n",
              "      <td>0.0</td>\n",
              "      <td>9</td>\n",
              "    </tr>\n",
              "    <tr>\n",
              "      <th>150147</th>\n",
              "      <td>212642</td>\n",
              "      <td>1.378512e+09</td>\n",
              "      <td>9984</td>\n",
              "      <td>245338</td>\n",
              "      <td>5.879625</td>\n",
              "      <td>6.181646</td>\n",
              "      <td>1</td>\n",
              "      <td>1</td>\n",
              "      <td>3.465736</td>\n",
              "      <td>0.263918</td>\n",
              "      <td>0.0</td>\n",
              "      <td>9</td>\n",
              "    </tr>\n",
              "    <tr>\n",
              "      <th>150148</th>\n",
              "      <td>212643</td>\n",
              "      <td>1.378512e+09</td>\n",
              "      <td>9984</td>\n",
              "      <td>547934</td>\n",
              "      <td>4.954329</td>\n",
              "      <td>5.255736</td>\n",
              "      <td>0</td>\n",
              "      <td>1</td>\n",
              "      <td>2.564949</td>\n",
              "      <td>0.263446</td>\n",
              "      <td>0.0</td>\n",
              "      <td>9</td>\n",
              "    </tr>\n",
              "    <tr>\n",
              "      <th>150149</th>\n",
              "      <td>212644</td>\n",
              "      <td>1.378512e+09</td>\n",
              "      <td>9984</td>\n",
              "      <td>679023</td>\n",
              "      <td>5.457082</td>\n",
              "      <td>5.457082</td>\n",
              "      <td>0</td>\n",
              "      <td>0</td>\n",
              "      <td>2.772589</td>\n",
              "      <td>0.000000</td>\n",
              "      <td>0.0</td>\n",
              "      <td>9</td>\n",
              "    </tr>\n",
              "  </tbody>\n",
              "</table>\n",
              "</div>"
            ],
            "text/plain": [
              "        record_ID          week  store_id  ...  Discount  Premium  Month\n",
              "0               1  1.295222e+09      8091  ...  0.114909      0.0      1\n",
              "1               2  1.295222e+09      8091  ...  0.000000      0.0      1\n",
              "2               3  1.295222e+09      8091  ...  0.000000      0.0      1\n",
              "3               4  1.295222e+09      8091  ...  0.000000      0.0      1\n",
              "4               5  1.295222e+09      8091  ...  0.000000      0.0      1\n",
              "150145     212638  1.378512e+09      9984  ...  0.000000      0.0      9\n",
              "150146     212639  1.378512e+09      9984  ...  0.000000      0.0      9\n",
              "150147     212642  1.378512e+09      9984  ...  0.263918      0.0      9\n",
              "150148     212643  1.378512e+09      9984  ...  0.263446      0.0      9\n",
              "150149     212644  1.378512e+09      9984  ...  0.000000      0.0      9\n",
              "\n",
              "[10 rows x 12 columns]"
            ]
          },
          "metadata": {
            "tags": []
          },
          "execution_count": 29
        }
      ]
    },
    {
      "cell_type": "code",
      "metadata": {
        "id": "4aSg0xkjZ65D",
        "colab_type": "code",
        "colab": {
          "base_uri": "https://localhost:8080/",
          "height": 340
        },
        "outputId": "cb08ee9d-6f1e-4d22-cb2d-6d714b015af9"
      },
      "source": [
        "test.head().append(test.tail())"
      ],
      "execution_count": 30,
      "outputs": [
        {
          "output_type": "execute_result",
          "data": {
            "text/html": [
              "<div>\n",
              "<style scoped>\n",
              "    .dataframe tbody tr th:only-of-type {\n",
              "        vertical-align: middle;\n",
              "    }\n",
              "\n",
              "    .dataframe tbody tr th {\n",
              "        vertical-align: top;\n",
              "    }\n",
              "\n",
              "    .dataframe thead th {\n",
              "        text-align: right;\n",
              "    }\n",
              "</style>\n",
              "<table border=\"1\" class=\"dataframe\">\n",
              "  <thead>\n",
              "    <tr style=\"text-align: right;\">\n",
              "      <th></th>\n",
              "      <th>record_ID</th>\n",
              "      <th>week</th>\n",
              "      <th>store_id</th>\n",
              "      <th>sku_id</th>\n",
              "      <th>total_price</th>\n",
              "      <th>base_price</th>\n",
              "      <th>is_featured_sku</th>\n",
              "      <th>is_display_sku</th>\n",
              "      <th>Discount</th>\n",
              "      <th>Premium</th>\n",
              "      <th>Month</th>\n",
              "    </tr>\n",
              "  </thead>\n",
              "  <tbody>\n",
              "    <tr>\n",
              "      <th>0</th>\n",
              "      <td>212645</td>\n",
              "      <td>1.373933e+09</td>\n",
              "      <td>8091</td>\n",
              "      <td>216418</td>\n",
              "      <td>4.684905</td>\n",
              "      <td>4.684905</td>\n",
              "      <td>0</td>\n",
              "      <td>0</td>\n",
              "      <td>0.000000</td>\n",
              "      <td>0.0</td>\n",
              "      <td>7</td>\n",
              "    </tr>\n",
              "    <tr>\n",
              "      <th>1</th>\n",
              "      <td>212646</td>\n",
              "      <td>1.373933e+09</td>\n",
              "      <td>8091</td>\n",
              "      <td>216419</td>\n",
              "      <td>4.691463</td>\n",
              "      <td>4.691463</td>\n",
              "      <td>0</td>\n",
              "      <td>0</td>\n",
              "      <td>0.000000</td>\n",
              "      <td>0.0</td>\n",
              "      <td>7</td>\n",
              "    </tr>\n",
              "    <tr>\n",
              "      <th>2</th>\n",
              "      <td>212647</td>\n",
              "      <td>1.373933e+09</td>\n",
              "      <td>8091</td>\n",
              "      <td>216425</td>\n",
              "      <td>4.897467</td>\n",
              "      <td>4.897467</td>\n",
              "      <td>0</td>\n",
              "      <td>0</td>\n",
              "      <td>0.000000</td>\n",
              "      <td>0.0</td>\n",
              "      <td>7</td>\n",
              "    </tr>\n",
              "    <tr>\n",
              "      <th>3</th>\n",
              "      <td>212648</td>\n",
              "      <td>1.373933e+09</td>\n",
              "      <td>8091</td>\n",
              "      <td>216233</td>\n",
              "      <td>4.897467</td>\n",
              "      <td>4.897467</td>\n",
              "      <td>0</td>\n",
              "      <td>0</td>\n",
              "      <td>0.000000</td>\n",
              "      <td>0.0</td>\n",
              "      <td>7</td>\n",
              "    </tr>\n",
              "    <tr>\n",
              "      <th>4</th>\n",
              "      <td>212649</td>\n",
              "      <td>1.373933e+09</td>\n",
              "      <td>8091</td>\n",
              "      <td>217390</td>\n",
              "      <td>5.174453</td>\n",
              "      <td>5.174453</td>\n",
              "      <td>0</td>\n",
              "      <td>0</td>\n",
              "      <td>0.000000</td>\n",
              "      <td>0.0</td>\n",
              "      <td>7</td>\n",
              "    </tr>\n",
              "    <tr>\n",
              "      <th>13855</th>\n",
              "      <td>232281</td>\n",
              "      <td>1.357776e+09</td>\n",
              "      <td>9984</td>\n",
              "      <td>223245</td>\n",
              "      <td>5.487025</td>\n",
              "      <td>5.487025</td>\n",
              "      <td>0</td>\n",
              "      <td>0</td>\n",
              "      <td>0.000000</td>\n",
              "      <td>0.0</td>\n",
              "      <td>1</td>\n",
              "    </tr>\n",
              "    <tr>\n",
              "      <th>13856</th>\n",
              "      <td>232282</td>\n",
              "      <td>1.357776e+09</td>\n",
              "      <td>9984</td>\n",
              "      <td>223153</td>\n",
              "      <td>5.484071</td>\n",
              "      <td>5.484071</td>\n",
              "      <td>0</td>\n",
              "      <td>0</td>\n",
              "      <td>0.000000</td>\n",
              "      <td>0.0</td>\n",
              "      <td>1</td>\n",
              "    </tr>\n",
              "    <tr>\n",
              "      <th>13857</th>\n",
              "      <td>232285</td>\n",
              "      <td>1.357776e+09</td>\n",
              "      <td>9984</td>\n",
              "      <td>245338</td>\n",
              "      <td>5.947023</td>\n",
              "      <td>5.996079</td>\n",
              "      <td>1</td>\n",
              "      <td>1</td>\n",
              "      <td>0.047891</td>\n",
              "      <td>0.0</td>\n",
              "      <td>1</td>\n",
              "    </tr>\n",
              "    <tr>\n",
              "      <th>13858</th>\n",
              "      <td>232286</td>\n",
              "      <td>1.357776e+09</td>\n",
              "      <td>9984</td>\n",
              "      <td>547934</td>\n",
              "      <td>5.255736</td>\n",
              "      <td>5.255736</td>\n",
              "      <td>0</td>\n",
              "      <td>0</td>\n",
              "      <td>0.000000</td>\n",
              "      <td>0.0</td>\n",
              "      <td>1</td>\n",
              "    </tr>\n",
              "    <tr>\n",
              "      <th>13859</th>\n",
              "      <td>232287</td>\n",
              "      <td>1.357776e+09</td>\n",
              "      <td>9984</td>\n",
              "      <td>679023</td>\n",
              "      <td>5.457082</td>\n",
              "      <td>5.457082</td>\n",
              "      <td>0</td>\n",
              "      <td>0</td>\n",
              "      <td>0.000000</td>\n",
              "      <td>0.0</td>\n",
              "      <td>1</td>\n",
              "    </tr>\n",
              "  </tbody>\n",
              "</table>\n",
              "</div>"
            ],
            "text/plain": [
              "       record_ID          week  store_id  ...  Discount  Premium  Month\n",
              "0         212645  1.373933e+09      8091  ...  0.000000      0.0      7\n",
              "1         212646  1.373933e+09      8091  ...  0.000000      0.0      7\n",
              "2         212647  1.373933e+09      8091  ...  0.000000      0.0      7\n",
              "3         212648  1.373933e+09      8091  ...  0.000000      0.0      7\n",
              "4         212649  1.373933e+09      8091  ...  0.000000      0.0      7\n",
              "13855     232281  1.357776e+09      9984  ...  0.000000      0.0      1\n",
              "13856     232282  1.357776e+09      9984  ...  0.000000      0.0      1\n",
              "13857     232285  1.357776e+09      9984  ...  0.047891      0.0      1\n",
              "13858     232286  1.357776e+09      9984  ...  0.000000      0.0      1\n",
              "13859     232287  1.357776e+09      9984  ...  0.000000      0.0      1\n",
              "\n",
              "[10 rows x 11 columns]"
            ]
          },
          "metadata": {
            "tags": []
          },
          "execution_count": 30
        }
      ]
    },
    {
      "cell_type": "code",
      "metadata": {
        "id": "y8BUaUlV266U",
        "colab_type": "code",
        "colab": {}
      },
      "source": [
        "#function for creating k-fold like validation sets for TS data. Since there is autocorrelation among datapoints we cannot use classical K-Fold approach\n",
        "def train_test_split(k):\n",
        "   train_size = int(len(train) * k)\n",
        "   x_tr, y_tr = X[0:train_size], y[0:train_size]\n",
        "   x_v,y_v = X[train_size:len(X)], y[train_size:len(X)]\n",
        "   return x_tr,y_tr,x_v,y_v\n",
        "\n",
        "\n"
      ],
      "execution_count": 27,
      "outputs": []
    },
    {
      "cell_type": "code",
      "metadata": {
        "id": "L6i5Fvaa5rhJ",
        "colab_type": "code",
        "colab": {}
      },
      "source": [
        "#ratios in which train data will be split\n",
        "ratio = [0.88,0.9,0.92,0.94,0.96]"
      ],
      "execution_count": 28,
      "outputs": []
    },
    {
      "cell_type": "markdown",
      "metadata": {
        "id": "tCleCiSzaDSH",
        "colab_type": "text"
      },
      "source": [
        "# Model Building "
      ]
    },
    {
      "cell_type": "markdown",
      "metadata": {
        "id": "GTMq5IhbmOzf",
        "colab_type": "text"
      },
      "source": [
        "## Light-GBM"
      ]
    },
    {
      "cell_type": "code",
      "metadata": {
        "id": "D3VCYUR5KL54",
        "colab_type": "code",
        "colab": {}
      },
      "source": [
        "from lightgbm import LGBMRegressor\n",
        "from sklearn import metrics\n",
        "from sklearn.metrics import mean_squared_log_error"
      ],
      "execution_count": 32,
      "outputs": []
    },
    {
      "cell_type": "code",
      "metadata": {
        "id": "Ez1fwtWQ3d7I",
        "colab_type": "code",
        "colab": {
          "base_uri": "https://localhost:8080/",
          "height": 124
        },
        "outputId": "ea1ff67a-3969-4cd2-a938-234fa371e0ab"
      },
      "source": [
        "#Applying K-Fold validation(K=5)\n",
        "rmsle = 0\n",
        "for i in ratio:\n",
        "  x_train,y_train,x_val,y_val = train_test_split(i)\n",
        "  lgbc=LGBMRegressor(boosting_type='gbdt',n_estimators=800, learning_rate=0.12,objective= 'regression',n_jobs=-1,random_state=100)\n",
        "  model=lgbc.fit(x_train,y_train)\n",
        "  pred_val = model.predict(x_val)\n",
        "   \n",
        "  print(np.sqrt(mean_squared_log_error(np.exp(y_val), np.exp(pred_val))))\n",
        "  rmsle+=np.sqrt(mean_squared_log_error(np.exp(y_val),np.exp(pred_val)))\n",
        "    \n",
        "\n",
        "\n",
        "\n",
        "print(rmsle/5)"
      ],
      "execution_count": 33,
      "outputs": [
        {
          "output_type": "stream",
          "text": [
            "0.44012595511191455\n",
            "0.411338425821718\n",
            "0.43028169854184634\n",
            "0.3851840541718179\n",
            "0.3936081024298525\n",
            "0.4121076472154298\n"
          ],
          "name": "stdout"
        }
      ]
    },
    {
      "cell_type": "code",
      "metadata": {
        "id": "HdwC0sK0MMCc",
        "colab_type": "code",
        "colab": {
          "base_uri": "https://localhost:8080/",
          "height": 141
        },
        "outputId": "5dd01943-5d78-4447-8ec7-5b1362df206e"
      },
      "source": [
        "lgbc.fit(X,y)"
      ],
      "execution_count": null,
      "outputs": [
        {
          "output_type": "execute_result",
          "data": {
            "text/plain": [
              "LGBMRegressor(boosting_type='gbdt', class_weight=None, colsample_bytree=1.0,\n",
              "              importance_type='split', learning_rate=0.12, max_depth=-1,\n",
              "              min_child_samples=20, min_child_weight=0.001, min_split_gain=0.0,\n",
              "              n_estimators=800, n_jobs=-1, num_leaves=31,\n",
              "              objective='regression', random_state=100, reg_alpha=0.0,\n",
              "              reg_lambda=0.0, silent=True, subsample=1.0,\n",
              "              subsample_for_bin=200000, subsample_freq=0)"
            ]
          },
          "metadata": {
            "tags": []
          },
          "execution_count": 562
        }
      ]
    },
    {
      "cell_type": "code",
      "metadata": {
        "id": "z5H_KL3CV9Mf",
        "colab_type": "code",
        "colab": {}
      },
      "source": [
        "import eli5\n",
        "perm = PermutationImportance(lgbc,random_state=100).fit(x_val, y_val)\n",
        "eli5.show_weights(perm,feature_names=x_val.columns.tolist())"
      ],
      "execution_count": null,
      "outputs": []
    },
    {
      "cell_type": "code",
      "metadata": {
        "id": "JMzOcfOzMUyI",
        "colab_type": "code",
        "colab": {}
      },
      "source": [
        "pred = lgbc.predict(test_final)\n",
        "pred = np.exp(pred)\n",
        "# pred = np.abs(pred)"
      ],
      "execution_count": null,
      "outputs": []
    },
    {
      "cell_type": "code",
      "metadata": {
        "id": "IGhlS7WLN_dm",
        "colab_type": "code",
        "colab": {
          "base_uri": "https://localhost:8080/",
          "height": 52
        },
        "outputId": "7aa748bc-1953-4c3b-ad97-9bd035419740"
      },
      "source": [
        "pred"
      ],
      "execution_count": null,
      "outputs": [
        {
          "output_type": "execute_result",
          "data": {
            "text/plain": [
              "array([21.07427622, 21.76428239, 27.27239172, ..., 42.72994694,\n",
              "       12.47475805, 11.3225535 ])"
            ]
          },
          "metadata": {
            "tags": []
          },
          "execution_count": 565
        }
      ]
    },
    {
      "cell_type": "markdown",
      "metadata": {
        "id": "D-khVdKOl7By",
        "colab_type": "text"
      },
      "source": [
        "## CatBoost"
      ]
    },
    {
      "cell_type": "code",
      "metadata": {
        "id": "CUdT-eOtmJPM",
        "colab_type": "code",
        "colab": {
          "base_uri": "https://localhost:8080/",
          "height": 266
        },
        "outputId": "6632d8af-4d57-4998-c542-3c2fbde77d53"
      },
      "source": [
        "pip install catboost"
      ],
      "execution_count": null,
      "outputs": [
        {
          "output_type": "stream",
          "text": [
            "Requirement already satisfied: catboost in /usr/local/lib/python3.6/dist-packages (0.23.2)\n",
            "Requirement already satisfied: numpy>=1.16.0 in /usr/local/lib/python3.6/dist-packages (from catboost) (1.18.5)\n",
            "Requirement already satisfied: pandas>=0.24.0 in /usr/local/lib/python3.6/dist-packages (from catboost) (1.0.5)\n",
            "Requirement already satisfied: six in /usr/local/lib/python3.6/dist-packages (from catboost) (1.12.0)\n",
            "Requirement already satisfied: scipy in /usr/local/lib/python3.6/dist-packages (from catboost) (1.4.1)\n",
            "Requirement already satisfied: plotly in /usr/local/lib/python3.6/dist-packages (from catboost) (4.4.1)\n",
            "Requirement already satisfied: graphviz in /usr/local/lib/python3.6/dist-packages (from catboost) (0.10.1)\n",
            "Requirement already satisfied: matplotlib in /usr/local/lib/python3.6/dist-packages (from catboost) (3.2.2)\n",
            "Requirement already satisfied: pytz>=2017.2 in /usr/local/lib/python3.6/dist-packages (from pandas>=0.24.0->catboost) (2018.9)\n",
            "Requirement already satisfied: python-dateutil>=2.6.1 in /usr/local/lib/python3.6/dist-packages (from pandas>=0.24.0->catboost) (2.8.1)\n",
            "Requirement already satisfied: retrying>=1.3.3 in /usr/local/lib/python3.6/dist-packages (from plotly->catboost) (1.3.3)\n",
            "Requirement already satisfied: kiwisolver>=1.0.1 in /usr/local/lib/python3.6/dist-packages (from matplotlib->catboost) (1.2.0)\n",
            "Requirement already satisfied: cycler>=0.10 in /usr/local/lib/python3.6/dist-packages (from matplotlib->catboost) (0.10.0)\n",
            "Requirement already satisfied: pyparsing!=2.0.4,!=2.1.2,!=2.1.6,>=2.0.1 in /usr/local/lib/python3.6/dist-packages (from matplotlib->catboost) (2.4.7)\n"
          ],
          "name": "stdout"
        }
      ]
    },
    {
      "cell_type": "code",
      "metadata": {
        "id": "aaPyscozl9Es",
        "colab_type": "code",
        "colab": {}
      },
      "source": [
        "from catboost import CatBoostRegressor   \n",
        "cb = CatBoostRegressor(\n",
        "    n_estimators = 1000,\n",
        "    learning_rate = 0.11,\n",
        "    #iterations=1000,\n",
        "    loss_function = 'RMSE',\n",
        "    eval_metric = 'RMSE',\n",
        "    verbose=0)\n"
      ],
      "execution_count": null,
      "outputs": []
    },
    {
      "cell_type": "code",
      "metadata": {
        "id": "rGjbS346mUWG",
        "colab_type": "code",
        "colab": {
          "base_uri": "https://localhost:8080/",
          "height": 124
        },
        "outputId": "3ed4d23b-aa6b-4893-87c9-3d39f818b71f"
      },
      "source": [
        "rmsle = 0\n",
        "for i in ratio:\n",
        "  x_train,y_train,x_val,y_val = train_test_split(i)\n",
        "\n",
        "  model=cb.fit(x_train,y_train)\n",
        "  pred_val = model.predict(x_val)\n",
        "   \n",
        "  print(np.sqrt(mean_squared_log_error(np.exp(y_val), np.exp(pred_val))))\n",
        "  rmsle+=np.sqrt(mean_squared_log_error(np.exp(y_val),np.exp(pred_val)))\n",
        "\n",
        "\n",
        "\n",
        "print(\"Test set RMSE:\",100*rmsle/5)"
      ],
      "execution_count": null,
      "outputs": [
        {
          "output_type": "stream",
          "text": [
            "0.4349303698245565\n",
            "0.41615211113728384\n",
            "0.41909800937586494\n",
            "0.391888815231071\n",
            "0.39743338474317114\n",
            "Test set RMSE: 41.19005380623894\n"
          ],
          "name": "stdout"
        }
      ]
    },
    {
      "cell_type": "code",
      "metadata": {
        "id": "gly4vOivnBfK",
        "colab_type": "code",
        "colab": {
          "base_uri": "https://localhost:8080/",
          "height": 35
        },
        "outputId": "6987831c-9072-469c-880b-b1b5a991a12f"
      },
      "source": [
        "cb.fit(X,y)"
      ],
      "execution_count": null,
      "outputs": [
        {
          "output_type": "execute_result",
          "data": {
            "text/plain": [
              "<catboost.core.CatBoostRegressor at 0x7fea4c9bb470>"
            ]
          },
          "metadata": {
            "tags": []
          },
          "execution_count": 569
        }
      ]
    },
    {
      "cell_type": "code",
      "metadata": {
        "id": "1x-njcNsnGA2",
        "colab_type": "code",
        "colab": {}
      },
      "source": [
        "import eli5\n",
        "perm = PermutationImportance(cb,random_state=100).fit(x_val, y_val)\n",
        "eli5.show_weights(perm,feature_names=x_val.columns.tolist())"
      ],
      "execution_count": null,
      "outputs": []
    },
    {
      "cell_type": "code",
      "metadata": {
        "id": "zkb5GHnHndmm",
        "colab_type": "code",
        "colab": {}
      },
      "source": [
        "pred_cb = cb.predict(test_final)\n",
        "pred_cb = np.exp(pred_cb)"
      ],
      "execution_count": null,
      "outputs": []
    },
    {
      "cell_type": "code",
      "metadata": {
        "id": "MsaMBuSsnouy",
        "colab_type": "code",
        "colab": {
          "base_uri": "https://localhost:8080/",
          "height": 52
        },
        "outputId": "b0d39f6c-c42c-4022-d2d2-de92aa5e5c45"
      },
      "source": [
        "pred_cb"
      ],
      "execution_count": null,
      "outputs": [
        {
          "output_type": "execute_result",
          "data": {
            "text/plain": [
              "array([35.72683421, 27.52850516, 19.71160232, ..., 35.51167656,\n",
              "       11.63234822, 11.3979454 ])"
            ]
          },
          "metadata": {
            "tags": []
          },
          "execution_count": 572
        }
      ]
    },
    {
      "cell_type": "code",
      "metadata": {
        "id": "pK4g_4gGqUJl",
        "colab_type": "code",
        "colab": {
          "base_uri": "https://localhost:8080/",
          "height": 52
        },
        "outputId": "35ba5ed1-f632-45e1-c230-0170eac7f945"
      },
      "source": [
        "#Averaging out predictions from both the models.\n",
        "pred_final =0.75*pred + 0.25*pred_cb\n",
        "pred_final"
      ],
      "execution_count": null,
      "outputs": [
        {
          "output_type": "execute_result",
          "data": {
            "text/plain": [
              "array([24.73741572, 23.20533808, 25.38219437, ..., 40.92537934,\n",
              "       12.26415559, 11.34140147])"
            ]
          },
          "metadata": {
            "tags": []
          },
          "execution_count": 573
        }
      ]
    },
    {
      "cell_type": "code",
      "metadata": {
        "id": "M2VDPtEvOBa0",
        "colab_type": "code",
        "colab": {
          "base_uri": "https://localhost:8080/",
          "height": 399
        },
        "outputId": "3ff3f649-66bf-4bbe-beb6-f3256e569cc9"
      },
      "source": [
        "df_solution = pd.DataFrame()\n",
        "df_solution['record_ID'] = test.record_ID\n",
        "df_solution['units_sold'] = pred_final\n",
        "df_solution"
      ],
      "execution_count": null,
      "outputs": [
        {
          "output_type": "execute_result",
          "data": {
            "text/html": [
              "<div>\n",
              "<style scoped>\n",
              "    .dataframe tbody tr th:only-of-type {\n",
              "        vertical-align: middle;\n",
              "    }\n",
              "\n",
              "    .dataframe tbody tr th {\n",
              "        vertical-align: top;\n",
              "    }\n",
              "\n",
              "    .dataframe thead th {\n",
              "        text-align: right;\n",
              "    }\n",
              "</style>\n",
              "<table border=\"1\" class=\"dataframe\">\n",
              "  <thead>\n",
              "    <tr style=\"text-align: right;\">\n",
              "      <th></th>\n",
              "      <th>record_ID</th>\n",
              "      <th>units_sold</th>\n",
              "    </tr>\n",
              "  </thead>\n",
              "  <tbody>\n",
              "    <tr>\n",
              "      <th>0</th>\n",
              "      <td>212645</td>\n",
              "      <td>24.737416</td>\n",
              "    </tr>\n",
              "    <tr>\n",
              "      <th>1</th>\n",
              "      <td>212646</td>\n",
              "      <td>23.205338</td>\n",
              "    </tr>\n",
              "    <tr>\n",
              "      <th>2</th>\n",
              "      <td>212647</td>\n",
              "      <td>25.382194</td>\n",
              "    </tr>\n",
              "    <tr>\n",
              "      <th>3</th>\n",
              "      <td>212648</td>\n",
              "      <td>27.191410</td>\n",
              "    </tr>\n",
              "    <tr>\n",
              "      <th>4</th>\n",
              "      <td>212649</td>\n",
              "      <td>24.100005</td>\n",
              "    </tr>\n",
              "    <tr>\n",
              "      <th>...</th>\n",
              "      <td>...</td>\n",
              "      <td>...</td>\n",
              "    </tr>\n",
              "    <tr>\n",
              "      <th>13855</th>\n",
              "      <td>232281</td>\n",
              "      <td>51.457583</td>\n",
              "    </tr>\n",
              "    <tr>\n",
              "      <th>13856</th>\n",
              "      <td>232282</td>\n",
              "      <td>36.385884</td>\n",
              "    </tr>\n",
              "    <tr>\n",
              "      <th>13857</th>\n",
              "      <td>232285</td>\n",
              "      <td>40.925379</td>\n",
              "    </tr>\n",
              "    <tr>\n",
              "      <th>13858</th>\n",
              "      <td>232286</td>\n",
              "      <td>12.264156</td>\n",
              "    </tr>\n",
              "    <tr>\n",
              "      <th>13859</th>\n",
              "      <td>232287</td>\n",
              "      <td>11.341401</td>\n",
              "    </tr>\n",
              "  </tbody>\n",
              "</table>\n",
              "<p>13860 rows × 2 columns</p>\n",
              "</div>"
            ],
            "text/plain": [
              "       record_ID  units_sold\n",
              "0         212645   24.737416\n",
              "1         212646   23.205338\n",
              "2         212647   25.382194\n",
              "3         212648   27.191410\n",
              "4         212649   24.100005\n",
              "...          ...         ...\n",
              "13855     232281   51.457583\n",
              "13856     232282   36.385884\n",
              "13857     232285   40.925379\n",
              "13858     232286   12.264156\n",
              "13859     232287   11.341401\n",
              "\n",
              "[13860 rows x 2 columns]"
            ]
          },
          "metadata": {
            "tags": []
          },
          "execution_count": 574
        }
      ]
    }
  ]
}